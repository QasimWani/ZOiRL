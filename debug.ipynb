{
 "cells": [
  {
   "cell_type": "code",
   "execution_count": 1,
   "metadata": {},
   "outputs": [],
   "source": [
    "# Run this again after editing submodules so Colab uses the updated versions\n",
    "from citylearn import CityLearn\n",
    "from pathlib import Path\n",
    "\n",
    "from TD3 import TD3 as Agent\n",
    "\n",
    "import sys\n",
    "import warnings\n",
    "\n",
    "import numpy as np\n",
    "import pandas as pd\n",
    "\n",
    "if not sys.warnoptions:\n",
    "    warnings.simplefilter(\"ignore\")\n",
    "\n",
    "# Load environment\n",
    "climate_zone = 5\n",
    "params = {\n",
    "    \"data_path\": Path(\"data/Climate_Zone_\" + str(climate_zone)),\n",
    "    \"building_attributes\": \"building_attributes.json\",\n",
    "    \"weather_file\": \"weather_data.csv\",\n",
    "    \"solar_profile\": \"solar_generation_1kW.csv\",\n",
    "    \"carbon_intensity\": \"carbon_intensity.csv\",\n",
    "    \"building_ids\": [\"Building_\" + str(i) for i in [1, 2, 3, 4, 5, 6, 7, 8, 9]],\n",
    "    \"buildings_states_actions\": \"buildings_state_action_space.json\",\n",
    "    \"simulation_period\": (0, 8760 * 4 - 1),\n",
    "    \"cost_function\": [\n",
    "        \"ramping\",\n",
    "        \"1-load_factor\",\n",
    "        \"average_daily_peak\",\n",
    "        \"peak_demand\",\n",
    "        \"net_electricity_consumption\",\n",
    "        \"carbon_emissions\",\n",
    "    ],\n",
    "    \"central_agent\": False,\n",
    "    \"save_memory\": False,\n",
    "}\n",
    "\n",
    "# Contain the lower and upper bounds of the states and actions, to be provided to the agent to normalize the variables between 0 and 1.\n",
    "env = CityLearn(**params)\n",
    "observations_spaces, actions_spaces = env.get_state_action_spaces()\n",
    "\n",
    "# Provides information on Building type, Climate Zone, Annual DHW demand, Annual Cooling Demand, Annual Electricity Demand, Solar Capacity, and correllations among buildings\n",
    "building_info = env.get_building_information()\n",
    "\n",
    "\n",
    "params_agent = {\n",
    "    \"building_ids\": [\"Building_\" + str(i) for i in [1, 2, 3, 4, 5, 6, 7, 8, 9]],\n",
    "    \"buildings_states_actions\": \"buildings_state_action_space.json\",\n",
    "    \"building_info\": building_info,\n",
    "    \"observation_spaces\": observations_spaces,\n",
    "    \"action_spaces\": actions_spaces,\n",
    "}"
   ]
  },
  {
   "cell_type": "code",
   "execution_count": null,
   "metadata": {
    "scrolled": false
   },
   "outputs": [
    {
     "name": "stdout",
     "output_type": "stream",
     "text": [
      "Time step: 95"
     ]
    }
   ],
   "source": [
    "# Instantiating the control agent(s)\n",
    "# agents = Agent(**params_agent)\n",
    "RBC_THRESHOLD = 48\n",
    "agents = Agent(\n",
    "    num_actions=actions_spaces,\n",
    "    num_buildings=len(observations_spaces),\n",
    "    env=env,\n",
    "    rbc_threshold=RBC_THRESHOLD,\n",
    ")\n",
    "\n",
    "state = env.reset()\n",
    "done = False\n",
    "\n",
    "action = agents.select_action(state)\n",
    "\n",
    "t_idx = 0\n",
    "end_time = RBC_THRESHOLD + 24 * 7\n",
    "\n",
    "while not done and t_idx <= end_time:\n",
    "\n",
    "    next_state, reward, done, _ = env.step(action)\n",
    "    action_next = agents.select_action(\n",
    "        next_state, env\n",
    "    )  # passing in environment for Oracle agent.\n",
    "    agents.add_to_buffer_oracle(env, action, reward)\n",
    "    # agents.add_to_buffer(state, action, reward, next_state, done)\n",
    "    state = next_state\n",
    "    action = action_next\n",
    "\n",
    "    t_idx += 1\n",
    "    \n",
    "    print(f\"\\rTime step: {agents.total_it}\", end=\"\")\n",
    "\n",
    "# env.cost()\n"
   ]
  },
  {
   "cell_type": "code",
   "execution_count": null,
   "metadata": {},
   "outputs": [],
   "source": []
  }
 ],
 "metadata": {
  "kernelspec": {
   "display_name": "Python 3",
   "language": "python",
   "name": "python3"
  },
  "language_info": {
   "codemirror_mode": {
    "name": "ipython",
    "version": 3
   },
   "file_extension": ".py",
   "mimetype": "text/x-python",
   "name": "python",
   "nbconvert_exporter": "python",
   "pygments_lexer": "ipython3",
   "version": "3.7.6"
  }
 },
 "nbformat": 4,
 "nbformat_minor": 4
}
