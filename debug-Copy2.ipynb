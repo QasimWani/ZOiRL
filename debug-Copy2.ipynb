{
 "cells": [
  {
   "cell_type": "code",
   "execution_count": 1,
   "metadata": {},
   "outputs": [
    {
     "ename": "KeyboardInterrupt",
     "evalue": "",
     "output_type": "error",
     "traceback": [
      "\u001b[0;31m---------------------------------------------------------------------------\u001b[0m",
      "\u001b[0;31mKeyboardInterrupt\u001b[0m                         Traceback (most recent call last)",
      "\u001b[0;32m<ipython-input-1-2ece9613b48b>\u001b[0m in \u001b[0;36m<module>\u001b[0;34m\u001b[0m\n\u001b[1;32m     32\u001b[0m \u001b[0;34m\u001b[0m\u001b[0m\n\u001b[1;32m     33\u001b[0m \u001b[0;31m# Contain the lower and upper bounds of the states and actions, to be provided to the agent to normalize the variables between 0 and 1.\u001b[0m\u001b[0;34m\u001b[0m\u001b[0;34m\u001b[0m\u001b[0;34m\u001b[0m\u001b[0m\n\u001b[0;32m---> 34\u001b[0;31m \u001b[0menv\u001b[0m \u001b[0;34m=\u001b[0m \u001b[0mCityLearn\u001b[0m\u001b[0;34m(\u001b[0m\u001b[0;34m**\u001b[0m\u001b[0mparams\u001b[0m\u001b[0;34m)\u001b[0m\u001b[0;34m\u001b[0m\u001b[0;34m\u001b[0m\u001b[0m\n\u001b[0m\u001b[1;32m     35\u001b[0m \u001b[0mobservations_spaces\u001b[0m\u001b[0;34m,\u001b[0m \u001b[0mactions_spaces\u001b[0m \u001b[0;34m=\u001b[0m \u001b[0menv\u001b[0m\u001b[0;34m.\u001b[0m\u001b[0mget_state_action_spaces\u001b[0m\u001b[0;34m(\u001b[0m\u001b[0;34m)\u001b[0m\u001b[0;34m\u001b[0m\u001b[0;34m\u001b[0m\u001b[0m\n\u001b[1;32m     36\u001b[0m \u001b[0;34m\u001b[0m\u001b[0m\n",
      "\u001b[0;32m~/Desktop/research/RL/CityLearn/ROLEVT/citylearn.py\u001b[0m in \u001b[0;36m__init__\u001b[0;34m(self, data_path, building_attributes, weather_file, solar_profile, building_ids, carbon_intensity, buildings_states_actions, simulation_period, cost_function, central_agent, save_memory, verbose)\u001b[0m\n\u001b[1;32m    553\u001b[0m         \u001b[0mself\u001b[0m\u001b[0;34m.\u001b[0m\u001b[0muid\u001b[0m \u001b[0;34m=\u001b[0m \u001b[0;32mNone\u001b[0m\u001b[0;34m\u001b[0m\u001b[0;34m\u001b[0m\u001b[0m\n\u001b[1;32m    554\u001b[0m         \u001b[0mself\u001b[0m\u001b[0;34m.\u001b[0m\u001b[0mn_buildings\u001b[0m \u001b[0;34m=\u001b[0m \u001b[0mlen\u001b[0m\u001b[0;34m(\u001b[0m\u001b[0;34m[\u001b[0m\u001b[0mi\u001b[0m \u001b[0;32mfor\u001b[0m \u001b[0mi\u001b[0m \u001b[0;32min\u001b[0m \u001b[0mself\u001b[0m\u001b[0;34m.\u001b[0m\u001b[0mbuildings\u001b[0m\u001b[0;34m]\u001b[0m\u001b[0;34m)\u001b[0m\u001b[0;34m\u001b[0m\u001b[0;34m\u001b[0m\u001b[0m\n\u001b[0;32m--> 555\u001b[0;31m         \u001b[0mself\u001b[0m\u001b[0;34m.\u001b[0m\u001b[0mreset\u001b[0m\u001b[0;34m(\u001b[0m\u001b[0;34m)\u001b[0m\u001b[0;34m\u001b[0m\u001b[0;34m\u001b[0m\u001b[0m\n\u001b[0m\u001b[1;32m    556\u001b[0m \u001b[0;34m\u001b[0m\u001b[0m\n\u001b[1;32m    557\u001b[0m     \u001b[0;32mdef\u001b[0m \u001b[0mget_state_action_spaces\u001b[0m\u001b[0;34m(\u001b[0m\u001b[0mself\u001b[0m\u001b[0;34m)\u001b[0m\u001b[0;34m:\u001b[0m\u001b[0;34m\u001b[0m\u001b[0;34m\u001b[0m\u001b[0m\n",
      "\u001b[0;32m~/Desktop/research/RL/CityLearn/ROLEVT/citylearn.py\u001b[0m in \u001b[0;36mreset\u001b[0;34m(self)\u001b[0m\n\u001b[1;32m   1029\u001b[0m         \u001b[0;32melse\u001b[0m\u001b[0;34m:\u001b[0m\u001b[0;34m\u001b[0m\u001b[0;34m\u001b[0m\u001b[0m\n\u001b[1;32m   1030\u001b[0m             self.reward_function = reward_function_ma(\n\u001b[0;32m-> 1031\u001b[0;31m                 \u001b[0mlen\u001b[0m\u001b[0;34m(\u001b[0m\u001b[0mself\u001b[0m\u001b[0;34m.\u001b[0m\u001b[0mbuilding_ids\u001b[0m\u001b[0;34m)\u001b[0m\u001b[0;34m,\u001b[0m \u001b[0mself\u001b[0m\u001b[0;34m.\u001b[0m\u001b[0mget_building_information\u001b[0m\u001b[0;34m(\u001b[0m\u001b[0;34m)\u001b[0m\u001b[0;34m\u001b[0m\u001b[0;34m\u001b[0m\u001b[0m\n\u001b[0m\u001b[1;32m   1032\u001b[0m             )\n\u001b[1;32m   1033\u001b[0m \u001b[0;34m\u001b[0m\u001b[0m\n",
      "\u001b[0;32m~/Desktop/research/RL/CityLearn/ROLEVT/citylearn.py\u001b[0m in \u001b[0;36mget_building_information\u001b[0;34m(self)\u001b[0m\n\u001b[1;32m    595\u001b[0m                         (\n\u001b[1;32m    596\u001b[0m                             np.corrcoef(\n\u001b[0;32m--> 597\u001b[0;31m                                 \u001b[0mnp\u001b[0m\u001b[0;34m.\u001b[0m\u001b[0marray\u001b[0m\u001b[0;34m(\u001b[0m\u001b[0mbuilding\u001b[0m\u001b[0;34m.\u001b[0m\u001b[0msim_results\u001b[0m\u001b[0;34m[\u001b[0m\u001b[0;34m\"dhw_demand\"\u001b[0m\u001b[0;34m]\u001b[0m\u001b[0;34m)\u001b[0m\u001b[0;34m,\u001b[0m\u001b[0;34m\u001b[0m\u001b[0;34m\u001b[0m\u001b[0m\n\u001b[0m\u001b[1;32m    598\u001b[0m                                 \u001b[0mnp\u001b[0m\u001b[0;34m.\u001b[0m\u001b[0marray\u001b[0m\u001b[0;34m(\u001b[0m\u001b[0mbuilding_corr\u001b[0m\u001b[0;34m.\u001b[0m\u001b[0msim_results\u001b[0m\u001b[0;34m[\u001b[0m\u001b[0;34m\"dhw_demand\"\u001b[0m\u001b[0;34m]\u001b[0m\u001b[0;34m)\u001b[0m\u001b[0;34m,\u001b[0m\u001b[0;34m\u001b[0m\u001b[0;34m\u001b[0m\u001b[0m\n\u001b[1;32m    599\u001b[0m                             )\n",
      "\u001b[0;31mKeyboardInterrupt\u001b[0m: "
     ]
    }
   ],
   "source": [
    "# Run this again after editing submodules so Colab uses the updated versions\n",
    "from citylearn import CityLearn\n",
    "from pathlib import Path\n",
    "from agent_final_grad20 import Agent\n",
    "import numpy as np\n",
    "import torch\n",
    "\n",
    "import time\n",
    "# Load environment\n",
    "climate_zone = 5\n",
    "params = {\n",
    "    \"data_path\": Path(\"data/Climate_Zone_\" + str(climate_zone)),\n",
    "    \"building_attributes\": \"building_attributes.json\",\n",
    "    \"weather_file\": \"weather_data.csv\",\n",
    "    \"solar_profile\": \"solar_generation_1kW.csv\",\n",
    "    \"carbon_intensity\": \"carbon_intensity.csv\",\n",
    "    \"building_ids\": [\"Building_\" + str(i) for i in [1, 2, 3, 4, 5, 6, 7, 8, 9]],\n",
    "    \"buildings_states_actions\": \"buildings_state_action_space.json\",\n",
    "    \"simulation_period\": (0, 8760 * 2 - 1),\n",
    "    \"cost_function\": [\n",
    "        \"ramping\",\n",
    "        \"1-load_factor\",\n",
    "        \"average_daily_peak\",\n",
    "        \"peak_demand\",\n",
    "        \"net_electricity_consumption\",\n",
    "        \"carbon_emissions\",\n",
    "    ],\n",
    "    \"central_agent\": False,\n",
    "    \"save_memory\": False,\n",
    "}\n",
    "\n",
    "# Contain the lower and upper bounds of the states and actions, to be provided to the agent to normalize the variables between 0 and 1.\n",
    "env = CityLearn(**params)\n",
    "observations_spaces, actions_spaces = env.get_state_action_spaces()\n",
    "\n",
    "# Provides information on Building type, Climate Zone, Annual DHW demand, Annual Cooling Demand, Annual Electricity Demand, Solar Capacity, and correllations among buildings\n",
    "building_info = env.get_building_information()\n",
    "\n",
    "params_agent = {\n",
    "    \"building_ids\": [\"Building_\" + str(i) for i in [1, 2, 3, 4, 5, 6, 7, 8, 9]],\n",
    "    \"buildings_states_actions\": \"buildings_state_action_space.json\",\n",
    "    \"building_info\": building_info,\n",
    "    \"observation_spaces\": observations_spaces,\n",
    "    \"action_spaces\": actions_spaces,\n",
    "}\n",
    "\n",
    "# Instantiating the control agent(s)\n",
    "agents = Agent(**params_agent)\n",
    "\n",
    "state = env.reset()\n",
    "done = False\n",
    "\n",
    "action, coordination_vars = agents.select_action(state)\n",
    "start = time.time()\n",
    "while not done:\n",
    "    next_state, reward, done, _ = env.step(action)\n",
    "    action_next, coordination_vars_next = agents.select_action(next_state)\n",
    "    agents.add_to_buffer(\n",
    "        state,\n",
    "        action,\n",
    "        reward,\n",
    "        next_state,\n",
    "        done,\n",
    "        coordination_vars,\n",
    "        coordination_vars_next,\n",
    "    )\n",
    "    coordination_vars = coordination_vars_next\n",
    "    state = next_state\n",
    "    action = action_next\n",
    "    print(f\"\\r {env.time_step}\", end=\"\")\n",
    "\n",
    "print(f\"\\ntotal time (min): {np.round((time.time() - start)/60, 3)}\")\n",
    "\n",
    "cost = env.cost()\n",
    "cost_details = env.cost_detailed_view()"
   ]
  },
  {
   "cell_type": "code",
   "execution_count": null,
   "metadata": {},
   "outputs": [],
   "source": [
    "cost"
   ]
  },
  {
   "cell_type": "code",
   "execution_count": null,
   "metadata": {
    "scrolled": false
   },
   "outputs": [],
   "source": [
    "print(\"Building ID\\tTotal Cost\\tTotal Cost Last Year\")\n",
    "for k, v in cost_details.items():\n",
    "    print(k, v[\"cost\"][\"total\"], v[\"cost_last_year\"][\"total_last_yr\"])"
   ]
  },
  {
   "cell_type": "code",
   "execution_count": null,
   "metadata": {},
   "outputs": [],
   "source": [
    "agents.actor.scs_cnt"
   ]
  },
  {
   "cell_type": "code",
   "execution_count": null,
   "metadata": {},
   "outputs": [],
   "source": [
    "agents.actor.fail_cnt"
   ]
  }
 ],
 "metadata": {
  "kernelspec": {
   "display_name": "Python 3",
   "language": "python",
   "name": "python3"
  },
  "language_info": {
   "codemirror_mode": {
    "name": "ipython",
    "version": 3
   },
   "file_extension": ".py",
   "mimetype": "text/x-python",
   "name": "python",
   "nbconvert_exporter": "python",
   "pygments_lexer": "ipython3",
   "version": "3.7.6"
  }
 },
 "nbformat": 4,
 "nbformat_minor": 4
}
