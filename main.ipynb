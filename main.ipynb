{
 "cells": [
  {
   "cell_type": "code",
   "execution_count": 1,
   "metadata": {
    "scrolled": false
   },
   "outputs": [
    {
     "name": "stderr",
     "output_type": "stream",
     "text": [
      "/usr/local/lib/python3.9/site-packages/diffcp/cones.py:7: DeprecationWarning: distutils Version classes are deprecated. Use packaging.version instead.\n",
      "  if StrictVersion(scs.__version__) >= StrictVersion('3.0.0'):\n"
     ]
    }
   ],
   "source": [
    "import warnings\n",
    "warnings.simplefilter(\"always\")\n",
    "\n",
    "# Run this again after editing submodules so Colab uses the updated versions\n",
    "from citylearn import  CityLearn\n",
    "from pathlib import Path\n",
    "from TD3 import Agent as Agent\n",
    "import numpy as np                                                                                                                                                                                      \n",
    "import torch\n",
    "import matplotlib.pyplot as plt\n",
    "import time\n",
    "from tqdm import tqdm\n",
    "from utils import agent_checkpoint_cost\n",
    "import seaborn as sns\n",
    "import os"
   ]
  },
  {
   "cell_type": "code",
   "execution_count": 2,
   "metadata": {},
   "outputs": [
    {
     "name": "stdout",
     "output_type": "stream",
     "text": [
      "Time taken to add RBC pretrained model (sec): 15.466\n"
     ]
    }
   ],
   "source": [
    "# Load environment\n",
    "climate_zone = 1\n",
    "end_time = 8759 # total number of hours to train for\n",
    "cost_analysis = 24 # analyze costs every x hours\n",
    "checkpoint = 24 * 7 # save parameters every x hours\n",
    "\n",
    "params = {'data_path':Path(\"data/Climate_Zone_\"+str(climate_zone)), \n",
    "        'building_attributes':'building_attributes.json', \n",
    "        'weather_file':'weather_data.csv', \n",
    "        'solar_profile':'solar_generation_1kW.csv', \n",
    "        'carbon_intensity':'carbon_intensity.csv',\n",
    "        'building_ids':[\"Building_\"+str(i) for i in [1,2,3,4,5,6,7,8,9]],\n",
    "        'buildings_states_actions':'buildings_state_action_space.json', \n",
    "        'simulation_period': (0, end_time), \n",
    "        'cost_function': ['ramping','1-load_factor','average_daily_peak','peak_demand','net_electricity_consumption','carbon_emissions'], \n",
    "        'central_agent': False,\n",
    "        'cost_analysis' : cost_analysis,\n",
    "        'save_memory': False }\n",
    "\n",
    "# Contain the lower and upper bounds of the states and actions, to be provided to the agent to normalize the variables between 0 and 1.\n",
    "env = CityLearn(**params)\n",
    "env.pretrain_baseline_model((0, end_time))\n",
    "\n",
    "observations_spaces, actions_spaces = env.get_state_action_spaces()\n",
    "\n",
    "# Provides information on Building type, Climate Zone, Annual DHW demand, Annual Cooling Demand, Annual Electricity Demand, Solar Capacity, and correllations among buildings\n",
    "building_info = env.get_building_information()"
   ]
  },
  {
   "cell_type": "code",
   "execution_count": 3,
   "metadata": {},
   "outputs": [],
   "source": [
    "def get_mse_critic():\n",
    "    if not agent.did_i_just_finish_training():\n",
    "            return None, None\n",
    "    try:\n",
    "        data = {}\n",
    "        NUM_DAYS = len(agent.critic_optim.debug['ramping_cost'])\n",
    "\n",
    "        for key, _d in agent.critic_optim.debug.items():\n",
    "            data[key] = []\n",
    "            for day in _d:\n",
    "                data[key].append(day.value)\n",
    "            data[key] = np.reshape(data[key], (NUM_DAYS * 24))\n",
    "\n",
    "        rc = data['ramping_cost']\n",
    "        peak = data['peak_net_electricity_cost']\n",
    "        ec = data['electricity_cost']\n",
    "\n",
    "        A = np.vstack((-rc, -peak)).T\n",
    "        y = np.reshape(agent.critic_optim.problem.param_dict['y_r'].value, (NUM_DAYS * 24))\n",
    "\n",
    "        x, residuals, rank, s = np.linalg.lstsq(A, y, rcond=None)\n",
    "        # print(f\"Rank: {rank}\\tCondition Number: {np.linalg.cond(A)}\")\n",
    "        # print(f\"MSE across {NUM_DAYS} days: {round(np.linalg.norm(A@x - y), 5)}\")\n",
    "        return round(np.linalg.norm(A@x - y), 5), round(np.linalg.cond(A), 3)\n",
    "    except:\n",
    "        return None, None"
   ]
  },
  {
   "cell_type": "code",
   "execution_count": 49,
   "metadata": {},
   "outputs": [
    {
     "data": {
      "text/plain": [
       "(9, 30)"
      ]
     },
     "execution_count": 49,
     "metadata": {},
     "output_type": "execute_result"
    }
   ],
   "source": [
    "env._get_ob().shape"
   ]
  },
  {
   "cell_type": "code",
   "execution_count": 4,
   "metadata": {
    "scrolled": false
   },
   "outputs": [
    {
     "name": "stderr",
     "output_type": "stream",
     "text": [
      "Cost: 1.41259 , ZOiRL: 1.406 , %improvement: 0.495:   5%| | 479/8759 [00:30<20:3"
     ]
    },
    {
     "name": "stdout",
     "output_type": "stream",
     "text": [
      "E2E\tBuilding: 8, r: 20\u001b[H\u001b[2J\u001b[H\u001b[2J"
     ]
    },
    {
     "name": "stderr",
     "output_type": "stream",
     "text": [
      "Cost: 1.40576 , ZOiRL: 1.403 , %improvement: 0.216:   5%| | 480/8759 [06:24<180:"
     ]
    },
    {
     "name": "stdout",
     "output_type": "stream",
     "text": [
      "\r",
      "E2E\tBuilding: 8, r: 21\u001b[H\u001b[2J\r",
      "E2E\tBuilding: 8, r: 22\u001b[H\u001b[2J\r",
      "E2E\tBuilding: 8, r: 23\u001b[H\u001b[2J\r",
      "Time taken for training: 353.77\u001b[H\u001b[2J\r\n",
      "MODEL COSTS:\u001b[H\u001b[2J\r",
      "Building 0: -20565.341\u001b[H\u001b[2J\r",
      "Building 8: -4798.927\u001b[H\u001b[2J"
     ]
    },
    {
     "name": "stderr",
     "output_type": "stream",
     "text": [
      "Cost: 1.3802 , ZOiRL: 1.373 , %improvement: 0.547\tCritic MSE: 1014.19216\tConditi"
     ]
    },
    {
     "name": "stdout",
     "output_type": "stream",
     "text": [
      "E2E\tBuilding: 8, r: 22\u001b[H\u001b[2J\u001b[H\u001b[2J\u001b[H\u001b[2J"
     ]
    },
    {
     "name": "stderr",
     "output_type": "stream",
     "text": [
      "Cost: 1.37283 , ZOiRL: 1.37 , %improvement: 0.172\tCritic MSE: 1014.19216\tConditi"
     ]
    },
    {
     "name": "stdout",
     "output_type": "stream",
     "text": [
      "\r",
      "E2E\tBuilding: 8, r: 23\u001b[H\u001b[2J\r",
      "Time taken for training: 398.35\u001b[H\u001b[2J\r\n",
      "MODEL COSTS:\u001b[H\u001b[2J\r",
      "Building 0: -76541.056\u001b[H\u001b[2J\r",
      "Building 8: -1396.23\u001b[H\u001b[2J"
     ]
    },
    {
     "name": "stderr",
     "output_type": "stream",
     "text": [
      "Cost: 1.34176 , ZOiRL: 1.337 , %improvement: 0.337\tCritic MSE: 2119.67569\tCondit"
     ]
    },
    {
     "name": "stdout",
     "output_type": "stream",
     "text": [
      "E2E\tBuilding: 8, r: 22\u001b[H\u001b[2J\u001b[H\u001b[2J"
     ]
    },
    {
     "name": "stderr",
     "output_type": "stream",
     "text": [
      "Cost: 1.33741 , ZOiRL: 1.335 , %improvement: 0.156\tCritic MSE: 2119.67569\tCondit"
     ]
    },
    {
     "name": "stdout",
     "output_type": "stream",
     "text": [
      "\r",
      "E2E\tBuilding: 8, r: 23\u001b[H\u001b[2J\r",
      "Time taken for training: 379.59\u001b[H\u001b[2J\r\n",
      "MODEL COSTS:\u001b[H\u001b[2J\r",
      "Building 0: -24066.145\u001b[H\u001b[2J\r",
      "Building 8: -5590.191\u001b[H\u001b[2J"
     ]
    },
    {
     "name": "stderr",
     "output_type": "stream",
     "text": [
      "Cost: 1.3035 , ZOiRL: 1.286 , %improvement: 1.33\tCritic MSE: 1136.0298\tCondition"
     ]
    },
    {
     "name": "stdout",
     "output_type": "stream",
     "text": [
      "E2E\tBuilding: 8, r: 21\u001b[H\u001b[2J\u001b[H\u001b[2J\u001b[H\u001b[2J\u001b[H\u001b[2J"
     ]
    },
    {
     "name": "stderr",
     "output_type": "stream",
     "text": [
      "Cost: 1.29132 , ZOiRL: 1.286 , %improvement: 0.434\tCritic MSE: 1136.0298\tConditi"
     ]
    },
    {
     "name": "stdout",
     "output_type": "stream",
     "text": [
      "\r",
      "E2E\tBuilding: 8, r: 22\u001b[H\u001b[2J\r",
      "E2E\tBuilding: 8, r: 23\u001b[H\u001b[2J\r",
      "Time taken for training: 404.83\u001b[H\u001b[2J\r\n",
      "MODEL COSTS:\u001b[H\u001b[2J\r",
      "Building 0: -103563.5\u001b[H\u001b[2J\r",
      "Building 8: -2031.415\u001b[H\u001b[2J"
     ]
    },
    {
     "name": "stderr",
     "output_type": "stream",
     "text": [
      "Cost: 1.26899 , ZOiRL: 1.261 , %improvement: 0.625\tCritic MSE: 1922.32898\tCondit"
     ]
    },
    {
     "name": "stdout",
     "output_type": "stream",
     "text": [
      "E2E\tBuilding: 8, r: 23\u001b[H\u001b[2J\u001b[H\u001b[2J"
     ]
    },
    {
     "name": "stderr",
     "output_type": "stream",
     "text": [
      "Cost: 1.26361 , ZOiRL: 1.261 , %improvement: 0.238\tCritic MSE: 1922.32898\tCondit"
     ]
    },
    {
     "name": "stdout",
     "output_type": "stream",
     "text": [
      "\u001b[H\u001b[2J\r",
      "Time taken for training: 491.79\u001b[H\u001b[2J\r\n",
      "MODEL COSTS:\u001b[H\u001b[2J\r",
      "Building 0: -30541.453\u001b[H\u001b[2J\r",
      "Building 8: -6519.999\u001b[H\u001b[2J"
     ]
    },
    {
     "name": "stderr",
     "output_type": "stream",
     "text": [
      "Cost: 1.25587 , ZOiRL: 1.254 , %improvement: 0.149\tCritic MSE: 975.27288\tConditi"
     ]
    },
    {
     "name": "stdout",
     "output_type": "stream",
     "text": [
      "E2E\tBuilding: 8, r: 23\u001b[H\u001b[2J\u001b[H\u001b[2J\u001b[H\u001b[2J\u001b[H\u001b[2J\u001b[H\u001b[2J"
     ]
    },
    {
     "name": "stderr",
     "output_type": "stream",
     "text": [
      "Cost: 1.25645 , ZOiRL: 1.253 , %improvement: 0.265\tCritic MSE: 975.27288\tConditi"
     ]
    },
    {
     "name": "stdout",
     "output_type": "stream",
     "text": [
      "\u001b[H\u001b[2J\r",
      "Time taken for training: 383.79\u001b[H\u001b[2J\r\n",
      "MODEL COSTS:\u001b[H\u001b[2J\r",
      "Building 0: -15440.466\u001b[H\u001b[2J\r",
      "Building 8: -4502.865\u001b[H\u001b[2J"
     ]
    },
    {
     "name": "stderr",
     "output_type": "stream",
     "text": [
      "Cost: 1.24605 , ZOiRL: 1.241 , %improvement: 0.401\tCritic MSE: 1045.5433\tConditi"
     ]
    },
    {
     "name": "stdout",
     "output_type": "stream",
     "text": [
      "E2E\tBuilding: 8, r: 22\u001b[H\u001b[2J\u001b[H\u001b[2J\u001b[H\u001b[2J"
     ]
    },
    {
     "name": "stderr",
     "output_type": "stream",
     "text": [
      "Cost: 1.24336 , ZOiRL: 1.241 , %improvement: 0.213\tCritic MSE: 1045.5433\tConditi"
     ]
    },
    {
     "name": "stdout",
     "output_type": "stream",
     "text": [
      "\r",
      "E2E\tBuilding: 8, r: 23\u001b[H\u001b[2J\r",
      "Time taken for training: 338.99\u001b[H\u001b[2J\r\n",
      "MODEL COSTS:\u001b[H\u001b[2J\r",
      "Building 0: -256126.193\u001b[H\u001b[2J\r",
      "Building 8: -1974.488\u001b[H\u001b[2J"
     ]
    },
    {
     "name": "stderr",
     "output_type": "stream",
     "text": [
      "Cost: 1.23988 , ZOiRL: 1.236 , %improvement: 0.309\tCritic MSE: 753.22825\tConditi"
     ]
    },
    {
     "name": "stdout",
     "output_type": "stream",
     "text": [
      "E2E\tBuilding: 8, r: 22\u001b[H\u001b[2J\u001b[H\u001b[2J"
     ]
    },
    {
     "name": "stderr",
     "output_type": "stream",
     "text": [
      "Cost: 1.23852 , ZOiRL: 1.235 , %improvement: 0.251\tCritic MSE: 753.22825\tConditi"
     ]
    },
    {
     "name": "stdout",
     "output_type": "stream",
     "text": [
      "\r",
      "E2E\tBuilding: 8, r: 23\u001b[H\u001b[2J\r",
      "Time taken for training: 335.18\u001b[H\u001b[2J\r\n",
      "MODEL COSTS:\u001b[H\u001b[2J\r",
      "Building 0: -74258.803\u001b[H\u001b[2J\r",
      "Building 8: -5048.138\u001b[H\u001b[2J"
     ]
    },
    {
     "name": "stderr",
     "output_type": "stream",
     "text": [
      "Cost: 1.23112 , ZOiRL: 1.23 , %improvement: 0.062\tCritic MSE: 908.39703\tConditio"
     ]
    },
    {
     "name": "stdout",
     "output_type": "stream",
     "text": [
      "E2E\tBuilding: 8, r: 23\u001b[H\u001b[2J\u001b[H\u001b[2J\u001b[H\u001b[2J"
     ]
    },
    {
     "name": "stderr",
     "output_type": "stream",
     "text": [
      "Cost: 1.23028 , ZOiRL: 1.23 , %improvement: 0.007\tCritic MSE: 908.39703\tConditio"
     ]
    },
    {
     "name": "stdout",
     "output_type": "stream",
     "text": [
      "\r",
      "Time taken for training: 363.11\u001b[H\u001b[2J\r\n",
      "MODEL COSTS:\u001b[H\u001b[2J\r",
      "Building 0: -171701.453\u001b[H\u001b[2J\r",
      "Building 8: -9613.339\u001b[H\u001b[2J"
     ]
    },
    {
     "name": "stderr",
     "output_type": "stream",
     "text": [
      "Cost: 1.22534 , ZOiRL: 1.226 , %improvement: -0.081\tCritic MSE: 1161.54718\tCondi"
     ]
    },
    {
     "name": "stdout",
     "output_type": "stream",
     "text": [
      "E2E\tBuilding: 8, r: 20\u001b[H\u001b[2J\u001b[H\u001b[2J\u001b[H\u001b[2J\u001b[H\u001b[2J\u001b[H\u001b[2J"
     ]
    },
    {
     "name": "stderr",
     "output_type": "stream",
     "text": [
      "Cost: 1.22444 , ZOiRL: 1.226 , %improvement: -0.129\tCritic MSE: 1161.54718\tCondi"
     ]
    },
    {
     "name": "stdout",
     "output_type": "stream",
     "text": [
      "\r",
      "E2E\tBuilding: 8, r: 21\u001b[H\u001b[2J\r",
      "E2E\tBuilding: 8, r: 22\u001b[H\u001b[2J\r",
      "E2E\tBuilding: 8, r: 23\u001b[H\u001b[2J\r",
      "Time taken for training: 417.45\u001b[H\u001b[2J\r\n",
      "MODEL COSTS:\u001b[H\u001b[2J\r",
      "Building 0: -160673.63\u001b[H\u001b[2J\r",
      "Building 8: -6213.194\u001b[H\u001b[2J"
     ]
    },
    {
     "name": "stderr",
     "output_type": "stream",
     "text": [
      "Cost: 1.222 , ZOiRL: 1.198 , %improvement: 2.024\tCritic MSE: 1527.37729\tConditio"
     ]
    },
    {
     "name": "stdout",
     "output_type": "stream",
     "text": [
      "E2E\tBuilding: 8, r: 21\u001b[H\u001b[2J\u001b[H\u001b[2J\u001b[H\u001b[2J\u001b[H\u001b[2J"
     ]
    },
    {
     "name": "stderr",
     "output_type": "stream",
     "text": [
      "Cost: 1.19579 , ZOiRL: 1.198 , %improvement: -0.145\tCritic MSE: 1527.37729\tCondi"
     ]
    },
    {
     "name": "stdout",
     "output_type": "stream",
     "text": [
      "\r",
      "E2E\tBuilding: 8, r: 22\u001b[H\u001b[2J\r",
      "E2E\tBuilding: 8, r: 23\u001b[H\u001b[2J\r",
      "Time taken for training: 387.23\u001b[H\u001b[2J\r\n",
      "MODEL COSTS:\u001b[H\u001b[2J\r",
      "Building 0: -93952.672\u001b[H\u001b[2J\r",
      "Building 8: -3911.262\u001b[H\u001b[2J"
     ]
    },
    {
     "name": "stderr",
     "output_type": "stream",
     "text": [
      "Cost: 1.17414 , ZOiRL: 1.183 , %improvement: -0.729\tCritic MSE: 2261.88645\tCondi"
     ]
    },
    {
     "name": "stdout",
     "output_type": "stream",
     "text": [
      "E2E\tBuilding: 8, r: 22\u001b[H\u001b[2J\u001b[H\u001b[2J"
     ]
    },
    {
     "name": "stderr",
     "output_type": "stream",
     "text": [
      "Cost: 1.17342 , ZOiRL: 1.183 , %improvement: -0.781\tCritic MSE: 2261.88645\tCondi"
     ]
    },
    {
     "name": "stdout",
     "output_type": "stream",
     "text": [
      "\r",
      "E2E\tBuilding: 8, r: 23\u001b[H\u001b[2J\r",
      "Time taken for training: 417.42\u001b[H\u001b[2J\r\n",
      "MODEL COSTS:\u001b[H\u001b[2J\r",
      "Building 0: -147999.684\u001b[H\u001b[2J\r",
      "Building 8: -9250.485\u001b[H\u001b[2J"
     ]
    },
    {
     "name": "stderr",
     "output_type": "stream",
     "text": [
      "Cost: 1.17128 , ZOiRL: 1.179 , %improvement: -0.634\tCritic MSE: 1482.8328\tCondit"
     ]
    },
    {
     "name": "stdout",
     "output_type": "stream",
     "text": [
      "E2E\tBuilding: 8, r: 21\u001b[H\u001b[2J\u001b[H\u001b[2J\u001b[H\u001b[2J\u001b[H\u001b[2J"
     ]
    },
    {
     "name": "stderr",
     "output_type": "stream",
     "text": [
      "Cost: 1.1702 , ZOiRL: 1.179 , %improvement: -0.708\tCritic MSE: 1482.8328\tConditi"
     ]
    },
    {
     "name": "stdout",
     "output_type": "stream",
     "text": [
      "\r",
      "E2E\tBuilding: 8, r: 22\u001b[H\u001b[2J\r",
      "E2E\tBuilding: 8, r: 23\u001b[H\u001b[2J\r",
      "Time taken for training: 345.27\u001b[H\u001b[2J\r\n",
      "MODEL COSTS:\u001b[H\u001b[2J\r",
      "Building 0: -39809.216\u001b[H\u001b[2J\r",
      "Building 8: -7873.419\u001b[H\u001b[2J"
     ]
    },
    {
     "name": "stderr",
     "output_type": "stream",
     "text": [
      "Cost: 1.16826 , ZOiRL: 1.176 , %improvement: -0.684\tCritic MSE: 1277.78408\tCondi"
     ]
    },
    {
     "name": "stdout",
     "output_type": "stream",
     "text": [
      "E2E\tBuilding: 8, r: 22\u001b[H\u001b[2J\u001b[H\u001b[2J\u001b[H\u001b[2J\u001b[H\u001b[2J\u001b[H\u001b[2J\u001b[H\u001b[2J"
     ]
    },
    {
     "name": "stderr",
     "output_type": "stream",
     "text": [
      "Cost: 1.16792 , ZOiRL: 1.176 , %improvement: -0.711\tCritic MSE: 1277.78408\tCondi"
     ]
    },
    {
     "name": "stdout",
     "output_type": "stream",
     "text": [
      "\r",
      "E2E\tBuilding: 8, r: 23\u001b[H\u001b[2J\r",
      "Time taken for training: 438.36\u001b[H\u001b[2J\r\n",
      "MODEL COSTS:\u001b[H\u001b[2J\r",
      "Building 0: -122396.951\u001b[H\u001b[2J\r",
      "Building 8: -13258.0\u001b[H\u001b[2J"
     ]
    },
    {
     "name": "stderr",
     "output_type": "stream",
     "text": [
      "Cost: 1.16831 , ZOiRL: 1.182 , %improvement: -1.137\tCritic MSE: 2583.46969\tCondi"
     ]
    },
    {
     "name": "stdout",
     "output_type": "stream",
     "text": [
      "E2E\tBuilding: 8, r: 20\u001b[H\u001b[2J\u001b[H\u001b[2J\u001b[H\u001b[2J\u001b[H\u001b[2J"
     ]
    },
    {
     "name": "stderr",
     "output_type": "stream",
     "text": [
      "Cost: 1.17751 , ZOiRL: 1.181 , %improvement: -0.334\tCritic MSE: 2583.46969\tCondi"
     ]
    },
    {
     "name": "stdout",
     "output_type": "stream",
     "text": [
      "\r",
      "E2E\tBuilding: 8, r: 21\u001b[H\u001b[2J\r",
      "E2E\tBuilding: 8, r: 22\u001b[H\u001b[2J\r",
      "E2E\tBuilding: 8, r: 23\u001b[H\u001b[2J\r",
      "Time taken for training: 408.38\u001b[H\u001b[2J\r\n",
      "MODEL COSTS:\u001b[H\u001b[2J\r",
      "Building 0: -125280.608\u001b[H\u001b[2J\r",
      "Building 8: -4128.989\u001b[H\u001b[2J"
     ]
    },
    {
     "name": "stderr",
     "output_type": "stream",
     "text": [
      "Cost: 1.17717 , ZOiRL: 1.18 , %improvement: -0.237\tCritic MSE: 2239.36795\tCondit"
     ]
    },
    {
     "name": "stdout",
     "output_type": "stream",
     "text": [
      "E2E\tBuilding: 8, r: 22\u001b[H\u001b[2J\u001b[H\u001b[2J"
     ]
    },
    {
     "name": "stderr",
     "output_type": "stream",
     "text": [
      "Cost: 1.17554 , ZOiRL: 1.18 , %improvement: -0.375\tCritic MSE: 2239.36795\tCondit"
     ]
    },
    {
     "name": "stdout",
     "output_type": "stream",
     "text": [
      "\r",
      "E2E\tBuilding: 8, r: 23\u001b[H\u001b[2J\r",
      "Time taken for training: 470.56\u001b[H\u001b[2J\r\n",
      "MODEL COSTS:\u001b[H\u001b[2J\r",
      "Building 0: -225600.243\u001b[H\u001b[2J\r",
      "Building 8: -5012.898\u001b[H\u001b[2J"
     ]
    },
    {
     "name": "stderr",
     "output_type": "stream",
     "text": [
      "Cost: 1.17526 , ZOiRL: 1.18 , %improvement: -0.431\tCritic MSE: 3057.1283\tConditi"
     ]
    },
    {
     "name": "stdout",
     "output_type": "stream",
     "text": [
      "E2E\tBuilding: 8, r: 19\u001b[H\u001b[2J\u001b[H\u001b[2J\u001b[H\u001b[2J\u001b[H\u001b[2J"
     ]
    },
    {
     "name": "stderr",
     "output_type": "stream",
     "text": [
      "\r",
      "Cost: 1.17536 , ZOiRL: 1.18 , %improvement: -0.425\tCritic MSE: 3057.1283\tConditi"
     ]
    },
    {
     "name": "stdout",
     "output_type": "stream",
     "text": [
      "\r",
      "E2E\tBuilding: 8, r: 20\u001b[H\u001b[2J\r",
      "E2E\tBuilding: 8, r: 21\u001b[H\u001b[2J\r",
      "E2E\tBuilding: 8, r: 22\u001b[H\u001b[2J\r",
      "E2E\tBuilding: 8, r: 23\u001b[H\u001b[2J\r",
      "Time taken for training: 404.59\u001b[H\u001b[2J\r\n",
      "MODEL COSTS:\u001b[H\u001b[2J\r",
      "Building 0: -211203.544\u001b[H\u001b[2J\r",
      "Building 8: -9302.43\u001b[H\u001b[2J"
     ]
    },
    {
     "name": "stderr",
     "output_type": "stream",
     "text": [
      "Cost: 1.17243 , ZOiRL: 1.172 , %improvement: 0.003\tCritic MSE: 2667.21726\tCondit"
     ]
    },
    {
     "name": "stdout",
     "output_type": "stream",
     "text": [
      "E2E\tBuilding: 8, r: 21\u001b[H\u001b[2J\u001b[H\u001b[2J\u001b[H\u001b[2J"
     ]
    },
    {
     "name": "stderr",
     "output_type": "stream",
     "text": [
      "Cost: 1.17265 , ZOiRL: 1.173 , %improvement: 0.003\tCritic MSE: 2667.21726\tCondit"
     ]
    },
    {
     "name": "stdout",
     "output_type": "stream",
     "text": [
      "\r",
      "E2E\tBuilding: 8, r: 22\u001b[H\u001b[2J\r",
      "E2E\tBuilding: 8, r: 23\u001b[H\u001b[2J\r",
      "Time taken for training: 388.92\u001b[H\u001b[2J\r\n",
      "MODEL COSTS:\u001b[H\u001b[2J\r",
      "Building 0: -184361.765\u001b[H\u001b[2J\r",
      "Building 8: -5482.575\u001b[H\u001b[2J"
     ]
    },
    {
     "name": "stderr",
     "output_type": "stream",
     "text": [
      "Cost: 1.16469 , ZOiRL: 1.15 , %improvement: 1.296\tCritic MSE: 2002.71399\tConditi"
     ]
    },
    {
     "name": "stdout",
     "output_type": "stream",
     "text": [
      "E2E\tBuilding: 8, r: 20\u001b[H\u001b[2J\u001b[H\u001b[2J"
     ]
    },
    {
     "name": "stderr",
     "output_type": "stream",
     "text": [
      "Cost: 1.14915 , ZOiRL: 1.15 , %improvement: -0.106\tCritic MSE: 2002.71399\tCondit"
     ]
    },
    {
     "name": "stdout",
     "output_type": "stream",
     "text": [
      "\r",
      "E2E\tBuilding: 8, r: 21\u001b[H\u001b[2J\r",
      "E2E\tBuilding: 8, r: 22\u001b[H\u001b[2J\r",
      "E2E\tBuilding: 8, r: 23\u001b[H\u001b[2J\r",
      "Time taken for training: 449.94\u001b[H\u001b[2J\r\n",
      "MODEL COSTS:\u001b[H\u001b[2J\r",
      "Building 0: -88354.954\u001b[H\u001b[2J\r",
      "Building 8: -26688.8\u001b[H\u001b[2J"
     ]
    },
    {
     "name": "stderr",
     "output_type": "stream",
     "text": [
      "Cost: 1.16209 , ZOiRL: 1.165 , %improvement: -0.236\tCritic MSE: 4883.26503\tCondi"
     ]
    },
    {
     "name": "stdout",
     "output_type": "stream",
     "text": [
      "E2E\tBuilding: 8, r: 20\u001b[H\u001b[2J\u001b[H\u001b[2J\u001b[H\u001b[2J\u001b[H\u001b[2J"
     ]
    },
    {
     "name": "stderr",
     "output_type": "stream",
     "text": [
      "Cost: 1.16307 , ZOiRL: 1.165 , %improvement: -0.163\tCritic MSE: 4883.26503\tCondi"
     ]
    },
    {
     "name": "stdout",
     "output_type": "stream",
     "text": [
      "\r",
      "E2E\tBuilding: 8, r: 21\u001b[H\u001b[2J\r",
      "E2E\tBuilding: 8, r: 22\u001b[H\u001b[2J\r",
      "E2E\tBuilding: 8, r: 23\u001b[H\u001b[2J\r",
      "Time taken for training: 459.82\u001b[H\u001b[2J\r\n",
      "MODEL COSTS:\u001b[H\u001b[2J\r",
      "Building 0: -134133.455\u001b[H\u001b[2J\r",
      "Building 8: -6182.957\u001b[H\u001b[2J"
     ]
    },
    {
     "name": "stderr",
     "output_type": "stream",
     "text": [
      "Cost: 1.12811 , ZOiRL: 1.131 , %improvement: -0.281\tCritic MSE: 2794.49892\tCondi"
     ]
    },
    {
     "name": "stdout",
     "output_type": "stream",
     "text": [
      "E2E\tBuilding: 8, r: 22\u001b[H\u001b[2J\u001b[H\u001b[2J"
     ]
    },
    {
     "name": "stderr",
     "output_type": "stream",
     "text": [
      "Cost: 1.12857 , ZOiRL: 1.131 , %improvement: -0.248\tCritic MSE: 2794.49892\tCondi"
     ]
    },
    {
     "name": "stdout",
     "output_type": "stream",
     "text": [
      "\r",
      "E2E\tBuilding: 8, r: 23\u001b[H\u001b[2J\r",
      "Time taken for training: 527.01\u001b[H\u001b[2J\r\n",
      "MODEL COSTS:\u001b[H\u001b[2J\r",
      "Building 0: -347766.722\u001b[H\u001b[2J\r",
      "Building 8: -10938.332\u001b[H\u001b[2J"
     ]
    },
    {
     "name": "stderr",
     "output_type": "stream",
     "text": [
      "Cost: 1.11634 , ZOiRL: 1.12 , %improvement: -0.284\tCritic MSE: 2571.8538\tConditi"
     ]
    },
    {
     "name": "stdout",
     "output_type": "stream",
     "text": [
      "Time taken for training: 416.82H\u001b[2J\u001b[H\u001b[2J"
     ]
    },
    {
     "name": "stderr",
     "output_type": "stream",
     "text": [
      "Cost: 1.1163 , ZOiRL: 1.12 , %improvement: -0.299\tCritic MSE: 2571.8538\tConditio"
     ]
    },
    {
     "name": "stdout",
     "output_type": "stream",
     "text": [
      "\u001b[H\u001b[2J\r\n",
      "MODEL COSTS:\u001b[H\u001b[2J\r",
      "Building 0: -205174.24\u001b[H\u001b[2J\r",
      "Building 8: -49769.932\u001b[H\u001b[2J"
     ]
    },
    {
     "name": "stderr",
     "output_type": "stream",
     "text": [
      "Cost: 1.11506 , ZOiRL: 1.118 , %improvement: -0.251\tCritic MSE: 4810.66317\tCondi"
     ]
    },
    {
     "name": "stdout",
     "output_type": "stream",
     "text": [
      "E2E\tBuilding: 8, r: 22\u001b[H\u001b[2J\u001b[H\u001b[2J\u001b[H\u001b[2J"
     ]
    },
    {
     "name": "stderr",
     "output_type": "stream",
     "text": [
      "Cost: 1.11468 , ZOiRL: 1.118 , %improvement: -0.288\tCritic MSE: 4810.66317\tCondi"
     ]
    },
    {
     "name": "stdout",
     "output_type": "stream",
     "text": [
      "\r",
      "E2E\tBuilding: 8, r: 23\u001b[H\u001b[2J\r",
      "Time taken for training: 431.32\u001b[H\u001b[2J\r\n",
      "MODEL COSTS:\u001b[H\u001b[2J\r",
      "Building 0: -147438.292\u001b[H\u001b[2J\r",
      "Building 8: -15743.354\u001b[H\u001b[2J"
     ]
    },
    {
     "name": "stderr",
     "output_type": "stream",
     "text": [
      "Cost: 1.11388 , ZOiRL: 1.117 , %improvement: -0.288\tCritic MSE: 4001.23356\tCondi"
     ]
    },
    {
     "name": "stdout",
     "output_type": "stream",
     "text": [
      "E2E\tBuilding: 8, r: 23\u001b[H\u001b[2J\u001b[H\u001b[2J"
     ]
    },
    {
     "name": "stderr",
     "output_type": "stream",
     "text": [
      "Cost: 1.11372 , ZOiRL: 1.117 , %improvement: -0.289\tCritic MSE: 4001.23356\tCondi"
     ]
    },
    {
     "name": "stdout",
     "output_type": "stream",
     "text": [
      "\r",
      "Time taken for training: 439.0\u001b[H\u001b[2J\r\n",
      "MODEL COSTS:\u001b[H\u001b[2J\r",
      "Building 0: -105445.61\u001b[H\u001b[2J\r",
      "Building 8: -27841.523\u001b[H\u001b[2J"
     ]
    },
    {
     "name": "stderr",
     "output_type": "stream",
     "text": [
      "Cost: 1.11334 , ZOiRL: 1.117 , %improvement: -0.286\tCritic MSE: 5642.63777\tCondi"
     ]
    },
    {
     "name": "stdout",
     "output_type": "stream",
     "text": [
      "E2E\tBuilding: 8, r: 23\u001b[H\u001b[2J\u001b[H\u001b[2J\u001b[H\u001b[2J\u001b[H\u001b[2J"
     ]
    },
    {
     "name": "stderr",
     "output_type": "stream",
     "text": [
      "Cost: 1.11306 , ZOiRL: 1.117 , %improvement: -0.312\tCritic MSE: 5642.63777\tCondi"
     ]
    },
    {
     "name": "stdout",
     "output_type": "stream",
     "text": [
      "\r",
      "Time taken for training: 426.55\u001b[H\u001b[2J\r\n",
      "MODEL COSTS:\u001b[H\u001b[2J\r",
      "Building 0: -93525.694\u001b[H\u001b[2J\r",
      "Building 8: -9819.685\u001b[H\u001b[2J"
     ]
    },
    {
     "name": "stderr",
     "output_type": "stream",
     "text": [
      "Cost: 1.11213 , ZOiRL: 1.115 , %improvement: -0.282\tCritic MSE: 3746.86859\tCondi"
     ]
    },
    {
     "name": "stdout",
     "output_type": "stream",
     "text": [
      "E2E\tBuilding: 8, r: 20\u001b[H\u001b[2J\u001b[H\u001b[2J\u001b[H\u001b[2J"
     ]
    },
    {
     "name": "stderr",
     "output_type": "stream",
     "text": [
      "Cost: 1.11174 , ZOiRL: 1.115 , %improvement: -0.306\tCritic MSE: 3746.86859\tCondi"
     ]
    },
    {
     "name": "stdout",
     "output_type": "stream",
     "text": [
      "\r",
      "E2E\tBuilding: 8, r: 21\u001b[H\u001b[2J\r",
      "E2E\tBuilding: 8, r: 22\u001b[H\u001b[2J\r",
      "E2E\tBuilding: 8, r: 23\u001b[H\u001b[2J\r",
      "Time taken for training: 448.55\u001b[H\u001b[2J\r\n",
      "MODEL COSTS:\u001b[H\u001b[2J\r",
      "Building 0: -155088.88\u001b[H\u001b[2J\r",
      "Building 8: -23212.409\u001b[H\u001b[2J"
     ]
    },
    {
     "name": "stderr",
     "output_type": "stream",
     "text": [
      "Cost: 1.11288 , ZOiRL: 1.114 , %improvement: -0.057\tCritic MSE: 4730.03368\tCondi"
     ]
    },
    {
     "name": "stdout",
     "output_type": "stream",
     "text": [
      "E2E\tBuilding: 8, r: 22\u001b[H\u001b[2J\u001b[H\u001b[2J\u001b[H\u001b[2J\u001b[H\u001b[2J\u001b[H\u001b[2J\u001b[H\u001b[2J\u001b[H\u001b[2J"
     ]
    },
    {
     "name": "stderr",
     "output_type": "stream",
     "text": [
      "Cost: 1.10815 , ZOiRL: 1.114 , %improvement: -0.483\tCritic MSE: 4730.03368\tCondi"
     ]
    },
    {
     "name": "stdout",
     "output_type": "stream",
     "text": [
      "\r",
      "E2E\tBuilding: 8, r: 23\u001b[H\u001b[2J\r",
      "Time taken for training: 384.25\u001b[H\u001b[2J\r\n",
      "MODEL COSTS:\u001b[H\u001b[2J\r",
      "Building 0: -176890.18\u001b[H\u001b[2J\r",
      "Building 8: -22798.244\u001b[H\u001b[2J"
     ]
    },
    {
     "name": "stderr",
     "output_type": "stream",
     "text": [
      "Cost: 1.10574 , ZOiRL: 1.11 , %improvement: -0.374\tCritic MSE: 4879.01862\tCondit"
     ]
    },
    {
     "name": "stdout",
     "output_type": "stream",
     "text": [
      "E2E\tBuilding: 8, r: 21\u001b[H\u001b[2J\u001b[H\u001b[2J\u001b[H\u001b[2J\u001b[H\u001b[2J\u001b[H\u001b[2J"
     ]
    },
    {
     "name": "stderr",
     "output_type": "stream",
     "text": [
      "Cost: 1.10632 , ZOiRL: 1.11 , %improvement: -0.324\tCritic MSE: 4879.01862\tCondit"
     ]
    },
    {
     "name": "stdout",
     "output_type": "stream",
     "text": [
      "\r",
      "E2E\tBuilding: 8, r: 22\u001b[H\u001b[2J\r",
      "E2E\tBuilding: 8, r: 23\u001b[H\u001b[2J\r",
      "Time taken for training: 450.86\u001b[H\u001b[2J\r\n",
      "MODEL COSTS:\u001b[H\u001b[2J\r",
      "Building 0: -218167.247\u001b[H\u001b[2J\r",
      "Building 8: -19477.35\u001b[H\u001b[2J"
     ]
    },
    {
     "name": "stderr",
     "output_type": "stream",
     "text": [
      "Cost: 1.10545 , ZOiRL: 1.108 , %improvement: -0.251\tCritic MSE: 3706.33504\tCondi"
     ]
    },
    {
     "name": "stdout",
     "output_type": "stream",
     "text": [
      "E2E\tBuilding: 8, r: 23\u001b[H\u001b[2J\u001b[H\u001b[2J\u001b[H\u001b[2J"
     ]
    },
    {
     "name": "stderr",
     "output_type": "stream",
     "text": [
      "Cost: 1.10521 , ZOiRL: 1.108 , %improvement: -0.279\tCritic MSE: 3706.33504\tCondi"
     ]
    },
    {
     "name": "stdout",
     "output_type": "stream",
     "text": [
      "\u001b[H\u001b[2J\r",
      "Time taken for training: 421.77\u001b[H\u001b[2J\r\n",
      "MODEL COSTS:\u001b[H\u001b[2J\r",
      "Building 0: -120876.328\u001b[H\u001b[2J\r",
      "Building 8: -15692.388\u001b[H\u001b[2J"
     ]
    },
    {
     "name": "stderr",
     "output_type": "stream",
     "text": [
      "Cost: 1.10472 , ZOiRL: 1.108 , %improvement: -0.298\tCritic MSE: 3659.91081\tCondi"
     ]
    },
    {
     "name": "stdout",
     "output_type": "stream",
     "text": [
      "E2E\tBuilding: 8, r: 22\u001b[H\u001b[2J\u001b[H\u001b[2J\u001b[H\u001b[2J"
     ]
    },
    {
     "name": "stderr",
     "output_type": "stream",
     "text": [
      "Cost: 1.10466 , ZOiRL: 1.108 , %improvement: -0.32\tCritic MSE: 3659.91081\tCondit"
     ]
    },
    {
     "name": "stdout",
     "output_type": "stream",
     "text": [
      "\r",
      "E2E\tBuilding: 8, r: 23\u001b[H\u001b[2J\r",
      "Time taken for training: 532.68\u001b[H\u001b[2J\r\n",
      "MODEL COSTS:\u001b[H\u001b[2J\r",
      "Building 0: -271416.713\u001b[H\u001b[2J\r",
      "Building 8: -21395.768\u001b[H\u001b[2J"
     ]
    },
    {
     "name": "stderr",
     "output_type": "stream",
     "text": [
      "Cost: 1.10445 , ZOiRL: 1.095 , %improvement: 0.888\tCritic MSE: 6437.49267\tCondit"
     ]
    },
    {
     "name": "stdout",
     "output_type": "stream",
     "text": [
      "E2E\tBuilding: 8, r: 22\u001b[H\u001b[2J\u001b[H\u001b[2J"
     ]
    },
    {
     "name": "stderr",
     "output_type": "stream",
     "text": [
      "Cost: 1.09025 , ZOiRL: 1.095 , %improvement: -0.39\tCritic MSE: 6437.49267\tCondit"
     ]
    },
    {
     "name": "stdout",
     "output_type": "stream",
     "text": [
      "\r",
      "E2E\tBuilding: 8, r: 23\u001b[H\u001b[2J\r",
      "Time taken for training: 420.48\u001b[H\u001b[2J\r\n",
      "MODEL COSTS:\u001b[H\u001b[2J\r",
      "Building 0: -158867.431\u001b[H\u001b[2J\r",
      "Building 8: -12881.663\u001b[H\u001b[2J"
     ]
    },
    {
     "name": "stderr",
     "output_type": "stream",
     "text": [
      "Cost: 1.08706 , ZOiRL: 1.092 , %improvement: -0.412\tCritic MSE: 5289.904\tConditi"
     ]
    },
    {
     "name": "stdout",
     "output_type": "stream",
     "text": [
      "E2E\tBuilding: 8, r: 23\u001b[H\u001b[2J\u001b[H\u001b[2J\u001b[H\u001b[2J"
     ]
    },
    {
     "name": "stderr",
     "output_type": "stream",
     "text": [
      "Cost: 1.08711 , ZOiRL: 1.092 , %improvement: -0.427\tCritic MSE: 5289.904\tConditi"
     ]
    },
    {
     "name": "stdout",
     "output_type": "stream",
     "text": [
      "\r",
      "Time taken for training: 440.8\u001b[H\u001b[2J\r\n",
      "MODEL COSTS:\u001b[H\u001b[2J\r",
      "Building 0: -210981.532\u001b[H\u001b[2J\r",
      "Building 8: -61740.653\u001b[H\u001b[2J"
     ]
    },
    {
     "name": "stderr",
     "output_type": "stream",
     "text": [
      "Cost: 1.05062 , ZOiRL: 1.055 , %improvement: -0.404\tCritic MSE: 6892.15755\tCondi"
     ]
    },
    {
     "name": "stdout",
     "output_type": "stream",
     "text": [
      "E2E\tBuilding: 8, r: 21\u001b[H\u001b[2J\u001b[H\u001b[2J\u001b[H\u001b[2J"
     ]
    },
    {
     "name": "stderr",
     "output_type": "stream",
     "text": [
      "Cost: 1.05093 , ZOiRL: 1.055 , %improvement: -0.376\tCritic MSE: 6892.15755\tCondi"
     ]
    },
    {
     "name": "stdout",
     "output_type": "stream",
     "text": [
      "\r",
      "E2E\tBuilding: 8, r: 22\u001b[H\u001b[2J\r",
      "E2E\tBuilding: 8, r: 23\u001b[H\u001b[2J\r",
      "Time taken for training: 471.07\u001b[H\u001b[2J\r\n",
      "MODEL COSTS:\u001b[H\u001b[2J\r",
      "Building 0: -178673.54\u001b[H\u001b[2J\r",
      "Building 8: -18191.374\u001b[H\u001b[2J"
     ]
    },
    {
     "name": "stderr",
     "output_type": "stream",
     "text": [
      "Cost: 1.05095 , ZOiRL: 1.055 , %improvement: -0.356\tCritic MSE: 5336.6055\tCondit"
     ]
    },
    {
     "name": "stdout",
     "output_type": "stream",
     "text": [
      "E2E\tBuilding: 8, r: 19\u001b[H\u001b[2J\u001b[H\u001b[2J"
     ]
    },
    {
     "name": "stderr",
     "output_type": "stream",
     "text": [
      "Cost: 1.05095 , ZOiRL: 1.055 , %improvement: -0.372\tCritic MSE: 5336.6055\tCondit"
     ]
    },
    {
     "name": "stdout",
     "output_type": "stream",
     "text": [
      "\r",
      "E2E\tBuilding: 8, r: 20\u001b[H\u001b[2J\r",
      "E2E\tBuilding: 8, r: 21\u001b[H\u001b[2J\r",
      "E2E\tBuilding: 8, r: 22\u001b[H\u001b[2J\r",
      "E2E\tBuilding: 8, r: 23\u001b[H\u001b[2J\r",
      "Time taken for training: 436.79\u001b[H\u001b[2J\r\n",
      "MODEL COSTS:\u001b[H\u001b[2J\r",
      "Building 0: -182276.962\u001b[H\u001b[2J\r",
      "Building 8: -45174.498\u001b[H\u001b[2J"
     ]
    },
    {
     "name": "stderr",
     "output_type": "stream",
     "text": [
      "Cost: 1.04696 , ZOiRL: 1.052 , %improvement: -0.432\tCritic MSE: 5679.56735\tCondi"
     ]
    },
    {
     "name": "stdout",
     "output_type": "stream",
     "text": [
      "E2E\tBuilding: 8, r: 22\u001b[H\u001b[2J\u001b[H\u001b[2J"
     ]
    },
    {
     "name": "stderr",
     "output_type": "stream",
     "text": [
      "Cost: 1.04835 , ZOiRL: 1.052 , %improvement: -0.315\tCritic MSE: 5679.56735\tCondi"
     ]
    },
    {
     "name": "stdout",
     "output_type": "stream",
     "text": [
      "\r",
      "E2E\tBuilding: 8, r: 23\u001b[H\u001b[2J\r",
      "Time taken for training: 451.81\u001b[H\u001b[2J\r\n",
      "MODEL COSTS:\u001b[H\u001b[2J\r",
      "Building 0: -318863.786\u001b[H\u001b[2J\r",
      "Building 8: -53767.586\u001b[H\u001b[2J"
     ]
    },
    {
     "name": "stderr",
     "output_type": "stream",
     "text": [
      "Cost: 1.04814 , ZOiRL: 1.046 , %improvement: 0.187\tCritic MSE: 9483.23006\tCondit"
     ]
    },
    {
     "name": "stdout",
     "output_type": "stream",
     "text": [
      "E2E\tBuilding: 8, r: 21\u001b[H\u001b[2J\u001b[H\u001b[2J\u001b[H\u001b[2J"
     ]
    },
    {
     "name": "stderr",
     "output_type": "stream",
     "text": [
      "Cost: 1.04274 , ZOiRL: 1.046 , %improvement: -0.34\tCritic MSE: 9483.23006\tCondit"
     ]
    },
    {
     "name": "stdout",
     "output_type": "stream",
     "text": [
      "\r",
      "E2E\tBuilding: 8, r: 22\u001b[H\u001b[2J\r",
      "E2E\tBuilding: 8, r: 23\u001b[H\u001b[2J\r",
      "Time taken for training: 487.02\u001b[H\u001b[2J\r\n",
      "MODEL COSTS:\u001b[H\u001b[2J\r",
      "Building 0: -206934.548\u001b[H\u001b[2J\r",
      "Building 8: -43375.215\u001b[H\u001b[2J"
     ]
    },
    {
     "name": "stderr",
     "output_type": "stream",
     "text": [
      "Cost: 1.04269 , ZOiRL: 1.031 , %improvement: 1.158\tCritic MSE: 6679.18553\tCondit"
     ]
    },
    {
     "name": "stdout",
     "output_type": "stream",
     "text": [
      "E2E\tBuilding: 8, r: 21\u001b[H\u001b[2J\u001b[H\u001b[2J\u001b[H\u001b[2J"
     ]
    },
    {
     "name": "stderr",
     "output_type": "stream",
     "text": [
      "Cost: 1.02695 , ZOiRL: 1.031 , %improvement: -0.389\tCritic MSE: 6679.18553\tCondi"
     ]
    },
    {
     "name": "stdout",
     "output_type": "stream",
     "text": [
      "\r",
      "E2E\tBuilding: 8, r: 22\u001b[H\u001b[2J\r",
      "E2E\tBuilding: 8, r: 23\u001b[H\u001b[2J\r",
      "Time taken for training: 602.51\u001b[H\u001b[2J\r\n",
      "MODEL COSTS:\u001b[H\u001b[2J\r",
      "Building 0: -208317.745\u001b[H\u001b[2J\r",
      "Building 8: -56071.18\u001b[H\u001b[2J"
     ]
    },
    {
     "name": "stderr",
     "output_type": "stream",
     "text": [
      "Cost: 1.0279 , ZOiRL: 1.031 , %improvement: -0.347\tCritic MSE: 7903.10089\tCondit"
     ]
    },
    {
     "name": "stdout",
     "output_type": "stream",
     "text": [
      "E2E\tBuilding: 8, r: 22\u001b[H\u001b[2J\u001b[H\u001b[2J\u001b[H\u001b[2J"
     ]
    },
    {
     "name": "stderr",
     "output_type": "stream",
     "text": [
      "Cost: 1.0281 , ZOiRL: 1.031 , %improvement: -0.327\tCritic MSE: 7903.10089\tCondit"
     ]
    },
    {
     "name": "stdout",
     "output_type": "stream",
     "text": [
      "\r",
      "E2E\tBuilding: 8, r: 23\u001b[H\u001b[2J\r",
      "Time taken for training: 544.1\u001b[H\u001b[2J\r\n",
      "MODEL COSTS:\u001b[H\u001b[2J\r",
      "Building 0: -219777.648\u001b[H\u001b[2J\r",
      "Building 8: -91727.371\u001b[H\u001b[2J"
     ]
    },
    {
     "name": "stderr",
     "output_type": "stream",
     "text": [
      "Cost: 0.98908 , ZOiRL: 0.993 , %improvement: -0.358\tCritic MSE: 9734.033\tConditi"
     ]
    },
    {
     "name": "stdout",
     "output_type": "stream",
     "text": [
      "E2E\tBuilding: 8, r: 21\u001b[H\u001b[2J\u001b[H\u001b[2J\u001b[H\u001b[2J"
     ]
    },
    {
     "name": "stderr",
     "output_type": "stream",
     "text": [
      "Cost: 0.98907 , ZOiRL: 0.993 , %improvement: -0.392\tCritic MSE: 9734.033\tConditi"
     ]
    },
    {
     "name": "stdout",
     "output_type": "stream",
     "text": [
      "\r",
      "E2E\tBuilding: 8, r: 22\u001b[H\u001b[2J\r",
      "E2E\tBuilding: 8, r: 23\u001b[H\u001b[2J\r",
      "Time taken for training: 540.37\u001b[H\u001b[2J\r\n",
      "MODEL COSTS:\u001b[H\u001b[2J\r",
      "Building 0: -336345.248\u001b[H\u001b[2J\r",
      "Building 8: -44979.832\u001b[H\u001b[2J"
     ]
    },
    {
     "name": "stderr",
     "output_type": "stream",
     "text": [
      "Cost: 0.9877 , ZOiRL: 0.992 , %improvement: -0.395\tCritic MSE: 7105.38302\tCondit"
     ]
    },
    {
     "name": "stdout",
     "output_type": "stream",
     "text": [
      "E2E\tBuilding: 8, r: 23\u001b[H\u001b[2J\u001b[H\u001b[2J\u001b[H\u001b[2J"
     ]
    },
    {
     "name": "stderr",
     "output_type": "stream",
     "text": [
      "Cost: 0.98805 , ZOiRL: 0.992 , %improvement: -0.381\tCritic MSE: 7105.38302\tCondi"
     ]
    },
    {
     "name": "stdout",
     "output_type": "stream",
     "text": [
      "\r",
      "Time taken for training: 576.96\u001b[H\u001b[2J\r\n",
      "MODEL COSTS:\u001b[H\u001b[2J\r",
      "Building 0: -254844.286\u001b[H\u001b[2J\r",
      "Building 8: -63005.745\u001b[H\u001b[2J"
     ]
    },
    {
     "name": "stderr",
     "output_type": "stream",
     "text": [
      "Cost: 0.98855 , ZOiRL: 0.992 , %improvement: -0.338\tCritic MSE: 8506.91126\tCondi"
     ]
    },
    {
     "name": "stdout",
     "output_type": "stream",
     "text": [
      "E2E\tBuilding: 8, r: 20\u001b[H\u001b[2J\u001b[H\u001b[2J\u001b[H\u001b[2J"
     ]
    },
    {
     "name": "stderr",
     "output_type": "stream",
     "text": [
      "Cost: 0.98883 , ZOiRL: 0.992 , %improvement: -0.324\tCritic MSE: 8506.91126\tCondi"
     ]
    },
    {
     "name": "stdout",
     "output_type": "stream",
     "text": [
      "\r",
      "E2E\tBuilding: 8, r: 21\u001b[H\u001b[2J\r",
      "E2E\tBuilding: 8, r: 22\u001b[H\u001b[2J\r",
      "E2E\tBuilding: 8, r: 23\u001b[H\u001b[2J\r",
      "Time taken for training: 611.84\u001b[H\u001b[2J\r\n",
      "MODEL COSTS:\u001b[H\u001b[2J\r",
      "Building 0: -223448.791\u001b[H\u001b[2J\r",
      "Building 8: -45862.45\u001b[H\u001b[2J"
     ]
    },
    {
     "name": "stderr",
     "output_type": "stream",
     "text": [
      "Cost: 0.99551 , ZOiRL: 0.993 , %improvement: 0.268\tCritic MSE: 7759.39024\tCondit"
     ]
    },
    {
     "name": "stdout",
     "output_type": "stream",
     "text": [
      "L2 Optim\tBuilding: 0\tHour: 01\u001b[H\u001b[2J\u001b[H\u001b[2J"
     ]
    },
    {
     "name": "stderr",
     "output_type": "stream",
     "text": [
      "\r",
      "Cost: 0.99551 , ZOiRL: 0.993 , %improvement: 0.268\tCritic MSE: 7759.39024\tCondit"
     ]
    },
    {
     "name": "stdout",
     "output_type": "stream",
     "text": [
      "E2E\tBuilding: 8, r: 21\u001b[H\u001b[2J\u001b[H\u001b[2J\u001b[H\u001b[2J"
     ]
    },
    {
     "name": "stderr",
     "output_type": "stream",
     "text": [
      "Cost: 0.99044 , ZOiRL: 0.993 , %improvement: -0.242\tCritic MSE: 7759.39024\tCondi"
     ]
    },
    {
     "name": "stdout",
     "output_type": "stream",
     "text": [
      "\r",
      "E2E\tBuilding: 8, r: 22\u001b[H\u001b[2J\r",
      "E2E\tBuilding: 8, r: 23\u001b[H\u001b[2J\r",
      "Time taken for training: 603.47\u001b[H\u001b[2J\r\n",
      "MODEL COSTS:\u001b[H\u001b[2J\r",
      "Building 0: -233558.723\u001b[H\u001b[2J\r",
      "Building 8: -48333.295\u001b[H\u001b[2J"
     ]
    },
    {
     "name": "stderr",
     "output_type": "stream",
     "text": [
      "Cost: 0.98931 , ZOiRL: 0.992 , %improvement: -0.233\tCritic MSE: 8418.02542\tCondi"
     ]
    },
    {
     "name": "stdout",
     "output_type": "stream",
     "text": [
      "E2E\tBuilding: 8, r: 21\u001b[H\u001b[2J\u001b[H\u001b[2J\u001b[H\u001b[2J\u001b[H\u001b[2J"
     ]
    },
    {
     "name": "stderr",
     "output_type": "stream",
     "text": [
      "Cost: 0.98913 , ZOiRL: 0.992 , %improvement: -0.263\tCritic MSE: 8418.02542\tCondi"
     ]
    },
    {
     "name": "stdout",
     "output_type": "stream",
     "text": [
      "\r",
      "E2E\tBuilding: 8, r: 22\u001b[H\u001b[2J\r",
      "E2E\tBuilding: 8, r: 23\u001b[H\u001b[2J\r",
      "Time taken for training: 610.05\u001b[H\u001b[2J\r\n",
      "MODEL COSTS:\u001b[H\u001b[2J\r",
      "Building 0: -224248.415\u001b[H\u001b[2J\r",
      "Building 8: -92482.837\u001b[H\u001b[2J"
     ]
    },
    {
     "name": "stderr",
     "output_type": "stream",
     "text": [
      "Cost: 0.98955 , ZOiRL: 0.992 , %improvement: -0.23\tCritic MSE: 12504.04356\tCondi"
     ]
    },
    {
     "name": "stdout",
     "output_type": "stream",
     "text": [
      "E2E\tBuilding: 8, r: 21\u001b[H\u001b[2J\u001b[H\u001b[2J\u001b[H\u001b[2J\u001b[H\u001b[2J"
     ]
    },
    {
     "name": "stderr",
     "output_type": "stream",
     "text": [
      "Cost: 0.98944 , ZOiRL: 0.992 , %improvement: -0.255\tCritic MSE: 12504.04356\tCond"
     ]
    },
    {
     "name": "stdout",
     "output_type": "stream",
     "text": [
      "\r",
      "E2E\tBuilding: 8, r: 22\u001b[H\u001b[2J\r",
      "E2E\tBuilding: 8, r: 23\u001b[H\u001b[2J\r",
      "Time taken for training: 598.34\u001b[H\u001b[2J\r\n",
      "MODEL COSTS:\u001b[H\u001b[2J\r",
      "Building 0: -236393.703\u001b[H\u001b[2J\r",
      "Building 8: -61906.52\u001b[H\u001b[2J"
     ]
    },
    {
     "name": "stderr",
     "output_type": "stream",
     "text": [
      "Cost: 0.98924 , ZOiRL: 0.991 , %improvement: -0.21\tCritic MSE: 9129.80119\tCondit"
     ]
    },
    {
     "name": "stdout",
     "output_type": "stream",
     "text": [
      "E2E\tBuilding: 8, r: 21\u001b[H\u001b[2J\u001b[H\u001b[2J"
     ]
    },
    {
     "name": "stderr",
     "output_type": "stream",
     "text": [
      "Cost: 0.98896 , ZOiRL: 0.991 , %improvement: -0.236\tCritic MSE: 9129.80119\tCondi"
     ]
    },
    {
     "name": "stdout",
     "output_type": "stream",
     "text": [
      "\r",
      "E2E\tBuilding: 8, r: 22\u001b[H\u001b[2J\r",
      "E2E\tBuilding: 8, r: 23\u001b[H\u001b[2J\r",
      "Time taken for training: 648.99\u001b[H\u001b[2J\r\n",
      "MODEL COSTS:\u001b[H\u001b[2J\r",
      "Building 0: -182542.487\u001b[H\u001b[2J\r",
      "Building 8: -57913.739\u001b[H\u001b[2J"
     ]
    },
    {
     "name": "stderr",
     "output_type": "stream",
     "text": [
      "Cost: 0.9859 , ZOiRL: 0.988 , %improvement: -0.238\tCritic MSE: 10328.73328\tCondi"
     ]
    },
    {
     "name": "stdout",
     "output_type": "stream",
     "text": [
      "E2E\tBuilding: 8, r: 21\u001b[H\u001b[2J\u001b[H\u001b[2J\u001b[H\u001b[2J\u001b[H\u001b[2J\u001b[H\u001b[2J"
     ]
    },
    {
     "name": "stderr",
     "output_type": "stream",
     "text": [
      "Cost: 0.98572 , ZOiRL: 0.988 , %improvement: -0.274\tCritic MSE: 10328.73328\tCond"
     ]
    },
    {
     "name": "stdout",
     "output_type": "stream",
     "text": [
      "\r",
      "E2E\tBuilding: 8, r: 22\u001b[H\u001b[2J\r",
      "E2E\tBuilding: 8, r: 23\u001b[H\u001b[2J\r",
      "Time taken for training: 645.41\u001b[H\u001b[2J\r\n",
      "MODEL COSTS:\u001b[H\u001b[2J\r",
      "Building 0: -239452.909\u001b[H\u001b[2J\r",
      "Building 8: -57346.251\u001b[H\u001b[2J"
     ]
    },
    {
     "name": "stderr",
     "output_type": "stream",
     "text": [
      "Cost: 0.97822 , ZOiRL: 0.982 , %improvement: -0.351\tCritic MSE: 9860.02354\tCondi"
     ]
    },
    {
     "name": "stdout",
     "output_type": "stream",
     "text": [
      "E2E\tBuilding: 8, r: 20\u001b[H\u001b[2J\u001b[H\u001b[2J\u001b[H\u001b[2J"
     ]
    },
    {
     "name": "stderr",
     "output_type": "stream",
     "text": [
      "Cost: 0.97838 , ZOiRL: 0.982 , %improvement: -0.357\tCritic MSE: 9860.02354\tCondi"
     ]
    },
    {
     "name": "stdout",
     "output_type": "stream",
     "text": [
      "\r",
      "E2E\tBuilding: 8, r: 21\u001b[H\u001b[2J\r",
      "E2E\tBuilding: 8, r: 22\u001b[H\u001b[2J\r",
      "E2E\tBuilding: 8, r: 23\u001b[H\u001b[2J\r",
      "Time taken for training: 607.51\u001b[H\u001b[2J\r\n",
      "MODEL COSTS:\u001b[H\u001b[2J\r",
      "Building 0: -213358.71\u001b[H\u001b[2J\r",
      "Building 8: -62343.652\u001b[H\u001b[2J"
     ]
    },
    {
     "name": "stderr",
     "output_type": "stream",
     "text": [
      "Cost: 0.97824 , ZOiRL: 0.981 , %improvement: -0.317\tCritic MSE: 12500.46155\tCond"
     ]
    },
    {
     "name": "stdout",
     "output_type": "stream",
     "text": [
      "E2E\tBuilding: 8, r: 19\u001b[H\u001b[2J\u001b[H\u001b[2J\u001b[H\u001b[2J\u001b[H\u001b[2J\u001b[H\u001b[2J\u001b[H\u001b[2J\u001b[H\u001b[2J"
     ]
    },
    {
     "name": "stderr",
     "output_type": "stream",
     "text": [
      "Cost: 0.97801 , ZOiRL: 0.982 , %improvement: -0.356\tCritic MSE: 12500.46155\tCond"
     ]
    },
    {
     "name": "stdout",
     "output_type": "stream",
     "text": [
      "\r",
      "E2E\tBuilding: 8, r: 20\u001b[H\u001b[2J\r",
      "E2E\tBuilding: 8, r: 21\u001b[H\u001b[2J\r",
      "E2E\tBuilding: 8, r: 22\u001b[H\u001b[2J\r",
      "E2E\tBuilding: 8, r: 23\u001b[H\u001b[2J\r",
      "Time taken for training: 609.93\u001b[H\u001b[2J\r\n",
      "MODEL COSTS:\u001b[H\u001b[2J\r",
      "Building 0: -217640.407\u001b[H\u001b[2J\r",
      "Building 8: -52173.737\u001b[H\u001b[2J"
     ]
    },
    {
     "name": "stderr",
     "output_type": "stream",
     "text": [
      "Cost: 0.9785 , ZOiRL: 0.982 , %improvement: -0.341\tCritic MSE: 13169.02015\tCondi"
     ]
    },
    {
     "name": "stdout",
     "output_type": "stream",
     "text": [
      "E2E\tBuilding: 8, r: 20\u001b[H\u001b[2J\u001b[H\u001b[2J\u001b[H\u001b[2J"
     ]
    },
    {
     "name": "stderr",
     "output_type": "stream",
     "text": [
      "Cost: 0.97861 , ZOiRL: 0.982 , %improvement: -0.348\tCritic MSE: 13169.02015\tCond"
     ]
    },
    {
     "name": "stdout",
     "output_type": "stream",
     "text": [
      "\r",
      "E2E\tBuilding: 8, r: 21\u001b[H\u001b[2J\r",
      "E2E\tBuilding: 8, r: 22\u001b[H\u001b[2J\r",
      "E2E\tBuilding: 8, r: 23\u001b[H\u001b[2J\r",
      "Time taken for training: 574.43\u001b[H\u001b[2J\r\n",
      "MODEL COSTS:\u001b[H\u001b[2J\r",
      "Building 0: -170666.392\u001b[H\u001b[2J\r",
      "Building 8: -53463.878\u001b[H\u001b[2J"
     ]
    },
    {
     "name": "stderr",
     "output_type": "stream",
     "text": [
      "Cost: 0.97641 , ZOiRL: 0.979 , %improvement: -0.227\tCritic MSE: 14881.83182\tCond"
     ]
    },
    {
     "name": "stdout",
     "output_type": "stream",
     "text": [
      "E2E\tBuilding: 8, r: 19\u001b[H\u001b[2J\u001b[H\u001b[2J\u001b[H\u001b[2J\u001b[H\u001b[2J"
     ]
    },
    {
     "name": "stderr",
     "output_type": "stream",
     "text": [
      "Cost: 0.97637 , ZOiRL: 0.979 , %improvement: -0.238\tCritic MSE: 14881.83182\tCond"
     ]
    },
    {
     "name": "stdout",
     "output_type": "stream",
     "text": [
      "\r",
      "E2E\tBuilding: 8, r: 20\u001b[H\u001b[2J\r",
      "E2E\tBuilding: 8, r: 21\u001b[H\u001b[2J\r",
      "E2E\tBuilding: 8, r: 22\u001b[H\u001b[2J\r",
      "E2E\tBuilding: 8, r: 23\u001b[H\u001b[2J\r",
      "Time taken for training: 633.87\u001b[H\u001b[2J\r\n",
      "MODEL COSTS:\u001b[H\u001b[2J\r",
      "Building 0: -180379.626\u001b[H\u001b[2J\r",
      "Building 8: -47286.35\u001b[H\u001b[2J"
     ]
    },
    {
     "name": "stderr",
     "output_type": "stream",
     "text": [
      "Cost: 0.97633 , ZOiRL: 0.979 , %improvement: -0.23\tCritic MSE: 15808.16582\tCondi"
     ]
    },
    {
     "name": "stdout",
     "output_type": "stream",
     "text": [
      "E2E\tBuilding: 8, r: 20\u001b[H\u001b[2J\u001b[H\u001b[2J\u001b[H\u001b[2J\u001b[H\u001b[2J\u001b[H\u001b[2J"
     ]
    },
    {
     "name": "stderr",
     "output_type": "stream",
     "text": [
      "Cost: 0.9764 , ZOiRL: 0.979 , %improvement: -0.232\tCritic MSE: 15808.16582\tCondi"
     ]
    },
    {
     "name": "stdout",
     "output_type": "stream",
     "text": [
      "\r",
      "E2E\tBuilding: 8, r: 21\u001b[H\u001b[2J\r",
      "E2E\tBuilding: 8, r: 22\u001b[H\u001b[2J\r",
      "E2E\tBuilding: 8, r: 23\u001b[H\u001b[2J\r",
      "Time taken for training: 570.68\u001b[H\u001b[2J\r\n",
      "MODEL COSTS:\u001b[H\u001b[2J\r",
      "Building 0: -156838.775\u001b[H\u001b[2J\r",
      "Building 8: -28737.451\u001b[H\u001b[2J"
     ]
    },
    {
     "name": "stderr",
     "output_type": "stream",
     "text": [
      "Cost: 0.97643 , ZOiRL: 0.98 , %improvement: -0.323\tCritic MSE: 12788.7125\tCondit"
     ]
    },
    {
     "name": "stdout",
     "output_type": "stream",
     "text": [
      "E2E\tBuilding: 8, r: 23\u001b[H\u001b[2J\u001b[H\u001b[2J"
     ]
    },
    {
     "name": "stderr",
     "output_type": "stream",
     "text": [
      "Cost: 0.97659 , ZOiRL: 0.98 , %improvement: -0.309\tCritic MSE: 12788.7125\tCondit"
     ]
    },
    {
     "name": "stdout",
     "output_type": "stream",
     "text": [
      "\r",
      "Time taken for training: 623.07\u001b[H\u001b[2J\r\n",
      "MODEL COSTS:\u001b[H\u001b[2J\r",
      "Building 0: -164097.626\u001b[H\u001b[2J\r",
      "Building 8: -30605.896\u001b[H\u001b[2J"
     ]
    },
    {
     "name": "stderr",
     "output_type": "stream",
     "text": [
      "Cost: 0.97661 , ZOiRL: 0.98 , %improvement: -0.307\tCritic MSE: 10229.96908\tCondi"
     ]
    },
    {
     "name": "stdout",
     "output_type": "stream",
     "text": [
      "E2E\tBuilding: 8, r: 22\u001b[H\u001b[2J\u001b[H\u001b[2J\u001b[H\u001b[2J\u001b[H\u001b[2J"
     ]
    },
    {
     "name": "stderr",
     "output_type": "stream",
     "text": [
      "Cost: 0.97656 , ZOiRL: 0.98 , %improvement: -0.325\tCritic MSE: 10229.96908\tCondi"
     ]
    },
    {
     "name": "stdout",
     "output_type": "stream",
     "text": [
      "\r",
      "E2E\tBuilding: 8, r: 23\u001b[H\u001b[2J\r",
      "Time taken for training: 645.75\u001b[H\u001b[2J\r\n",
      "MODEL COSTS:\u001b[H\u001b[2J\r",
      "Building 0: -170055.859\u001b[H\u001b[2J\r",
      "Building 8: -30025.139\u001b[H\u001b[2J"
     ]
    },
    {
     "name": "stderr",
     "output_type": "stream",
     "text": [
      "Cost: 0.97417 , ZOiRL: 0.978 , %improvement: -0.356\tCritic MSE: 10211.62465\tCond"
     ]
    },
    {
     "name": "stdout",
     "output_type": "stream",
     "text": [
      "E2E\tBuilding: 8, r: 19\u001b[H\u001b[2J\u001b[H\u001b[2J"
     ]
    },
    {
     "name": "stderr",
     "output_type": "stream",
     "text": [
      "Cost: 0.97448 , ZOiRL: 0.978 , %improvement: -0.349\tCritic MSE: 10211.62465\tCond"
     ]
    },
    {
     "name": "stdout",
     "output_type": "stream",
     "text": [
      "\r",
      "E2E\tBuilding: 8, r: 20\u001b[H\u001b[2J\r",
      "E2E\tBuilding: 8, r: 21\u001b[H\u001b[2J\r",
      "E2E\tBuilding: 8, r: 22\u001b[H\u001b[2J\r",
      "E2E\tBuilding: 8, r: 23\u001b[H\u001b[2J\r",
      "Time taken for training: 612.4\u001b[H\u001b[2J\r\n",
      "MODEL COSTS:\u001b[H\u001b[2J\r",
      "Building 0: -203204.422\u001b[H\u001b[2J\r",
      "Building 8: -40336.426\u001b[H\u001b[2J"
     ]
    },
    {
     "name": "stderr",
     "output_type": "stream",
     "text": [
      "Cost: 0.97452 , ZOiRL: 0.978 , %improvement: -0.33\tCritic MSE: 11878.10743\tCondi"
     ]
    },
    {
     "name": "stdout",
     "output_type": "stream",
     "text": [
      "E2E\tBuilding: 8, r: 22\u001b[H\u001b[2J\u001b[H\u001b[2J\u001b[H\u001b[2J\u001b[H\u001b[2J\u001b[H\u001b[2J"
     ]
    },
    {
     "name": "stderr",
     "output_type": "stream",
     "text": [
      "Cost: 0.97442 , ZOiRL: 0.978 , %improvement: -0.353\tCritic MSE: 11878.10743\tCond"
     ]
    },
    {
     "name": "stdout",
     "output_type": "stream",
     "text": [
      "\r",
      "E2E\tBuilding: 8, r: 23\u001b[H\u001b[2J\r",
      "Time taken for training: 676.88\u001b[H\u001b[2J\r\n",
      "MODEL COSTS:\u001b[H\u001b[2J\r",
      "Building 0: -164501.552\u001b[H\u001b[2J\r",
      "Building 8: -33380.225\u001b[H\u001b[2J"
     ]
    },
    {
     "name": "stderr",
     "output_type": "stream",
     "text": [
      "Cost: 0.97453 , ZOiRL: 0.978 , %improvement: -0.318\tCritic MSE: 10236.20207\tCond"
     ]
    },
    {
     "name": "stdout",
     "output_type": "stream",
     "text": [
      "E2E\tBuilding: 8, r: 20\u001b[H\u001b[2J\u001b[H\u001b[2J\u001b[H\u001b[2J\u001b[H\u001b[2J"
     ]
    },
    {
     "name": "stderr",
     "output_type": "stream",
     "text": [
      "Cost: 0.97437 , ZOiRL: 0.978 , %improvement: -0.345\tCritic MSE: 10236.20207\tCond"
     ]
    },
    {
     "name": "stdout",
     "output_type": "stream",
     "text": [
      "\r",
      "E2E\tBuilding: 8, r: 21\u001b[H\u001b[2J\r",
      "E2E\tBuilding: 8, r: 22\u001b[H\u001b[2J\r",
      "E2E\tBuilding: 8, r: 23\u001b[H\u001b[2J\r",
      "Time taken for training: 664.06\u001b[H\u001b[2J\r\n",
      "MODEL COSTS:\u001b[H\u001b[2J\r",
      "Building 0: -122097.526\u001b[H\u001b[2J\r",
      "Building 8: -42054.347\u001b[H\u001b[2J"
     ]
    },
    {
     "name": "stderr",
     "output_type": "stream",
     "text": [
      "Cost: 0.97424 , ZOiRL: 0.976 , %improvement: -0.202\tCritic MSE: 16041.92725\tCond"
     ]
    },
    {
     "name": "stdout",
     "output_type": "stream",
     "text": [
      "E2E\tBuilding: 8, r: 20\u001b[H\u001b[2J\u001b[H\u001b[2J"
     ]
    },
    {
     "name": "stderr",
     "output_type": "stream",
     "text": [
      "Cost: 0.97289 , ZOiRL: 0.976 , %improvement: -0.331\tCritic MSE: 16041.92725\tCond"
     ]
    },
    {
     "name": "stdout",
     "output_type": "stream",
     "text": [
      "\r",
      "E2E\tBuilding: 8, r: 21\u001b[H\u001b[2J\r",
      "E2E\tBuilding: 8, r: 22\u001b[H\u001b[2J\r",
      "E2E\tBuilding: 8, r: 23\u001b[H\u001b[2J\r",
      "Time taken for training: 760.79\u001b[H\u001b[2J\r\n",
      "MODEL COSTS:\u001b[H\u001b[2J\r",
      "Building 0: -129355.201\u001b[H\u001b[2J\r",
      "Building 8: -40015.068\u001b[H\u001b[2J"
     ]
    },
    {
     "name": "stderr",
     "output_type": "stream",
     "text": [
      "Cost: 0.97392 , ZOiRL: 0.977 , %improvement: -0.274\tCritic MSE: 8705.26422\tCondi"
     ]
    },
    {
     "name": "stdout",
     "output_type": "stream",
     "text": [
      "E2E\tBuilding: 8, r: 19\u001b[H\u001b[2J\u001b[H\u001b[2J\u001b[H\u001b[2J\u001b[H\u001b[2J\u001b[H\u001b[2J"
     ]
    },
    {
     "name": "stderr",
     "output_type": "stream",
     "text": [
      "Cost: 0.97302 , ZOiRL: 0.977 , %improvement: -0.372\tCritic MSE: 8705.26422\tCondi"
     ]
    },
    {
     "name": "stdout",
     "output_type": "stream",
     "text": [
      "\r",
      "E2E\tBuilding: 8, r: 20\u001b[H\u001b[2J\r",
      "E2E\tBuilding: 8, r: 21\u001b[H\u001b[2J\r",
      "E2E\tBuilding: 8, r: 22\u001b[H\u001b[2J\r",
      "E2E\tBuilding: 8, r: 23\u001b[H\u001b[2J\r",
      "Time taken for training: 661.57\u001b[H\u001b[2J\r\n",
      "MODEL COSTS:\u001b[H\u001b[2J\r",
      "Building 0: -160113.197\u001b[H\u001b[2J\r",
      "Building 8: -40065.026\u001b[H\u001b[2J"
     ]
    },
    {
     "name": "stderr",
     "output_type": "stream",
     "text": [
      "Cost: 0.97309 , ZOiRL: 0.977 , %improvement: -0.358\tCritic MSE: 12370.96484\tCond"
     ]
    },
    {
     "name": "stdout",
     "output_type": "stream",
     "text": [
      "E2E\tBuilding: 8, r: 19\u001b[H\u001b[2J\u001b[H\u001b[2J"
     ]
    },
    {
     "name": "stderr",
     "output_type": "stream",
     "text": [
      "Cost: 0.97319 , ZOiRL: 0.977 , %improvement: -0.356\tCritic MSE: 12370.96484\tCond"
     ]
    },
    {
     "name": "stdout",
     "output_type": "stream",
     "text": [
      "\r",
      "E2E\tBuilding: 8, r: 20\u001b[H\u001b[2J\r",
      "E2E\tBuilding: 8, r: 21\u001b[H\u001b[2J\r",
      "E2E\tBuilding: 8, r: 22\u001b[H\u001b[2J\r",
      "E2E\tBuilding: 8, r: 23\u001b[H\u001b[2J\r",
      "Time taken for training: 650.4\u001b[H\u001b[2J\r\n",
      "MODEL COSTS:\u001b[H\u001b[2J\r",
      "Building 0: -156380.47\u001b[H\u001b[2J\r",
      "Building 8: -35076.205\u001b[H\u001b[2J"
     ]
    },
    {
     "name": "stderr",
     "output_type": "stream",
     "text": [
      "Cost: 0.97324 , ZOiRL: 0.977 , %improvement: -0.361\tCritic MSE: 14816.28728\tCond"
     ]
    },
    {
     "name": "stdout",
     "output_type": "stream",
     "text": [
      "Time taken for training: 623.64\u001b[H\u001b[2JH\u001b[2J\u001b[H\u001b[2J\n",
      "Building 8: -26003.756[H\u001b[2J"
     ]
    },
    {
     "name": "stderr",
     "output_type": "stream",
     "text": [
      "Cost: 0.97336 , ZOiRL: 0.977 , %improvement: -0.357\tCritic MSE: 14816.28728\tCond"
     ]
    },
    {
     "name": "stdout",
     "output_type": "stream",
     "text": [
      "\u001b[H\u001b[2J"
     ]
    },
    {
     "name": "stderr",
     "output_type": "stream",
     "text": [
      "Cost: 0.97377 , ZOiRL: 0.978 , %improvement: -0.404\tCritic MSE: 13247.48558\tCond"
     ]
    },
    {
     "name": "stdout",
     "output_type": "stream",
     "text": [
      "E2E\tBuilding: 8, r: 22\u001b[H\u001b[2J\u001b[H\u001b[2J\u001b[H\u001b[2J\u001b[H\u001b[2J"
     ]
    },
    {
     "name": "stderr",
     "output_type": "stream",
     "text": [
      "Cost: 0.97397 , ZOiRL: 0.978 , %improvement: -0.388\tCritic MSE: 13247.48558\tCond"
     ]
    },
    {
     "name": "stdout",
     "output_type": "stream",
     "text": [
      "\r",
      "E2E\tBuilding: 8, r: 23\u001b[H\u001b[2J\r",
      "Time taken for training: 650.18\u001b[H\u001b[2J\r\n",
      "MODEL COSTS:\u001b[H\u001b[2J\r",
      "Building 0: -66125.626\u001b[H\u001b[2J\r",
      "Building 8: -24118.608\u001b[H\u001b[2J"
     ]
    },
    {
     "name": "stderr",
     "output_type": "stream",
     "text": [
      "Cost: 0.97376 , ZOiRL: 0.978 , %improvement: -0.392\tCritic MSE: 8680.09843\tCondi"
     ]
    },
    {
     "name": "stdout",
     "output_type": "stream",
     "text": [
      "E2E\tBuilding: 8, r: 23\u001b[H\u001b[2J\u001b[H\u001b[2J\u001b[H\u001b[2J\u001b[H\u001b[2J"
     ]
    },
    {
     "name": "stderr",
     "output_type": "stream",
     "text": [
      "Cost: 0.97378 , ZOiRL: 0.978 , %improvement: -0.404\tCritic MSE: 8680.09843\tCondi"
     ]
    },
    {
     "name": "stdout",
     "output_type": "stream",
     "text": [
      "\r",
      "Time taken for training: 661.31\u001b[H\u001b[2J\r\n",
      "MODEL COSTS:\u001b[H\u001b[2J\r",
      "Building 0: -122853.626\u001b[H\u001b[2J\r",
      "Building 8: -33222.681\u001b[H\u001b[2J"
     ]
    },
    {
     "name": "stderr",
     "output_type": "stream",
     "text": [
      "Cost: 0.97401 , ZOiRL: 0.978 , %improvement: -0.386\tCritic MSE: 9121.09642\tCondi"
     ]
    },
    {
     "name": "stdout",
     "output_type": "stream",
     "text": [
      "E2E\tBuilding: 8, r: 22\u001b[H\u001b[2J\u001b[H\u001b[2J\u001b[H\u001b[2J\u001b[H\u001b[2J"
     ]
    },
    {
     "name": "stderr",
     "output_type": "stream",
     "text": [
      "Cost: 0.9739 , ZOiRL: 0.978 , %improvement: -0.4\tCritic MSE: 9121.09642\tConditio"
     ]
    },
    {
     "name": "stdout",
     "output_type": "stream",
     "text": [
      "\r",
      "E2E\tBuilding: 8, r: 23\u001b[H\u001b[2J\r",
      "Time taken for training: 628.17\u001b[H\u001b[2J\r\n",
      "MODEL COSTS:\u001b[H\u001b[2J\r",
      "Building 0: -91796.059\u001b[H\u001b[2J\r",
      "Building 8: -36399.276\u001b[H\u001b[2J"
     ]
    },
    {
     "name": "stderr",
     "output_type": "stream",
     "text": [
      "Cost: 0.9735 , ZOiRL: 0.977 , %improvement: -0.394\tCritic MSE: 11325.92396\tCondi"
     ]
    },
    {
     "name": "stdout",
     "output_type": "stream",
     "text": [
      "E2E\tBuilding: 8, r: 19\u001b[H\u001b[2J\u001b[H\u001b[2J"
     ]
    },
    {
     "name": "stderr",
     "output_type": "stream",
     "text": [
      "Cost: 0.97362 , ZOiRL: 0.977 , %improvement: -0.387\tCritic MSE: 11325.92396\tCond"
     ]
    },
    {
     "name": "stdout",
     "output_type": "stream",
     "text": [
      "\r",
      "E2E\tBuilding: 8, r: 20\u001b[H\u001b[2J\r",
      "E2E\tBuilding: 8, r: 21\u001b[H\u001b[2J\r",
      "E2E\tBuilding: 8, r: 22\u001b[H\u001b[2J\r",
      "E2E\tBuilding: 8, r: 23\u001b[H\u001b[2J\r",
      "Time taken for training: 612.47\u001b[H\u001b[2J\r\n",
      "MODEL COSTS:\u001b[H\u001b[2J\r",
      "Building 0: -91961.891\u001b[H\u001b[2J\r",
      "Building 8: -24622.805\u001b[H\u001b[2J"
     ]
    },
    {
     "name": "stderr",
     "output_type": "stream",
     "text": [
      "Cost: 0.97694 , ZOiRL: 0.978 , %improvement: -0.124\tCritic MSE: 11537.09012\tCond"
     ]
    },
    {
     "name": "stdout",
     "output_type": "stream",
     "text": [
      "E2E\tBuilding: 8, r: 19\u001b[H\u001b[2J\u001b[H\u001b[2J\u001b[H\u001b[2J\u001b[H\u001b[2J"
     ]
    },
    {
     "name": "stderr",
     "output_type": "stream",
     "text": [
      "Cost: 0.9761 , ZOiRL: 0.978 , %improvement: -0.211\tCritic MSE: 11537.09012\tCondi"
     ]
    },
    {
     "name": "stdout",
     "output_type": "stream",
     "text": [
      "\r",
      "E2E\tBuilding: 8, r: 20\u001b[H\u001b[2J\r",
      "E2E\tBuilding: 8, r: 21\u001b[H\u001b[2J\r",
      "E2E\tBuilding: 8, r: 22\u001b[H\u001b[2J\r",
      "E2E\tBuilding: 8, r: 23\u001b[H\u001b[2J\r",
      "Time taken for training: 652.29\u001b[H\u001b[2J\r\n",
      "MODEL COSTS:\u001b[H\u001b[2J\r",
      "Building 0: -310317.871\u001b[H\u001b[2J\r",
      "Building 8: -23536.684\u001b[H\u001b[2J"
     ]
    },
    {
     "name": "stderr",
     "output_type": "stream",
     "text": [
      "Cost: 0.97457 , ZOiRL: 0.978 , %improvement: -0.37\tCritic MSE: 8589.05457\tCondit"
     ]
    },
    {
     "name": "stdout",
     "output_type": "stream",
     "text": [
      "E2E\tBuilding: 8, r: 19\u001b[H\u001b[2J\u001b[H\u001b[2J\u001b[H\u001b[2J"
     ]
    },
    {
     "name": "stderr",
     "output_type": "stream",
     "text": [
      "Cost: 0.97441 , ZOiRL: 0.978 , %improvement: -0.385\tCritic MSE: 8589.05457\tCondi"
     ]
    },
    {
     "name": "stdout",
     "output_type": "stream",
     "text": [
      "\r",
      "E2E\tBuilding: 8, r: 20\u001b[H\u001b[2J\r",
      "E2E\tBuilding: 8, r: 21\u001b[H\u001b[2J\r",
      "E2E\tBuilding: 8, r: 22\u001b[H\u001b[2J\r",
      "E2E\tBuilding: 8, r: 23\u001b[H\u001b[2J\r",
      "Time taken for training: 638.7\u001b[H\u001b[2J\r\n",
      "MODEL COSTS:\u001b[H\u001b[2J\r",
      "Building 0: -103836.688\u001b[H\u001b[2J\r",
      "Building 8: -24955.399\u001b[H\u001b[2J"
     ]
    },
    {
     "name": "stderr",
     "output_type": "stream",
     "text": [
      "Cost: 0.97366 , ZOiRL: 0.977 , %improvement: -0.322\tCritic MSE: 7935.36362\tCondi"
     ]
    },
    {
     "name": "stdout",
     "output_type": "stream",
     "text": [
      "E2E\tBuilding: 8, r: 19\u001b[H\u001b[2J\u001b[H\u001b[2J\u001b[H\u001b[2J\u001b[H\u001b[2J\u001b[H\u001b[2J\u001b[H\u001b[2J"
     ]
    },
    {
     "name": "stderr",
     "output_type": "stream",
     "text": [
      "Cost: 0.97323 , ZOiRL: 0.977 , %improvement: -0.376\tCritic MSE: 7935.36362\tCondi"
     ]
    },
    {
     "name": "stdout",
     "output_type": "stream",
     "text": [
      "\r",
      "E2E\tBuilding: 8, r: 20\u001b[H\u001b[2J\r",
      "E2E\tBuilding: 8, r: 21\u001b[H\u001b[2J\r",
      "E2E\tBuilding: 8, r: 22\u001b[H\u001b[2J\r",
      "E2E\tBuilding: 8, r: 23\u001b[H\u001b[2J\r",
      "Time taken for training: 669.57\u001b[H\u001b[2J\r\n",
      "MODEL COSTS:\u001b[H\u001b[2J\r",
      "Building 0: -51481.791\u001b[H\u001b[2J\r",
      "Building 8: -25225.359\u001b[H\u001b[2J"
     ]
    },
    {
     "name": "stderr",
     "output_type": "stream",
     "text": [
      "Cost: 0.97226 , ZOiRL: 0.976 , %improvement: -0.396\tCritic MSE: 8311.41064\tCondi"
     ]
    },
    {
     "name": "stdout",
     "output_type": "stream",
     "text": [
      "E2E\tBuilding: 8, r: 23\u001b[H\u001b[2J\u001b[H\u001b[2J\u001b[H\u001b[2J\u001b[H\u001b[2J\u001b[H\u001b[2J\u001b[H\u001b[2J"
     ]
    },
    {
     "name": "stderr",
     "output_type": "stream",
     "text": [
      "Cost: 0.97251 , ZOiRL: 0.976 , %improvement: -0.378\tCritic MSE: 8311.41064\tCondi"
     ]
    },
    {
     "name": "stdout",
     "output_type": "stream",
     "text": [
      "\r",
      "Time taken for training: 632.43\u001b[H\u001b[2J\r\n",
      "MODEL COSTS:\u001b[H\u001b[2J\r",
      "Building 0: -134644.171\u001b[H\u001b[2J\r",
      "Building 8: -28017.947\u001b[H\u001b[2J"
     ]
    },
    {
     "name": "stderr",
     "output_type": "stream",
     "text": [
      "Cost: 0.97274 , ZOiRL: 0.976 , %improvement: -0.349\tCritic MSE: 7840.74787\tCondi"
     ]
    },
    {
     "name": "stdout",
     "output_type": "stream",
     "text": [
      "L2 Optim\tBuilding: 8\tHour: 01\u001b[H\u001b[2J\u001b[H\u001b[2J\u001b[H\u001b[2J"
     ]
    },
    {
     "name": "stderr",
     "output_type": "stream",
     "text": [
      "\r",
      "Cost: 0.97274 , ZOiRL: 0.976 , %improvement: -0.349\tCritic MSE: 7840.74787\tCondi"
     ]
    },
    {
     "name": "stdout",
     "output_type": "stream",
     "text": [
      "E2E\tBuilding: 8, r: 19\u001b[H\u001b[2J\u001b[H\u001b[2J\u001b[H\u001b[2J"
     ]
    },
    {
     "name": "stderr",
     "output_type": "stream",
     "text": [
      "Cost: 0.97261 , ZOiRL: 0.976 , %improvement: -0.364\tCritic MSE: 7840.74787\tCondi"
     ]
    },
    {
     "name": "stdout",
     "output_type": "stream",
     "text": [
      "\r",
      "E2E\tBuilding: 8, r: 20\u001b[H\u001b[2J\r",
      "E2E\tBuilding: 8, r: 21\u001b[H\u001b[2J\r",
      "E2E\tBuilding: 8, r: 22\u001b[H\u001b[2J\r",
      "E2E\tBuilding: 8, r: 23\u001b[H\u001b[2J\r",
      "Time taken for training: 659.98\u001b[H\u001b[2J\r\n",
      "MODEL COSTS:\u001b[H\u001b[2J\r",
      "Building 0: -122215.684\u001b[H\u001b[2J\r",
      "Building 8: -26778.542\u001b[H\u001b[2J"
     ]
    },
    {
     "name": "stderr",
     "output_type": "stream",
     "text": [
      "Cost: 0.97274 , ZOiRL: 0.976 , %improvement: -0.356\tCritic MSE: 7312.7239\tCondit"
     ]
    },
    {
     "name": "stdout",
     "output_type": "stream",
     "text": [
      "L2 Optim\tBuilding: 0\tHour: 14\u001b[H\u001b[2J"
     ]
    },
    {
     "name": "stderr",
     "output_type": "stream",
     "text": [
      "\r",
      "Cost: 0.97274 , ZOiRL: 0.976 , %improvement: -0.356\tCritic MSE: 7312.7239\tCondit"
     ]
    },
    {
     "name": "stdout",
     "output_type": "stream",
     "text": [
      "E2E\tBuilding: 8, r: 22\u001b[H\u001b[2J\u001b[H\u001b[2J\u001b[H\u001b[2J\u001b[H\u001b[2J"
     ]
    },
    {
     "name": "stderr",
     "output_type": "stream",
     "text": [
      "Cost: 0.97287 , ZOiRL: 0.976 , %improvement: -0.345\tCritic MSE: 7312.7239\tCondit"
     ]
    },
    {
     "name": "stdout",
     "output_type": "stream",
     "text": [
      "\r",
      "E2E\tBuilding: 8, r: 23\u001b[H\u001b[2J\r",
      "Time taken for training: 672.39\u001b[H\u001b[2J\r\n",
      "MODEL COSTS:\u001b[H\u001b[2J\r",
      "Building 0: -195278.88\u001b[H\u001b[2J\r",
      "Building 8: -23448.813\u001b[H\u001b[2J"
     ]
    },
    {
     "name": "stderr",
     "output_type": "stream",
     "text": [
      "Cost: 0.97276 , ZOiRL: 0.976 , %improvement: -0.323\tCritic MSE: 8476.23777\tCondi"
     ]
    },
    {
     "name": "stdout",
     "output_type": "stream",
     "text": [
      "E2E\tBuilding: 8, r: 20\u001b[H\u001b[2J\u001b[H\u001b[2J"
     ]
    },
    {
     "name": "stderr",
     "output_type": "stream",
     "text": [
      "Cost: 0.97278 , ZOiRL: 0.976 , %improvement: -0.323\tCritic MSE: 8476.23777\tCondi"
     ]
    },
    {
     "name": "stdout",
     "output_type": "stream",
     "text": [
      "\r",
      "E2E\tBuilding: 8, r: 21\u001b[H\u001b[2J\r",
      "E2E\tBuilding: 8, r: 22\u001b[H\u001b[2J\r",
      "E2E\tBuilding: 8, r: 23\u001b[H\u001b[2J\r",
      "Time taken for training: 621.98\u001b[H\u001b[2J\r\n",
      "MODEL COSTS:\u001b[H\u001b[2J\r",
      "Building 0: -76610.437\u001b[H\u001b[2J\r",
      "Building 8: -17560.576\u001b[H\u001b[2J"
     ]
    },
    {
     "name": "stderr",
     "output_type": "stream",
     "text": [
      "Cost: 0.97293 , ZOiRL: 0.976 , %improvement: -0.295\tCritic MSE: 6453.88745\tCondi"
     ]
    },
    {
     "name": "stdout",
     "output_type": "stream",
     "text": [
      "L2 Optim\tBuilding: 0\tHour: 03\u001b[H\u001b[2J"
     ]
    },
    {
     "name": "stderr",
     "output_type": "stream",
     "text": [
      "\r",
      "Cost: 0.97293 , ZOiRL: 0.976 , %improvement: -0.295\tCritic MSE: 6453.88745\tCondi"
     ]
    },
    {
     "name": "stdout",
     "output_type": "stream",
     "text": [
      "E2E\tBuilding: 8, r: 22\u001b[H\u001b[2J\u001b[H\u001b[2J\u001b[H\u001b[2J\u001b[H\u001b[2J"
     ]
    },
    {
     "name": "stderr",
     "output_type": "stream",
     "text": [
      "Cost: 0.97302 , ZOiRL: 0.976 , %improvement: -0.286\tCritic MSE: 6453.88745\tCondi"
     ]
    },
    {
     "name": "stdout",
     "output_type": "stream",
     "text": [
      "\r",
      "E2E\tBuilding: 8, r: 23\u001b[H\u001b[2J\r",
      "Time taken for training: 682.86\u001b[H\u001b[2J\r\n",
      "MODEL COSTS:\u001b[H\u001b[2J\r",
      "Building 0: -96382.702\u001b[H\u001b[2J\r",
      "Building 8: -12569.385\u001b[H\u001b[2J"
     ]
    },
    {
     "name": "stderr",
     "output_type": "stream",
     "text": [
      "Cost: 0.97141 , ZOiRL: 0.973 , %improvement: -0.116\tCritic MSE: 5873.37333\tCondi"
     ]
    },
    {
     "name": "stdout",
     "output_type": "stream",
     "text": [
      "E2E\tBuilding: 8, r: 21\u001b[H\u001b[2J\u001b[H\u001b[2J"
     ]
    },
    {
     "name": "stderr",
     "output_type": "stream",
     "text": [
      "Cost: 0.97142 , ZOiRL: 0.973 , %improvement: -0.117\tCritic MSE: 5873.37333\tCondi"
     ]
    },
    {
     "name": "stdout",
     "output_type": "stream",
     "text": [
      "\r",
      "E2E\tBuilding: 8, r: 22\u001b[H\u001b[2J\r",
      "E2E\tBuilding: 8, r: 23\u001b[H\u001b[2J\r",
      "Time taken for training: 788.13\u001b[H\u001b[2J\r\n",
      "MODEL COSTS:\u001b[H\u001b[2J\r",
      "Building 0: -88390.511\u001b[H\u001b[2J\r",
      "Building 8: -11437.534\u001b[H\u001b[2J"
     ]
    },
    {
     "name": "stderr",
     "output_type": "stream",
     "text": [
      "Cost: 0.97133 , ZOiRL: 0.975 , %improvement: -0.383\tCritic MSE: 3894.2759\tCondit"
     ]
    },
    {
     "name": "stdout",
     "output_type": "stream",
     "text": [
      "E2E\tBuilding: 8, r: 23\u001b[H\u001b[2J\u001b[H\u001b[2J"
     ]
    },
    {
     "name": "stderr",
     "output_type": "stream",
     "text": [
      "Cost: 0.97299 , ZOiRL: 0.975 , %improvement: -0.212\tCritic MSE: 3894.2759\tCondit"
     ]
    },
    {
     "name": "stdout",
     "output_type": "stream",
     "text": [
      "\r",
      "Time taken for training: 779.11\u001b[H\u001b[2J\r\n",
      "MODEL COSTS:\u001b[H\u001b[2J\r",
      "Building 0: -28487.123\u001b[H\u001b[2J\r",
      "Building 8: -12869.352\u001b[H\u001b[2J"
     ]
    },
    {
     "name": "stderr",
     "output_type": "stream",
     "text": [
      "Cost: 0.97094 , ZOiRL: 0.972 , %improvement: -0.095\tCritic MSE: 5131.0533\tCondit"
     ]
    },
    {
     "name": "stdout",
     "output_type": "stream",
     "text": [
      "L2 Optim\tBuilding: 0\tHour: 01\u001b[H\u001b[2J"
     ]
    },
    {
     "name": "stderr",
     "output_type": "stream",
     "text": [
      "\r",
      "Cost: 0.97094 , ZOiRL: 0.972 , %improvement: -0.095\tCritic MSE: 5131.0533\tCondit"
     ]
    },
    {
     "name": "stdout",
     "output_type": "stream",
     "text": [
      "E2E\tBuilding: 8, r: 20\u001b[H\u001b[2J\u001b[H\u001b[2J\u001b[H\u001b[2J\u001b[H\u001b[2J"
     ]
    },
    {
     "name": "stderr",
     "output_type": "stream",
     "text": [
      "Cost: 0.97089 , ZOiRL: 0.972 , %improvement: -0.097\tCritic MSE: 5131.0533\tCondit"
     ]
    },
    {
     "name": "stdout",
     "output_type": "stream",
     "text": [
      "\r",
      "E2E\tBuilding: 8, r: 21\u001b[H\u001b[2J\r",
      "E2E\tBuilding: 8, r: 22\u001b[H\u001b[2J\r",
      "E2E\tBuilding: 8, r: 23\u001b[H\u001b[2J\r",
      "Time taken for training: 805.19\u001b[H\u001b[2J\r\n",
      "MODEL COSTS:\u001b[H\u001b[2J\r",
      "Building 0: -66837.125\u001b[H\u001b[2J\r",
      "Building 8: -11522.609\u001b[H\u001b[2J"
     ]
    },
    {
     "name": "stderr",
     "output_type": "stream",
     "text": [
      "Cost: 0.97084 , ZOiRL: 0.971 , %improvement: -0.064\tCritic MSE: 4811.32479\tCondi"
     ]
    },
    {
     "name": "stdout",
     "output_type": "stream",
     "text": [
      "E2E\tBuilding: 8, r: 19\u001b[H\u001b[2J\u001b[H\u001b[2J\u001b[H\u001b[2J\u001b[H\u001b[2J"
     ]
    },
    {
     "name": "stderr",
     "output_type": "stream",
     "text": [
      "Cost: 0.97093 , ZOiRL: 0.971 , %improvement: -0.048\tCritic MSE: 4811.32479\tCondi"
     ]
    },
    {
     "name": "stdout",
     "output_type": "stream",
     "text": [
      "\r",
      "E2E\tBuilding: 8, r: 20\u001b[H\u001b[2J\r",
      "E2E\tBuilding: 8, r: 21\u001b[H\u001b[2J\r",
      "E2E\tBuilding: 8, r: 22\u001b[H\u001b[2J\r",
      "E2E\tBuilding: 8, r: 23\u001b[H\u001b[2J\r",
      "Time taken for training: 708.49\u001b[H\u001b[2J\r\n",
      "MODEL COSTS:\u001b[H\u001b[2J\r",
      "Building 0: -64325.762\u001b[H\u001b[2J\r",
      "Building 8: -10399.451\u001b[H\u001b[2J"
     ]
    },
    {
     "name": "stderr",
     "output_type": "stream",
     "text": [
      "Cost: 0.97041 , ZOiRL: 0.971 , %improvement: -0.013\tCritic MSE: 5629.07216\tCondi"
     ]
    },
    {
     "name": "stdout",
     "output_type": "stream",
     "text": [
      "E2E\tBuilding: 8, r: 20\u001b[H\u001b[2J\u001b[H\u001b[2J\u001b[H\u001b[2J\u001b[H\u001b[2J"
     ]
    },
    {
     "name": "stderr",
     "output_type": "stream",
     "text": [
      "Cost: 0.97023 , ZOiRL: 0.971 , %improvement: -0.033\tCritic MSE: 5629.07216\tCondi"
     ]
    },
    {
     "name": "stdout",
     "output_type": "stream",
     "text": [
      "\r",
      "E2E\tBuilding: 8, r: 21\u001b[H\u001b[2J\r",
      "E2E\tBuilding: 8, r: 22\u001b[H\u001b[2J\r",
      "E2E\tBuilding: 8, r: 23\u001b[H\u001b[2J\r",
      "Time taken for training: 736.05\u001b[H\u001b[2J\r\n",
      "MODEL COSTS:\u001b[H\u001b[2J\r",
      "Building 0: -55203.904\u001b[H\u001b[2J\r",
      "Building 8: -13415.441\u001b[H\u001b[2J"
     ]
    },
    {
     "name": "stderr",
     "output_type": "stream",
     "text": [
      "Cost: 0.97004 , ZOiRL: 0.97 , %improvement: 0.004\tCritic MSE: 7052.02172\tConditi"
     ]
    },
    {
     "name": "stdout",
     "output_type": "stream",
     "text": [
      "E2E\tBuilding: 8, r: 23\u001b[H\u001b[2J\u001b[H\u001b[2J"
     ]
    },
    {
     "name": "stderr",
     "output_type": "stream",
     "text": [
      "Cost: 0.97 , ZOiRL: 0.97 , %improvement: 0.002\tCritic MSE: 7052.02172\tCondition "
     ]
    },
    {
     "name": "stdout",
     "output_type": "stream",
     "text": [
      "\u001b[H\u001b[2J\r",
      "Time taken for training: 738.93\u001b[H\u001b[2J\r\n",
      "MODEL COSTS:\u001b[H\u001b[2J\r",
      "Building 0: -53759.84\u001b[H\u001b[2J\r",
      "Building 8: -9211.581\u001b[H\u001b[2J"
     ]
    },
    {
     "name": "stderr",
     "output_type": "stream",
     "text": [
      "Cost: 0.96977 , ZOiRL: 0.969 , %improvement: 0.052\tCritic MSE: 3873.52729\tCondit"
     ]
    },
    {
     "name": "stdout",
     "output_type": "stream",
     "text": [
      "E2E\tBuilding: 8, r: 20\u001b[H\u001b[2J\u001b[H\u001b[2J"
     ]
    },
    {
     "name": "stderr",
     "output_type": "stream",
     "text": [
      "Cost: 0.96952 , ZOiRL: 0.969 , %improvement: 0.028\tCritic MSE: 3873.52729\tCondit"
     ]
    },
    {
     "name": "stdout",
     "output_type": "stream",
     "text": [
      "\r",
      "E2E\tBuilding: 8, r: 21\u001b[H\u001b[2J\r",
      "E2E\tBuilding: 8, r: 22\u001b[H\u001b[2J\r",
      "E2E\tBuilding: 8, r: 23\u001b[H\u001b[2J\r",
      "Time taken for training: 770.12\u001b[H\u001b[2J\r\n",
      "MODEL COSTS:\u001b[H\u001b[2J\r",
      "Building 0: -78511.279\u001b[H\u001b[2J\r",
      "Building 8: -8168.225\u001b[H\u001b[2J"
     ]
    },
    {
     "name": "stderr",
     "output_type": "stream",
     "text": [
      "Cost: 0.96871 , ZOiRL: 0.966 , %improvement: 0.272\tCritic MSE: 3608.53814\tCondit"
     ]
    },
    {
     "name": "stdout",
     "output_type": "stream",
     "text": [
      "E2E\tBuilding: 8, r: 20\u001b[H\u001b[2J\u001b[H\u001b[2J\u001b[H\u001b[2J"
     ]
    },
    {
     "name": "stderr",
     "output_type": "stream",
     "text": [
      "Cost: 0.96781 , ZOiRL: 0.966 , %improvement: 0.174\tCritic MSE: 3608.53814\tCondit"
     ]
    },
    {
     "name": "stdout",
     "output_type": "stream",
     "text": [
      "\r",
      "E2E\tBuilding: 8, r: 21\u001b[H\u001b[2J\r",
      "E2E\tBuilding: 8, r: 22\u001b[H\u001b[2J\r",
      "E2E\tBuilding: 8, r: 23\u001b[H\u001b[2J\r",
      "Time taken for training: 806.43\u001b[H\u001b[2J\r\n",
      "MODEL COSTS:\u001b[H\u001b[2J\r",
      "Building 0: -45652.809\u001b[H\u001b[2J\r",
      "Building 8: -8455.501\u001b[H\u001b[2J"
     ]
    },
    {
     "name": "stderr",
     "output_type": "stream",
     "text": [
      "Cost: 0.97025 , ZOiRL: 0.969 , %improvement: 0.178\tCritic MSE: 4896.82512\tCondit"
     ]
    },
    {
     "name": "stdout",
     "output_type": "stream",
     "text": [
      "L2 Optim\tBuilding: 0\tHour: 04\u001b[H\u001b[2J"
     ]
    },
    {
     "name": "stderr",
     "output_type": "stream",
     "text": [
      "\r",
      "Cost: 0.97025 , ZOiRL: 0.969 , %improvement: 0.178\tCritic MSE: 4896.82512\tCondit"
     ]
    },
    {
     "name": "stdout",
     "output_type": "stream",
     "text": [
      "E2E\tBuilding: 8, r: 22\u001b[H\u001b[2J\u001b[H\u001b[2J"
     ]
    },
    {
     "name": "stderr",
     "output_type": "stream",
     "text": [
      "Cost: 0.9702 , ZOiRL: 0.969 , %improvement: 0.175\tCritic MSE: 4896.82512\tConditi"
     ]
    },
    {
     "name": "stdout",
     "output_type": "stream",
     "text": [
      "\r",
      "E2E\tBuilding: 8, r: 23\u001b[H\u001b[2J\r",
      "Time taken for training: 775.77\u001b[H\u001b[2J\r\n",
      "MODEL COSTS:\u001b[H\u001b[2J\r",
      "Building 0: -22887.402\u001b[H\u001b[2J\r",
      "Building 8: -8015.533\u001b[H\u001b[2J"
     ]
    },
    {
     "name": "stderr",
     "output_type": "stream",
     "text": [
      "Cost: 0.97002 , ZOiRL: 0.968 , %improvement: 0.214\tCritic MSE: 4489.08115\tCondit"
     ]
    },
    {
     "name": "stdout",
     "output_type": "stream",
     "text": [
      "E2E\tBuilding: 8, r: 22\u001b[H\u001b[2J\u001b[H\u001b[2J\u001b[H\u001b[2J"
     ]
    },
    {
     "name": "stderr",
     "output_type": "stream",
     "text": [
      "Cost: 0.96984 , ZOiRL: 0.968 , %improvement: 0.199\tCritic MSE: 4489.08115\tCondit"
     ]
    },
    {
     "name": "stdout",
     "output_type": "stream",
     "text": [
      "\r",
      "E2E\tBuilding: 8, r: 23\u001b[H\u001b[2J\r",
      "Time taken for training: 779.86\u001b[H\u001b[2J\r\n",
      "MODEL COSTS:\u001b[H\u001b[2J\r",
      "Building 0: -38350.722\u001b[H\u001b[2J\r",
      "Building 8: -8589.823\u001b[H\u001b[2J"
     ]
    },
    {
     "name": "stderr",
     "output_type": "stream",
     "text": [
      "Cost: 0.96965 , ZOiRL: 0.967 , %improvement: 0.234\tCritic MSE: 4579.62725\tCondit"
     ]
    },
    {
     "name": "stdout",
     "output_type": "stream",
     "text": [
      "E2E\tBuilding: 8, r: 20\u001b[H\u001b[2J\u001b[H\u001b[2J"
     ]
    },
    {
     "name": "stderr",
     "output_type": "stream",
     "text": [
      "Cost: 0.96958 , ZOiRL: 0.967 , %improvement: 0.232\tCritic MSE: 4579.62725\tCondit"
     ]
    },
    {
     "name": "stdout",
     "output_type": "stream",
     "text": [
      "\r",
      "E2E\tBuilding: 8, r: 21\u001b[H\u001b[2J\r",
      "E2E\tBuilding: 8, r: 22\u001b[H\u001b[2J\r",
      "E2E\tBuilding: 8, r: 23\u001b[H\u001b[2J\r",
      "Time taken for training: 714.24\u001b[H\u001b[2J\r\n",
      "MODEL COSTS:\u001b[H\u001b[2J\r",
      "Building 0: -30296.415\u001b[H\u001b[2J\r",
      "Building 8: -7197.38\u001b[H\u001b[2J"
     ]
    },
    {
     "name": "stderr",
     "output_type": "stream",
     "text": [
      "Cost: 0.9684 , ZOiRL: 0.965 , %improvement: 0.314\tCritic MSE: 6613.97711\tConditi"
     ]
    },
    {
     "name": "stdout",
     "output_type": "stream",
     "text": [
      "E2E\tBuilding: 8, r: 22\u001b[H\u001b[2J\u001b[H\u001b[2J\u001b[H\u001b[2J"
     ]
    },
    {
     "name": "stderr",
     "output_type": "stream",
     "text": [
      "Cost: 0.96836 , ZOiRL: 0.965 , %improvement: 0.314\tCritic MSE: 6613.97711\tCondit"
     ]
    },
    {
     "name": "stdout",
     "output_type": "stream",
     "text": [
      "\r",
      "E2E\tBuilding: 8, r: 23\u001b[H\u001b[2J\r",
      "Time taken for training: 705.98\u001b[H\u001b[2J\r\n",
      "MODEL COSTS:\u001b[H\u001b[2J\r",
      "Building 0: -100365.626\u001b[H\u001b[2J\r",
      "Building 8: -9939.949\u001b[H\u001b[2J"
     ]
    },
    {
     "name": "stderr",
     "output_type": "stream",
     "text": [
      "Cost: 0.96831 , ZOiRL: 0.966 , %improvement: 0.272\tCritic MSE: 5841.99742\tCondit"
     ]
    },
    {
     "name": "stdout",
     "output_type": "stream",
     "text": [
      "E2E\tBuilding: 8, r: 22\u001b[H\u001b[2J\u001b[H\u001b[2J\u001b[H\u001b[2J"
     ]
    },
    {
     "name": "stderr",
     "output_type": "stream",
     "text": [
      "Cost: 0.96845 , ZOiRL: 0.966 , %improvement: 0.289\tCritic MSE: 5841.99742\tCondit"
     ]
    },
    {
     "name": "stdout",
     "output_type": "stream",
     "text": [
      "\r",
      "E2E\tBuilding: 8, r: 23\u001b[H\u001b[2J\r",
      "Time taken for training: 675.79\u001b[H\u001b[2J\r\n",
      "MODEL COSTS:\u001b[H\u001b[2J\r",
      "Building 0: -25859.385\u001b[H\u001b[2J\r",
      "Building 8: -6648.206\u001b[H\u001b[2J"
     ]
    },
    {
     "name": "stderr",
     "output_type": "stream",
     "text": [
      "Cost: 0.96829 , ZOiRL: 0.965 , %improvement: 0.307\tCritic MSE: 4491.80734\tCondit"
     ]
    },
    {
     "name": "stdout",
     "output_type": "stream",
     "text": [
      "E2E\tBuilding: 8, r: 22\u001b[H\u001b[2J\u001b[H\u001b[2J"
     ]
    },
    {
     "name": "stderr",
     "output_type": "stream",
     "text": [
      "Cost: 0.96824 , ZOiRL: 0.965 , %improvement: 0.308\tCritic MSE: 4491.80734\tCondit"
     ]
    },
    {
     "name": "stdout",
     "output_type": "stream",
     "text": [
      "\r",
      "E2E\tBuilding: 8, r: 23\u001b[H\u001b[2J\r",
      "Time taken for training: 692.5\u001b[H\u001b[2J\r\n",
      "MODEL COSTS:\u001b[H\u001b[2J\r",
      "Building 0: -239990.632\u001b[H\u001b[2J\r",
      "Building 8: -5896.46\u001b[H\u001b[2J"
     ]
    },
    {
     "name": "stderr",
     "output_type": "stream",
     "text": [
      "Cost: 0.96815 , ZOiRL: 0.965 , %improvement: 0.348\tCritic MSE: 3721.38647\tCondit"
     ]
    },
    {
     "name": "stdout",
     "output_type": "stream",
     "text": [
      "E2E\tBuilding: 8, r: 20\u001b[H\u001b[2J\u001b[H\u001b[2J"
     ]
    },
    {
     "name": "stderr",
     "output_type": "stream",
     "text": [
      "Cost: 0.96794 , ZOiRL: 0.965 , %improvement: 0.331\tCritic MSE: 3721.38647\tCondit"
     ]
    },
    {
     "name": "stdout",
     "output_type": "stream",
     "text": [
      "\r",
      "E2E\tBuilding: 8, r: 21\u001b[H\u001b[2J\r",
      "E2E\tBuilding: 8, r: 22\u001b[H\u001b[2J\r",
      "E2E\tBuilding: 8, r: 23\u001b[H\u001b[2J\r",
      "Time taken for training: 711.87\u001b[H\u001b[2J\r\n",
      "MODEL COSTS:\u001b[H\u001b[2J\r",
      "Building 0: -59500.502\u001b[H\u001b[2J\r",
      "Building 8: -4861.716\u001b[H\u001b[2J"
     ]
    },
    {
     "name": "stderr",
     "output_type": "stream",
     "text": [
      "Cost: 0.96794 , ZOiRL: 0.965 , %improvement: 0.346\tCritic MSE: 2753.32462\tCondit\n"
     ]
    }
   ],
   "source": [
    "params_agent = {'building_ids':[\"Building_\"+str(i) for i in [1,2,3,4,5,6,7,8,9]],\n",
    "                 'buildings_states_actions':'buildings_state_action_space.json', \n",
    "                 'building_info':building_info,\n",
    "                 'observation_spaces':observations_spaces,\n",
    "                 'agent_checkpoint' : checkpoint,\n",
    "                 'action_spaces':actions_spaces}\n",
    "\n",
    "# Instantiating the control agent(s)\n",
    "rewards = []\n",
    "critic_mse = [] # only last building to be added MSE will be recorded\n",
    "\n",
    "agent = Agent(**params_agent)\n",
    "\n",
    "state = env.reset()\n",
    "done = False\n",
    "\n",
    "ZO_iRL_costs = np.load(\"ZOiRL_cost_curve.npy\")\n",
    "\n",
    "with tqdm(total=end_time) as pbar:\n",
    "    while not done:\n",
    "        \n",
    "        # get agent\n",
    "        # day_type = env.buildings['Building_1'].sim_results['day'][env.time_step]\n",
    "        # agent = agents.get_agent(day_type)\n",
    "        # get agent\n",
    "        \n",
    "        action, _ = agent.select_action(state)\n",
    "        next_state, reward, done, _ = env.step(action)\n",
    "        agent.add_to_buffer(state, action, reward, next_state, done)\n",
    "        state = next_state\n",
    "\n",
    "        rewards.append(reward)\n",
    "\n",
    "        try:\n",
    "            mse, condition = get_mse_critic()\n",
    "            pim = round(100 * (env.costs_periodic[-1]['total'] - ZO_iRL_costs[env.time_step]) / ZO_iRL_costs[env.time_step], 3)\n",
    "            txt = f\"Cost: {round(env.costs_periodic[-1]['total'], 5)} , ZOiRL: {round(ZO_iRL_costs[env.time_step], 3)} , %improvement: {pim}\"\n",
    "            if len(critic_mse) > 0:\n",
    "                txt += f\"\\tCritic MSE: {critic_mse[-1][0]}\\tCondition number: {critic_mse[-1][1]}\"\n",
    "                \n",
    "            if mse is not None:\n",
    "                critic_mse.append([mse, condition])\n",
    "                \n",
    "            pbar.set_description(txt)\n",
    "        except:\n",
    "            pass\n",
    "        \n",
    "        pbar.update(1)\n",
    "\n",
    "rewards = np.array(rewards)"
   ]
  },
  {
   "cell_type": "code",
   "execution_count": 6,
   "metadata": {},
   "outputs": [
    {
     "data": {
      "text/plain": [
       "14102.057619049294"
      ]
     },
     "execution_count": 6,
     "metadata": {},
     "output_type": "execute_result"
    }
   ],
   "source": [
    "i=23\n",
    "agent.critic[0].prob[i].solve('SCS')"
   ]
  },
  {
   "cell_type": "code",
   "execution_count": 7,
   "metadata": {},
   "outputs": [
    {
     "data": {
      "text/plain": [
       "14102.024919122612"
      ]
     },
     "execution_count": 7,
     "metadata": {},
     "output_type": "execute_result"
    }
   ],
   "source": [
    "agent.critic[0].prob[i].solve('SCS', eps=5e-2)"
   ]
  },
  {
   "cell_type": "code",
   "execution_count": 8,
   "metadata": {},
   "outputs": [],
   "source": [
    "x = agent.critic[0].prob[i]"
   ]
  },
  {
   "cell_type": "code",
   "execution_count": 9,
   "metadata": {},
   "outputs": [
    {
     "ename": "NameError",
     "evalue": "name 'r' is not defined",
     "output_type": "error",
     "traceback": [
      "\u001b[0;31m---------------------------------------------------------------------------\u001b[0m",
      "\u001b[0;31mNameError\u001b[0m                                 Traceback (most recent call last)",
      "Input \u001b[0;32mIn [9]\u001b[0m, in \u001b[0;36m<cell line: 1>\u001b[0;34m()\u001b[0m\n\u001b[0;32m----> 1\u001b[0m \u001b[38;5;241m-\u001b[39m\u001b[43mr\u001b[49m \u001b[38;5;241m*\u001b[39m ramping_cost \u001b[38;5;241m-\u001b[39m electricity_cost\n",
      "\u001b[0;31mNameError\u001b[0m: name 'r' is not defined"
     ]
    }
   ],
   "source": [
    "-r * ramping_cost - electricity_cost"
   ]
  },
  {
   "cell_type": "code",
   "execution_count": null,
   "metadata": {},
   "outputs": [],
   "source": [
    "x.solve(solver='SCS', max_iters=10_000_000, eps=5e-2)"
   ]
  },
  {
   "cell_type": "code",
   "execution_count": null,
   "metadata": {},
   "outputs": [],
   "source": [
    "np.sum(e[t:] * E_grid)"
   ]
  },
  {
   "cell_type": "code",
   "execution_count": null,
   "metadata": {},
   "outputs": [],
   "source": [
    "_type = 0\n",
    "Q_value, ramping_cost, peak_hist_cost, electricity_cost, E_grid, E_grid_true, E_grid_prevhour, (bid, t) = agent.critic_target[_type].debug\n",
    "r, e = agent.critic[_type].alpha_ramp[bid], agent.critic[_type].alpha_elec[bid]"
   ]
  },
  {
   "cell_type": "code",
   "execution_count": null,
   "metadata": {},
   "outputs": [],
   "source": [
    "Q_value"
   ]
  },
  {
   "cell_type": "code",
   "execution_count": null,
   "metadata": {
    "scrolled": true
   },
   "outputs": [],
   "source": [
    "np.mean(agent.actor._grads[0]['p_ele_grad'], 1)"
   ]
  },
  {
   "cell_type": "code",
   "execution_count": null,
   "metadata": {
    "scrolled": true
   },
   "outputs": [],
   "source": [
    "plt.plot(np.array(critic_mse)[:, 0])\n",
    "plt.xlabel(\"Meta-episode #\")\n",
    "plt.ylabel(\"Cost\")"
   ]
  },
  {
   "cell_type": "code",
   "execution_count": null,
   "metadata": {},
   "outputs": [],
   "source": [
    "agent.actor.debug[1][\"E_grid_prevhour\"]"
   ]
  },
  {
   "cell_type": "code",
   "execution_count": null,
   "metadata": {},
   "outputs": [],
   "source": [
    "np.array(rewards)[23:, 0].sum()"
   ]
  },
  {
   "cell_type": "code",
   "execution_count": null,
   "metadata": {},
   "outputs": [],
   "source": [
    "np.shape(critic_mse)"
   ]
  },
  {
   "cell_type": "code",
   "execution_count": null,
   "metadata": {},
   "outputs": [],
   "source": [
    "for k, v in agent.actor._losses.items():\n",
    "    print(k, v)"
   ]
  },
  {
   "cell_type": "code",
   "execution_count": null,
   "metadata": {},
   "outputs": [],
   "source": [
    "np.array(rewards).sum(0)"
   ]
  },
  {
   "cell_type": "code",
   "execution_count": 10,
   "metadata": {},
   "outputs": [],
   "source": [
    "total = [x[\"total\"] for x in env.costs_periodic]"
   ]
  },
  {
   "cell_type": "code",
   "execution_count": 11,
   "metadata": {},
   "outputs": [
    {
     "data": {
      "text/plain": [
       "array([ 2.23083796e-02,  0.00000000e+00,  2.93362072e-01, -8.98020848e-02,\n",
       "       -1.20212128e-03, -7.74556059e-03,  7.04566661e-14,  4.80154435e-02,\n",
       "        2.69720469e-01, -3.52945267e-02,  4.77355244e+00,  2.60453697e-02,\n",
       "        3.52210878e-02,  7.72479975e-02,  3.36299062e-02,  9.31668719e-01,\n",
       "       -3.96209354e-01,  1.56152744e+00,  4.35850365e-01,  9.65776878e-02,\n",
       "       -7.24534046e-12,  4.24837783e-01,  1.45783245e-01,  2.50927920e-02,\n",
       "        3.69879581e+00,  1.20759722e-01,  3.20638723e-01,  2.94690614e-01,\n",
       "        5.19194913e-01,  2.76624338e-01,  2.91844950e-01,  1.55994387e-01,\n",
       "       -1.66176506e-03,  3.79419616e-02,  1.06859572e-11,  4.04768904e-01,\n",
       "        4.37205611e-02,  3.92244748e-02,  1.56354102e-01,  1.23683608e-02,\n",
       "        1.78778540e-01, -1.18087729e-02,  1.14514383e-01, -2.40992493e-11,\n",
       "        2.51625702e-02,  1.04682620e-01,  9.77761468e-02,  4.47076884e-01,\n",
       "        1.45145824e-02,  5.01299613e-02,  1.30752942e-01,  4.92935986e-02,\n",
       "        2.91564434e-03,  1.73991044e-03, -3.60806821e-03, -1.47961363e-01,\n",
       "        1.07956800e-02,  2.84133268e-02,  2.27482395e-02,  6.06761760e-01,\n",
       "       -4.45113219e-02,  2.84470172e-01,  3.10829036e-02,  3.52765395e-01,\n",
       "       -7.84856842e-10,  1.14064477e-01,  8.09203273e-01,  1.75146775e-01,\n",
       "        5.50278812e-02,  2.22431357e-02,  6.57381514e-01,  4.52319033e+00,\n",
       "        3.28864181e-02, -6.68694744e-02,  3.18464741e-02,  3.67912259e-01,\n",
       "        1.54750783e-02,  5.63150297e-01,  1.19332026e+00,  1.41034864e-01,\n",
       "        4.00061410e-02,  7.65300892e-03,  1.70345885e-01, -2.32511238e-02,\n",
       "        3.13530029e-01,  3.92117562e-01, -3.21747686e-02])"
      ]
     },
     "execution_count": 11,
     "metadata": {},
     "output_type": "execute_result"
    }
   ],
   "source": [
    "np.mean(agent.actor._grads[0]['p_ele_grad'], 1)"
   ]
  },
  {
   "cell_type": "code",
   "execution_count": 84,
   "metadata": {},
   "outputs": [
    {
     "data": {
      "text/plain": [
       "{'ramping': 1.1213674699640757,\n",
       " 'c_score': [1.1213674699640757,\n",
       "  1.0295678461201674,\n",
       "  1.0582409567289226,\n",
       "  1.1282838948296476],\n",
       " '1-load_factor': 1.0295678461201674,\n",
       " 'average_daily_peak': 1.0582409567289226,\n",
       " 'peak_demand': 1.1282838948296476,\n",
       " 'net_electricity_consumption': 1.010005988029485,\n",
       " 'carbon_emissions': 1.0056698,\n",
       " 'total': 1.0588559979836518,\n",
       " 'coordination_score': 1.0843650419107032}"
      ]
     },
     "execution_count": 84,
     "metadata": {},
     "output_type": "execute_result"
    }
   ],
   "source": [
    "env.cost_detailed_view()['Building_9']['cost']"
   ]
  },
  {
   "cell_type": "code",
   "execution_count": 13,
   "metadata": {},
   "outputs": [
    {
     "data": {
      "text/plain": [
       "({'ramping': 0.8449968,\n",
       "  '1-load_factor': 1.0087073591014952,\n",
       "  'average_daily_peak': 0.9925273,\n",
       "  'peak_demand': 0.9495554,\n",
       "  'net_electricity_consumption': 1.0054009,\n",
       "  'carbon_emissions': 1.0056698,\n",
       "  'total': 0.9678096000794109,\n",
       "  'coordination_score': 0.9489467180436157},\n",
       " <citylearn.CityLearn at 0x112e76610>)"
      ]
     },
     "execution_count": 13,
     "metadata": {},
     "output_type": "execute_result"
    }
   ],
   "source": [
    "env.cost((0, end_time))"
   ]
  },
  {
   "cell_type": "code",
   "execution_count": 31,
   "metadata": {},
   "outputs": [
    {
     "data": {
      "image/png": "[encoded data removed]",
      "text/plain": [
       "<Figure size 432x288 with 1 Axes>"
      ]
     },
     "metadata": {
      "needs_background": "light"
     },
     "output_type": "display_data"
    }
   ],
   "source": [
    "plt.plot(total, label=\"iAC\")\n",
    "plt.plot(ZO_iRL_costs[::24][1:], label=\"ZOiRL\")\n",
    "plt.legend()\n",
    "plt.ylim(0.96, 1.5)\n",
    "plt.xlabel(\"Day\")\n",
    "plt.ylabel(\"Cost\")\n",
    "plt.show()"
   ]
  },
  {
   "cell_type": "code",
   "execution_count": 89,
   "metadata": {},
   "outputs": [
    {
     "data": {
      "text/plain": [
       "(array([  1,   2,   3,   4,   5,   6,   7,   8,   9,  10,  11,  12,  13,\n",
       "         14,  15,  16,  17,  18,  19,  20,  21,  22,  23,  24,  25,  26,\n",
       "         27,  28,  29,  30,  31,  32,  33,  34,  35,  36,  37,  38,  39,\n",
       "         40,  41,  42,  43,  44,  45,  46,  47,  48,  49,  50,  51,  60,\n",
       "         61,  85,  86,  87,  88, 327, 328, 329, 330, 331, 332, 333, 334,\n",
       "        335, 336, 337, 338, 339, 340, 341, 342, 343, 344, 345, 346, 347,\n",
       "        348, 349, 350, 351, 352, 353, 354, 355, 356, 357, 358, 359, 360,\n",
       "        361, 362, 363]),)"
      ]
     },
     "execution_count": 89,
     "metadata": {},
     "output_type": "execute_result"
    }
   ],
   "source": [
    "np.where(ZO_iRL_costs[::24][1:] < total)"
   ]
  },
  {
   "cell_type": "code",
   "execution_count": 42,
   "metadata": {},
   "outputs": [
    {
     "data": {
      "text/plain": [
       "(-66989084.0, -65382132.0)"
      ]
     },
     "execution_count": 42,
     "metadata": {},
     "output_type": "execute_result"
    }
   ],
   "source": [
    "-66989084.0,rewards[23:].sum()"
   ]
  },
  {
   "cell_type": "code",
   "execution_count": 15,
   "metadata": {},
   "outputs": [],
   "source": [
    "data = {}\n",
    "NUM_DAYS = len(agent.critic_optim.debug['ramping_cost'])\n",
    "\n",
    "for key, _d in agent.critic_optim.debug.items():\n",
    "    data[key] = []\n",
    "    for day in _d:\n",
    "        data[key].append(day.value)\n",
    "    data[key] = np.reshape(data[key], (NUM_DAYS * 24))"
   ]
  },
  {
   "cell_type": "code",
   "execution_count": null,
   "metadata": {},
   "outputs": [],
   "source": [
    "rc = data['ramping_cost']\n",
    "peak = data['peak_net_electricity_cost']\n",
    "ec = data['electricity_cost']\n",
    "\n",
    "A = np.vstack((-rc, -peak)).T\n",
    "y = np.reshape(agent.critic_optim.problem.param_dict['y_r'].value, (NUM_DAYS * 24))\n",
    "\n",
    "x, residuals, rank, s = np.linalg.lstsq(A, y, rcond=None)\n",
    "print(f\"Rank: {rank}\\tCondition Number: {np.linalg.cond(A)}\")\n",
    "print(f\"MSE across {NUM_DAYS} days: {round(np.linalg.norm(A@x - y), 5)}\")\n",
    "\n",
    "plt.plot(A@x, label='y_hat')\n",
    "plt.plot(y, label='y')\n",
    "plt.legend()\n",
    "plt.xlabel(\"Hours\")\n",
    "plt.ylabel(\"Q-value\")\n",
    "plt.show()"
   ]
  },
  {
   "cell_type": "code",
   "execution_count": null,
   "metadata": {},
   "outputs": [],
   "source": [
    "(A@x).max(), y.max()"
   ]
  },
  {
   "cell_type": "code",
   "execution_count": null,
   "metadata": {},
   "outputs": [],
   "source": [
    "p = agent.critic_optim.problem"
   ]
  },
  {
   "cell_type": "code",
   "execution_count": null,
   "metadata": {},
   "outputs": [],
   "source": [
    "p.solve()"
   ]
  },
  {
   "cell_type": "code",
   "execution_count": null,
   "metadata": {},
   "outputs": [],
   "source": [
    "import cvxpy\n",
    "for i in range(len(p.constraints)):\n",
    "    x = p.constraints[i]\n",
    "    if isinstance(x.args[0], cvxpy.atoms.affine.add_expr.AddExpression):\n",
    "        assert x.args[0].value <= 1, (i, x.args[0].value)"
   ]
  },
  {
   "cell_type": "code",
   "execution_count": null,
   "metadata": {},
   "outputs": [],
   "source": [
    "agent.critic_target[0].alpha_peak1"
   ]
  },
  {
   "cell_type": "code",
   "execution_count": null,
   "metadata": {},
   "outputs": [],
   "source": [
    "agent.critic_optim.debug"
   ]
  },
  {
   "cell_type": "code",
   "execution_count": null,
   "metadata": {},
   "outputs": [],
   "source": [
    "np.mean(agent.critic[0].alpha_elec, 1)"
   ]
  },
  {
   "cell_type": "code",
   "execution_count": null,
   "metadata": {},
   "outputs": [],
   "source": [
    "agent.critic_target[0].alpha_ramp"
   ]
  },
  {
   "cell_type": "code",
   "execution_count": null,
   "metadata": {},
   "outputs": [],
   "source": [
    "agent.critic[0].alpha_ramp"
   ]
  },
  {
   "cell_type": "code",
   "execution_count": null,
   "metadata": {},
   "outputs": [],
   "source": [
    "_t = np.array(agent._actor_zetas['p_ele_local']).T"
   ]
  },
  {
   "cell_type": "code",
   "execution_count": null,
   "metadata": {},
   "outputs": [],
   "source": [
    "plt.scatter(range(24), agent.actor.zeta['p_ele'][:, 0], c='k', label=\"Iteration 3\")\n",
    "plt.bar(range(24), _t[0, :, 0], label=\"Initial\")\n",
    "plt.bar(range(24), _t[0, :, 1], label=\"Iteration 1\")\n",
    "plt.bar(range(24), _t[0, :, 2], label=\"Iteration 2\")\n",
    "plt.legend(loc=\"upper center\", bbox_to_anchor=(0.5, 1.15), ncol=4)\n",
    "plt.show()"
   ]
  },
  {
   "cell_type": "code",
   "execution_count": null,
   "metadata": {},
   "outputs": [],
   "source": [
    "#set seaborn plotting aesthetics as default\n",
    "sns.set(rc={'figure.figsize':(5,5)})\n",
    "df = np.array(agent._actor_zetas['p_ele_local'])\n",
    "df = np.append(df, np.expand_dims(agent.actor.zeta['p_ele'], 0)).reshape((9, 24, 9)).T\n",
    "\n",
    "fig, axn = plt.subplots(2, 2, sharex=True, sharey=True)\n",
    "cbar_ax = fig.add_axes([.91, .3, .03, .4])\n",
    "\n",
    "for i, ax in enumerate(axn.flat):\n",
    "    sns.heatmap(df[i], ax=ax,\n",
    "                cbar=i == 0,\n",
    "                cmap='viridis',\n",
    "                cbar_ax=None if i else cbar_ax)\n",
    "    ax.set(title=f\"Building {i + 1}\")\n",
    "\n",
    "axn.flat[0].set(ylabel='Hour of Day')\n",
    "axn.flat[2].set(ylabel='Hour of Day')\n",
    "axn.flat[2].set(xlabel='Month')\n",
    "axn.flat[3].set(xlabel='Month')\n",
    "\n",
    "\n",
    "fig.tight_layout(rect=[0, 0, .9, 1])"
   ]
  },
  {
   "cell_type": "code",
   "execution_count": null,
   "metadata": {},
   "outputs": [],
   "source": [
    "plt.bar(range(24), agent.actor.zeta['p_ele'][:, 0])"
   ]
  },
  {
   "cell_type": "code",
   "execution_count": null,
   "metadata": {},
   "outputs": [],
   "source": [
    "np.array(agent._actor_zetas[\"p_ele_local\"])[:, :, 0].min(1)"
   ]
  },
  {
   "cell_type": "code",
   "execution_count": null,
   "metadata": {},
   "outputs": [],
   "source": [
    "np.array(agent._actor_zetas[\"p_ele_target\"])[:, :, 0].min(1)"
   ]
  },
  {
   "cell_type": "code",
   "execution_count": null,
   "metadata": {},
   "outputs": [],
   "source": [
    "agent.actor.scs_cnt, agent.actor.fail_cnt, agent.critic_optim.fail_cnt"
   ]
  },
  {
   "cell_type": "code",
   "execution_count": null,
   "metadata": {},
   "outputs": [],
   "source": [
    "agent.actor.zeta[\"p_ele\"][:, 0]"
   ]
  },
  {
   "cell_type": "code",
   "execution_count": null,
   "metadata": {},
   "outputs": [],
   "source": [
    "agent.critic[0].alpha_peak1"
   ]
  },
  {
   "cell_type": "code",
   "execution_count": null,
   "metadata": {},
   "outputs": [],
   "source": [
    "agent.critic_target[0].alpha_peak1"
   ]
  },
  {
   "cell_type": "code",
   "execution_count": null,
   "metadata": {},
   "outputs": [],
   "source": [
    "agent.actor.zeta"
   ]
  },
  {
   "cell_type": "code",
   "execution_count": 68,
   "metadata": {},
   "outputs": [],
   "source": [
    "t = np.random.rand(101, 30)"
   ]
  },
  {
   "cell_type": "code",
   "execution_count": 69,
   "metadata": {},
   "outputs": [],
   "source": [
    "v = np.expand_dims(t, axis=(2, 3))"
   ]
  },
  {
   "cell_type": "code",
   "execution_count": 74,
   "metadata": {},
   "outputs": [
    {
     "data": {
      "text/plain": [
       "30"
      ]
     },
     "execution_count": 74,
     "metadata": {},
     "output_type": "execute_result"
    }
   ],
   "source": [
    "np.linalg.matrix_rank(t)"
   ]
  },
  {
   "cell_type": "code",
   "execution_count": 76,
   "metadata": {},
   "outputs": [
    {
     "data": {
      "text/plain": [
       "1.1169729594212834"
      ]
     },
     "execution_count": 76,
     "metadata": {},
     "output_type": "execute_result"
    }
   ],
   "source": [
    "total[100]"
   ]
  },
  {
   "cell_type": "code",
   "execution_count": null,
   "metadata": {},
   "outputs": [],
   "source": []
  }
 ],
 "metadata": {
  "kernelspec": {
   "display_name": "Python 3 (ipykernel)",
   "language": "python",
   "name": "python3"
  },
  "language_info": {
   "codemirror_mode": {
    "name": "ipython",
    "version": 3
   },
   "file_extension": ".py",
   "mimetype": "text/x-python",
   "name": "python",
   "nbconvert_exporter": "python",
   "pygments_lexer": "ipython3",
   "version": "3.9.12"
  }
 },
 "nbformat": 4,
 "nbformat_minor": 4
}
