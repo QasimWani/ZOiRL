{
 "cells": [
  {
   "cell_type": "code",
   "execution_count": 1,
   "metadata": {
    "scrolled": false
   },
   "outputs": [
    {
     "name": "stderr",
     "output_type": "stream",
     "text": [
      "/Users/qasimwani/opt/anaconda3/lib/python3.7/site-packages/patsy/constraint.py:13: DeprecationWarning: Using or importing the ABCs from 'collections' instead of from 'collections.abc' is deprecated since Python 3.3,and in 3.9 it will stop working\n",
      "  from collections import Mapping\n"
     ]
    }
   ],
   "source": [
    "import warnings\n",
    "warnings.simplefilter(\"always\")\n",
    "\n",
    "# Run this again after editing submodules so Colab uses the updated versions\n",
    "from citylearn import  CityLearn\n",
    "from pathlib import Path\n",
    "from TD3 import Agent as Agent\n",
    "import numpy as np                                                                                                                                                                                      \n",
    "import torch\n",
    "import matplotlib.pyplot as plt\n",
    "import time\n",
    "from tqdm import tqdm\n",
    "from utils import agent_checkpoint_cost\n",
    "import seaborn as sns\n",
    "import os"
   ]
  },
  {
   "cell_type": "code",
   "execution_count": 2,
   "metadata": {},
   "outputs": [
    {
     "name": "stdout",
     "output_type": "stream",
     "text": [
      "Time taken to add RBC pretrained model (sec): 4.713\n"
     ]
    }
   ],
   "source": [
    "# Load environment\n",
    "climate_zone = 1\n",
    "end_time = 2189 # total number of hours to train for\n",
    "cost_analysis = 24 # analyze costs every x hours\n",
    "checkpoint = 24 # save parameters every x hours\n",
    "\n",
    "params = {'data_path':Path(\"data/Climate_Zone_\"+str(climate_zone)), \n",
    "        'building_attributes':'building_attributes.json', \n",
    "        'weather_file':'weather_data.csv', \n",
    "        'solar_profile':'solar_generation_1kW.csv', \n",
    "        'carbon_intensity':'carbon_intensity.csv',\n",
    "        'building_ids':[\"Building_\"+str(i) for i in [1,2,3,4,5,6,7,8,9]],\n",
    "        'buildings_states_actions':'buildings_state_action_space.json', \n",
    "        'simulation_period': (0, end_time), \n",
    "        'cost_function': ['ramping','1-load_factor','average_daily_peak','peak_demand','net_electricity_consumption','carbon_emissions'], \n",
    "        'central_agent': False,\n",
    "        'cost_analysis' : cost_analysis,\n",
    "        'save_memory': False }\n",
    "\n",
    "# Contain the lower and upper bounds of the states and actions, to be provided to the agent to normalize the variables between 0 and 1.\n",
    "env = CityLearn(**params)\n",
    "env.pretrain_baseline_model((0, end_time))\n",
    "\n",
    "observations_spaces, actions_spaces = env.get_state_action_spaces()\n",
    "\n",
    "# Provides information on Building type, Climate Zone, Annual DHW demand, Annual Cooling Demand, Annual Electricity Demand, Solar Capacity, and correllations among buildings\n",
    "building_info = env.get_building_information()"
   ]
  },
  {
   "cell_type": "code",
   "execution_count": 3,
   "metadata": {},
   "outputs": [],
   "source": [
    "def get_mse_critic():\n",
    "    if not agent.did_i_just_finish_training():\n",
    "            return None, None\n",
    "    try:\n",
    "        data = {}\n",
    "        NUM_DAYS = len(agent.critic_optim.debug['ramping_cost'])\n",
    "\n",
    "        for key, _d in agent.critic_optim.debug.items():\n",
    "            data[key] = []\n",
    "            for day in _d:\n",
    "                data[key].append(day.value)\n",
    "            data[key] = np.reshape(data[key], (NUM_DAYS * 24))\n",
    "\n",
    "        rc = data['ramping_cost']\n",
    "        peak = data['peak_net_electricity_cost']\n",
    "        ec = data['electricity_cost']\n",
    "\n",
    "        A = np.vstack((-rc, -peak)).T\n",
    "        y = np.reshape(agent.critic_optim.problem.param_dict['y_r'].value, (NUM_DAYS * 24))\n",
    "\n",
    "        x, residuals, rank, s = np.linalg.lstsq(A, y, rcond=None)\n",
    "        # print(f\"Rank: {rank}\\tCondition Number: {np.linalg.cond(A)}\")\n",
    "        # print(f\"MSE across {NUM_DAYS} days: {round(np.linalg.norm(A@x - y), 5)}\")\n",
    "        return round(np.linalg.norm(A@x - y), 5), round(np.linalg.cond(A), 3)\n",
    "    except:\n",
    "        return None, None"
   ]
  },
  {
   "cell_type": "code",
   "execution_count": 4,
   "metadata": {},
   "outputs": [
    {
     "data": {
      "text/plain": [
       "(9, 30)"
      ]
     },
     "execution_count": 4,
     "metadata": {},
     "output_type": "execute_result"
    }
   ],
   "source": [
    "env._get_ob().shape"
   ]
  },
  {
   "cell_type": "code",
   "execution_count": 5,
   "metadata": {
    "scrolled": false
   },
   "outputs": [
    {
     "name": "stderr",
     "output_type": "stream",
     "text": [
      "iAC: 1.413 , ZOiRL: 1.406 , %ipr: -0.503:  22%|██▏       | 478/2189 [00:31<03:56,  7.25it/s] "
     ]
    },
    {
     "name": "stdout",
     "output_type": "stream",
     "text": [
      "E2E\tBuilding: 0, r: 22our: 23"
     ]
    },
    {
     "name": "stderr",
     "output_type": "stream",
     "text": [
      "iAC: 1.406 , ZOiRL: 1.403 , %ipr: -0.209:  22%|██▏       | 480/2189 [02:26<10:57:54, 23.10s/it]"
     ]
    },
    {
     "name": "stdout",
     "output_type": "stream",
     "text": [
      "\r",
      "E2E\tBuilding: 0, r: 23\r",
      "Time taken for training: 115.59\r\n",
      "MODEL COSTS:\r",
      "Building 0: -385.473"
     ]
    },
    {
     "name": "stderr",
     "output_type": "stream",
     "text": [
      "iAC: 1.38 , ZOiRL: 1.373 , %ipr: -0.538, MSE: 1790.704 , CN: 21.614:  26%|██▌       | 574/2189 [02:43<02:57,  9.10it/s]   "
     ]
    },
    {
     "name": "stdout",
     "output_type": "stream",
     "text": [
      "E2E\tBuilding: 0, r: 22our: 23"
     ]
    },
    {
     "name": "stderr",
     "output_type": "stream",
     "text": [
      "iAC: 1.372 , ZOiRL: 1.37 , %ipr: -0.132, MSE: 1790.704 , CN: 21.614:  26%|██▋       | 576/2189 [04:34<11:31:13, 25.71s/it]"
     ]
    },
    {
     "name": "stdout",
     "output_type": "stream",
     "text": [
      "\r",
      "E2E\tBuilding: 0, r: 23\r",
      "Time taken for training: 110.91\r\n",
      "MODEL COSTS:\r",
      "Building 0: -386.061"
     ]
    },
    {
     "name": "stderr",
     "output_type": "stream",
     "text": [
      "iAC: 1.341 , ZOiRL: 1.337 , %ipr: -0.302, MSE: 586.296 , CN: 19.157:  31%|███       | 671/2189 [04:49<04:39,  5.43it/s]    "
     ]
    },
    {
     "name": "stdout",
     "output_type": "stream",
     "text": [
      "Time taken for training: 108.39\n",
      "MODEL COSTS:"
     ]
    },
    {
     "name": "stderr",
     "output_type": "stream",
     "text": [
      "iAC: 1.337 , ZOiRL: 1.335 , %ipr: -0.111, MSE: 586.296 , CN: 19.157:  31%|███       | 672/2189 [06:38<12:01:14, 28.53s/it]"
     ]
    },
    {
     "name": "stdout",
     "output_type": "stream",
     "text": [
      "\r",
      "Building 0: -389.006"
     ]
    },
    {
     "name": "stderr",
     "output_type": "stream",
     "text": [
      "iAC: 1.29 , ZOiRL: 1.286 , %ipr: -0.257, MSE: 193.186 , CN: 15.987:  35%|███▍      | 766/2189 [06:53<02:48,  8.46it/s]    "
     ]
    },
    {
     "name": "stdout",
     "output_type": "stream",
     "text": [
      "E2E\tBuilding: 0, r: 22our: 23"
     ]
    },
    {
     "name": "stderr",
     "output_type": "stream",
     "text": [
      "iAC: 1.281 , ZOiRL: 1.286 , %ipr: 0.381, MSE: 193.186 , CN: 15.987:  35%|███▌      | 768/2189 [08:46<10:16:51, 26.05s/it]"
     ]
    },
    {
     "name": "stdout",
     "output_type": "stream",
     "text": [
      "\r",
      "E2E\tBuilding: 0, r: 23\r",
      "Time taken for training: 112.34\r\n",
      "MODEL COSTS:\r",
      "Building 0: -468.614"
     ]
    },
    {
     "name": "stderr",
     "output_type": "stream",
     "text": [
      "iAC: 1.263 , ZOiRL: 1.261 , %ipr: -0.155, MSE: 199.285 , CN: 53.291:  39%|███▉      | 863/2189 [09:02<02:18,  9.58it/s]  "
     ]
    },
    {
     "name": "stdout",
     "output_type": "stream",
     "text": [
      "E2E\tBuilding: 0, r: 21our: 23"
     ]
    },
    {
     "name": "stderr",
     "output_type": "stream",
     "text": [
      "iAC: 1.258 , ZOiRL: 1.261 , %ipr: 0.173, MSE: 199.285 , CN: 53.291:  39%|███▉      | 864/2189 [10:50<9:54:25, 26.92s/it]"
     ]
    },
    {
     "name": "stdout",
     "output_type": "stream",
     "text": [
      "\r",
      "E2E\tBuilding: 0, r: 22\r",
      "E2E\tBuilding: 0, r: 23\r",
      "Time taken for training: 108.09\r\n",
      "MODEL COSTS:\r",
      "Building 0: -143.248"
     ]
    },
    {
     "name": "stderr",
     "output_type": "stream",
     "text": [
      "iAC: 1.251 , ZOiRL: 1.254 , %ipr: 0.249, MSE: 143.362 , CN: 20.999:  44%|████▍     | 959/2189 [11:05<02:07,  9.62it/s]  "
     ]
    },
    {
     "name": "stdout",
     "output_type": "stream",
     "text": [
      "E2E\tBuilding: 0, r: 21our: 23"
     ]
    },
    {
     "name": "stderr",
     "output_type": "stream",
     "text": [
      "iAC: 1.251 , ZOiRL: 1.253 , %ipr: 0.131, MSE: 143.362 , CN: 20.999:  44%|████▍     | 960/2189 [12:49<8:48:26, 25.80s/it]"
     ]
    },
    {
     "name": "stdout",
     "output_type": "stream",
     "text": [
      "\r",
      "E2E\tBuilding: 0, r: 22\r",
      "E2E\tBuilding: 0, r: 23\r",
      "Time taken for training: 103.58\r\n",
      "MODEL COSTS:\r",
      "Building 0: -2386.152"
     ]
    },
    {
     "name": "stderr",
     "output_type": "stream",
     "text": [
      "iAC: 1.242 , ZOiRL: 1.241 , %ipr: -0.086, MSE: 1549.579 , CN: 52.021:  48%|████▊     | 1055/2189 [13:04<02:27,  7.68it/s]"
     ]
    },
    {
     "name": "stdout",
     "output_type": "stream",
     "text": [
      "E2E\tBuilding: 0, r: 21our: 23"
     ]
    },
    {
     "name": "stderr",
     "output_type": "stream",
     "text": [
      "iAC: 1.239 , ZOiRL: 1.241 , %ipr: 0.12, MSE: 1549.579 , CN: 52.021:  48%|████▊     | 1056/2189 [14:52<8:30:18, 27.02s/it]"
     ]
    },
    {
     "name": "stdout",
     "output_type": "stream",
     "text": [
      "\r",
      "E2E\tBuilding: 0, r: 22\r",
      "E2E\tBuilding: 0, r: 23\r",
      "Time taken for training: 108.44\r\n",
      "MODEL COSTS:\r",
      "Building 0: -823.326"
     ]
    },
    {
     "name": "stderr",
     "output_type": "stream",
     "text": [
      "iAC: 1.236 , ZOiRL: 1.236 , %ipr: 0.004, MSE: 1488.374 , CN: 29.865:  53%|█████▎    | 1150/2189 [15:07<01:50,  9.39it/s]  "
     ]
    },
    {
     "name": "stdout",
     "output_type": "stream",
     "text": [
      "E2E\tBuilding: 0, r: 21our: 23"
     ]
    },
    {
     "name": "stderr",
     "output_type": "stream",
     "text": [
      "iAC: 1.235 , ZOiRL: 1.235 , %ipr: 0.012, MSE: 1488.374 , CN: 29.865:  53%|█████▎    | 1152/2189 [16:51<5:57:42, 20.70s/it]"
     ]
    },
    {
     "name": "stdout",
     "output_type": "stream",
     "text": [
      "\r",
      "E2E\tBuilding: 0, r: 22\r",
      "E2E\tBuilding: 0, r: 23\r",
      "Time taken for training: 103.6\r\n",
      "MODEL COSTS:\r",
      "Building 0: -1051.585"
     ]
    },
    {
     "name": "stderr",
     "output_type": "stream",
     "text": [
      "iAC: 1.228 , ZOiRL: 1.23 , %ipr: 0.195, MSE: 176.498 , CN: 33.357:  57%|█████▋    | 1246/2189 [17:05<01:37,  9.65it/s]    "
     ]
    },
    {
     "name": "stdout",
     "output_type": "stream",
     "text": [
      "E2E\tBuilding: 0, r: 22our: 23"
     ]
    },
    {
     "name": "stderr",
     "output_type": "stream",
     "text": [
      "iAC: 1.248 , ZOiRL: 1.23 , %ipr: -1.446, MSE: 176.498 , CN: 33.357:  57%|█████▋    | 1248/2189 [18:55<5:45:45, 22.05s/it]"
     ]
    },
    {
     "name": "stdout",
     "output_type": "stream",
     "text": [
      "\r",
      "E2E\tBuilding: 0, r: 23\r",
      "Time taken for training: 110.4\r\n",
      "MODEL COSTS:\r",
      "Building 0: -1829.802"
     ]
    },
    {
     "name": "stderr",
     "output_type": "stream",
     "text": [
      "iAC: 1.245 , ZOiRL: 1.226 , %ipr: -1.544, MSE: 1279.467 , CN: 10.071:  61%|██████▏   | 1342/2189 [19:11<01:41,  8.34it/s]  "
     ]
    },
    {
     "name": "stdout",
     "output_type": "stream",
     "text": [
      "E2E\tBuilding: 0, r: 21our: 23"
     ]
    },
    {
     "name": "stderr",
     "output_type": "stream",
     "text": [
      "iAC: 1.244 , ZOiRL: 1.226 , %ipr: -1.49, MSE: 1279.467 , CN: 10.071:  61%|██████▏   | 1344/2189 [21:06<6:14:44, 26.61s/it]"
     ]
    },
    {
     "name": "stdout",
     "output_type": "stream",
     "text": [
      "\r",
      "E2E\tBuilding: 0, r: 22\r",
      "E2E\tBuilding: 0, r: 23\r",
      "Time taken for training: 114.76\r\n",
      "MODEL COSTS:\r",
      "Building 0: -306.721"
     ]
    },
    {
     "name": "stderr",
     "output_type": "stream",
     "text": [
      "iAC: 1.242 , ZOiRL: 1.198 , %ipr: -3.725, MSE: 220.156 , CN: 37.701:  66%|██████▌   | 1439/2189 [21:21<01:19,  9.38it/s]   "
     ]
    },
    {
     "name": "stdout",
     "output_type": "stream",
     "text": [
      "E2E\tBuilding: 0, r: 22our: 23"
     ]
    },
    {
     "name": "stderr",
     "output_type": "stream",
     "text": [
      "iAC: 1.217 , ZOiRL: 1.198 , %ipr: -1.614, MSE: 220.156 , CN: 37.701:  66%|██████▌   | 1440/2189 [23:17<6:01:33, 28.96s/it]"
     ]
    },
    {
     "name": "stdout",
     "output_type": "stream",
     "text": [
      "\r",
      "E2E\tBuilding: 0, r: 23\r",
      "Time taken for training: 116.32\r\n",
      "MODEL COSTS:\r",
      "Building 0: -817.912"
     ]
    },
    {
     "name": "stderr",
     "output_type": "stream",
     "text": [
      "iAC: 1.203 , ZOiRL: 1.183 , %ipr: -1.743, MSE: 1693.754 , CN: 30.165:  70%|███████   | 1535/2189 [23:33<01:12,  9.05it/s]  "
     ]
    },
    {
     "name": "stdout",
     "output_type": "stream",
     "text": [
      "E2E\tBuilding: 0, r: 21our: 23"
     ]
    },
    {
     "name": "stderr",
     "output_type": "stream",
     "text": [
      "iAC: 1.202 , ZOiRL: 1.183 , %ipr: -1.637, MSE: 1693.754 , CN: 30.165:  70%|███████   | 1536/2189 [25:22<5:57:07, 32.81s/it]"
     ]
    },
    {
     "name": "stdout",
     "output_type": "stream",
     "text": [
      "\r",
      "E2E\tBuilding: 0, r: 22\r",
      "E2E\tBuilding: 0, r: 23\r",
      "Time taken for training: 108.95\r\n",
      "MODEL COSTS:\r",
      "Building 0: -1104.369"
     ]
    },
    {
     "name": "stderr",
     "output_type": "stream",
     "text": [
      "iAC: 1.2 , ZOiRL: 1.179 , %ipr: -1.77, MSE: 145.698 , CN: 29.485:  74%|███████▍  | 1630/2189 [25:37<01:35,  5.87it/s]      "
     ]
    },
    {
     "name": "stdout",
     "output_type": "stream",
     "text": [
      "E2E\tBuilding: 0, r: 22our: 23"
     ]
    },
    {
     "name": "stderr",
     "output_type": "stream",
     "text": [
      "iAC: 1.198 , ZOiRL: 1.179 , %ipr: -1.683, MSE: 145.698 , CN: 29.485:  75%|███████▍  | 1632/2189 [27:37<4:16:47, 27.66s/it]"
     ]
    },
    {
     "name": "stdout",
     "output_type": "stream",
     "text": [
      "\r",
      "E2E\tBuilding: 0, r: 23\r",
      "Time taken for training: 119.09\r\n",
      "MODEL COSTS:\r",
      "Building 0: -559.204"
     ]
    },
    {
     "name": "stderr",
     "output_type": "stream",
     "text": [
      "iAC: 1.196 , ZOiRL: 1.176 , %ipr: -1.711, MSE: 262.902 , CN: 18.15:  79%|███████▉  | 1726/2189 [27:52<00:53,  8.69it/s]   "
     ]
    },
    {
     "name": "stdout",
     "output_type": "stream",
     "text": [
      "E2E\tBuilding: 0, r: 22our: 23"
     ]
    },
    {
     "name": "stderr",
     "output_type": "stream",
     "text": [
      "iAC: 1.196 , ZOiRL: 1.176 , %ipr: -1.707, MSE: 262.902 , CN: 18.15:  79%|███████▉  | 1728/2189 [29:46<3:23:00, 26.42s/it]"
     ]
    },
    {
     "name": "stdout",
     "output_type": "stream",
     "text": [
      "\r",
      "E2E\tBuilding: 0, r: 23\r",
      "Time taken for training: 113.95\r\n",
      "MODEL COSTS:\r",
      "Building 0: -793.591"
     ]
    },
    {
     "name": "stderr",
     "output_type": "stream",
     "text": [
      "iAC: 1.188 , ZOiRL: 1.182 , %ipr: -0.552, MSE: 590.632 , CN: 19.06:  83%|████████▎ | 1823/2189 [30:02<00:41,  8.86it/s]  "
     ]
    },
    {
     "name": "stdout",
     "output_type": "stream",
     "text": [
      "E2E\tBuilding: 0, r: 22our: 23"
     ]
    },
    {
     "name": "stderr",
     "output_type": "stream",
     "text": [
      "iAC: 1.203 , ZOiRL: 1.181 , %ipr: -1.848, MSE: 590.632 , CN: 19.06:  83%|████████▎ | 1824/2189 [31:55<2:51:11, 28.14s/it]"
     ]
    },
    {
     "name": "stdout",
     "output_type": "stream",
     "text": [
      "\r",
      "E2E\tBuilding: 0, r: 23\r",
      "Time taken for training: 112.98\r\n",
      "MODEL COSTS:\r",
      "Building 0: -406.393"
     ]
    },
    {
     "name": "stderr",
     "output_type": "stream",
     "text": [
      "iAC: 1.203 , ZOiRL: 1.18 , %ipr: -1.977, MSE: 174.318 , CN: 26.931:  88%|████████▊ | 1919/2189 [32:10<00:28,  9.36it/s]   "
     ]
    },
    {
     "name": "stdout",
     "output_type": "stream",
     "text": [
      "E2E\tBuilding: 0, r: 22our: 23"
     ]
    },
    {
     "name": "stderr",
     "output_type": "stream",
     "text": [
      "iAC: 1.202 , ZOiRL: 1.18 , %ipr: -1.886, MSE: 174.318 , CN: 26.931:  88%|████████▊ | 1920/2189 [34:03<2:06:01, 28.11s/it]"
     ]
    },
    {
     "name": "stdout",
     "output_type": "stream",
     "text": [
      "\r",
      "E2E\tBuilding: 0, r: 23\r",
      "Time taken for training: 112.87\r\n",
      "MODEL COSTS:\r",
      "Building 0: -894.557"
     ]
    },
    {
     "name": "stderr",
     "output_type": "stream",
     "text": [
      "iAC: 1.204 , ZOiRL: 1.18 , %ipr: -2.015, MSE: 1032.556 , CN: 28.129:  92%|█████████▏| 2014/2189 [34:18<00:19,  9.12it/s]  "
     ]
    },
    {
     "name": "stdout",
     "output_type": "stream",
     "text": [
      "Time taken for training: 112.9\n",
      "MODEL COSTS:"
     ]
    },
    {
     "name": "stderr",
     "output_type": "stream",
     "text": [
      "iAC: 1.197 , ZOiRL: 1.172 , %ipr: -2.107, MSE: 191.354 , CN: 29.859:  96%|█████████▋| 2111/2189 [36:27<00:09,  8.27it/s]  "
     ]
    },
    {
     "name": "stdout",
     "output_type": "stream",
     "text": [
      "Time taken for training: 113.24\n",
      "Building 0: -7023.88"
     ]
    },
    {
     "name": "stderr",
     "output_type": "stream",
     "text": [
      "iAC: 1.193 , ZOiRL: 1.165 , %ipr: -2.346, MSE: 1338.84 , CN: 24.821: 100%|██████████| 2189/2189 [38:33<00:00,  1.06s/it]\n"
     ]
    }
   ],
   "source": [
    "params_agent = {'building_ids':[\"Building_\"+str(i) for i in [1,2,3,4,5,6,7,8,9]],\n",
    "                 'buildings_states_actions':'buildings_state_action_space.json', \n",
    "                 'building_info':building_info,\n",
    "                 'observation_spaces':observations_spaces,\n",
    "                 'agent_checkpoint' : checkpoint,\n",
    "                 'action_spaces':actions_spaces}\n",
    "\n",
    "# Instantiating the control agent(s)\n",
    "rewards = []\n",
    "critic_mse = [] # only last building to be added MSE will be recorded\n",
    "\n",
    "agent = Agent(**params_agent)\n",
    "\n",
    "state = env.reset()\n",
    "done = False\n",
    "\n",
    "ZO_iRL_costs = np.load(\"ZOiRL_cost_curve.npy\")\n",
    "\n",
    "with tqdm(total=end_time) as pbar:\n",
    "    while not done:\n",
    "        \n",
    "        # get agent\n",
    "        # day_type = env.buildings['Building_1'].sim_results['day'][env.time_step]\n",
    "        # agent = agents.get_agent(day_type)\n",
    "        # get agent\n",
    "        \n",
    "        action, _ = agent.select_action(state)\n",
    "        next_state, reward, done, _ = env.step(action)\n",
    "        agent.add_to_buffer(state, action, reward, next_state, done)\n",
    "        state = next_state\n",
    "\n",
    "        rewards.append(reward)\n",
    "\n",
    "        try:\n",
    "            mse, condition = get_mse_critic()\n",
    "            pim = round(100 * (ZO_iRL_costs[env.time_step] - env.costs_periodic[-1]['total']) / ZO_iRL_costs[env.time_step], 3)\n",
    "            txt = f\"iAC: {round(env.costs_periodic[-1]['total'], 3)} , ZOiRL: {round(ZO_iRL_costs[env.time_step], 3)} , %ipr: {pim}\"\n",
    "            if len(critic_mse) > 0:\n",
    "                txt += f\", MSE: {round(critic_mse[-1][0], 3)} , CN: {round(critic_mse[-1][1], 3)}\"\n",
    "                \n",
    "            if mse is not None:\n",
    "                critic_mse.append([mse, condition])\n",
    "                \n",
    "            pbar.set_description(txt)\n",
    "        except:\n",
    "            pass\n",
    "        \n",
    "        pbar.update(1)\n",
    "\n",
    "rewards = np.array(rewards)"
   ]
  },
  {
   "cell_type": "code",
   "execution_count": 6,
   "metadata": {},
   "outputs": [
    {
     "data": {
      "text/plain": [
       "[<matplotlib.lines.Line2D at 0x7f940080ec10>]"
      ]
     },
     "execution_count": 6,
     "metadata": {},
     "output_type": "execute_result"
    },
    {
     "data": {
      "image/png": "[encoded data removed]",
      "text/plain": [
       "<Figure size 432x288 with 1 Axes>"
      ]
     },
     "metadata": {
      "needs_background": "light"
     },
     "output_type": "display_data"
    }
   ],
   "source": [
    "plt.plot(np.array(critic_mse)[:, 0])"
   ]
  },
  {
   "cell_type": "code",
   "execution_count": 7,
   "metadata": {},
   "outputs": [
    {
     "data": {
      "text/plain": [
       "array([1790.7045 ,  586.2959 ,  193.18641,  199.28455,  143.36213,\n",
       "       1549.57923, 1488.37428,  176.49838, 1279.46693,  220.15561,\n",
       "       1693.75369,  145.69819,  262.90157,  590.63249,  174.31791,\n",
       "       1032.55634,  191.35412, 1338.84025])"
      ]
     },
     "execution_count": 7,
     "metadata": {},
     "output_type": "execute_result"
    }
   ],
   "source": [
    "np.array(critic_mse)[:, 0]"
   ]
  },
  {
   "cell_type": "code",
   "execution_count": null,
   "metadata": {},
   "outputs": [],
   "source": []
  },
  {
   "cell_type": "code",
   "execution_count": 8,
   "metadata": {},
   "outputs": [],
   "source": [
    "E_grid, E_grid_true, E_grid_prevhour = agent.critic_target[0].temp"
   ]
  },
  {
   "cell_type": "code",
   "execution_count": 9,
   "metadata": {},
   "outputs": [
    {
     "data": {
      "text/plain": [
       "array([[ 0.38861327,  0.09586469,  0.08431648,  0.11143363,  0.09902776,\n",
       "         0.16676937,  0.09276344, -0.14722484,  0.04588815, -0.12143462,\n",
       "        -0.14481397,  0.67151239,  0.87457276,  0.49942449,  0.52521714,\n",
       "         0.61573852,  0.11742558,  0.01337468,  0.25013485,  0.25011054,\n",
       "         0.15564702,  0.03827953,  0.6609661 ,  0.06610081],\n",
       "       [ 0.5246853 ,  0.65020052,  0.62121922,  0.16714821,  0.72954528,\n",
       "         0.80390259,  1.2041047 ,  1.10373934,  0.04597907,  0.10599393,\n",
       "         1.0315079 ,  0.6391084 ,  0.65346836,  0.49942108,  0.89306527,\n",
       "         0.78162103,  0.70967064,  0.28723812,  0.25038575,  0.27149077,\n",
       "         0.14227214,  0.03828356,  0.66078655,  0.63780368],\n",
       "       [ 0.42227534,  0.99907202,  0.82695001,  0.05179244,  0.94940575,\n",
       "         1.1329965 ,  0.89049743,  1.15483528,  0.04589704,  0.30116652,\n",
       "         0.39088377,  0.6368939 ,  0.53435562,  0.5233133 ,  0.87651943,\n",
       "         0.85819926,  0.71326099,  1.04399616,  0.25505538,  0.25842055,\n",
       "         0.13041873,  0.27304039,  0.66096756,  0.58108488],\n",
       "       [ 0.48572031,  0.56897176,  0.58490478,  0.02825129,  0.62779981,\n",
       "         0.78772403,  0.35271649,  0.47574962,  0.04589063,  0.10368444,\n",
       "         0.0614393 ,  0.2844912 ,  0.53300963,  0.53819719,  0.67209132,\n",
       "         0.38958514,  0.25077966,  0.1699123 ,  0.38582885,  0.29451433,\n",
       "         0.17066746,  0.03827939,  0.97207854,  0.32242906]])"
      ]
     },
     "execution_count": 9,
     "metadata": {},
     "output_type": "execute_result"
    }
   ],
   "source": [
    "agent.critic_optim.problem.param_dict['E_grid'].value"
   ]
  },
  {
   "cell_type": "code",
   "execution_count": 10,
   "metadata": {},
   "outputs": [
    {
     "data": {
      "text/plain": [
       "(24,)"
      ]
     },
     "execution_count": 10,
     "metadata": {},
     "output_type": "execute_result"
    }
   ],
   "source": [
    "E_grid_prevhour.shape"
   ]
  },
  {
   "cell_type": "code",
   "execution_count": 11,
   "metadata": {},
   "outputs": [
    {
     "ename": "IndexError",
     "evalue": "too many indices for array: array is 1-dimensional, but 2 were indexed",
     "output_type": "error",
     "traceback": [
      "\u001b[0;31m---------------------------------------------------------------------------\u001b[0m",
      "\u001b[0;31mIndexError\u001b[0m                                Traceback (most recent call last)",
      "\u001b[0;32m<ipython-input-11-579234767951>\u001b[0m in \u001b[0;36m<module>\u001b[0;34m\u001b[0m\n\u001b[0;32m----> 1\u001b[0;31m \u001b[0magent\u001b[0m\u001b[0;34m.\u001b[0m\u001b[0mcritic\u001b[0m\u001b[0;34m[\u001b[0m\u001b[0;36m0\u001b[0m\u001b[0;34m]\u001b[0m\u001b[0;34m.\u001b[0m\u001b[0mnormalize\u001b[0m\u001b[0;34m(\u001b[0m\u001b[0mE_grid_true\u001b[0m\u001b[0;34m[\u001b[0m\u001b[0;34m:\u001b[0m\u001b[0;34m,\u001b[0m \u001b[0;36m0\u001b[0m\u001b[0;34m]\u001b[0m\u001b[0;34m,\u001b[0m \u001b[0m_E_grid\u001b[0m\u001b[0;34m)\u001b[0m\u001b[0;34m\u001b[0m\u001b[0;34m\u001b[0m\u001b[0m\n\u001b[0m",
      "\u001b[0;31mIndexError\u001b[0m: too many indices for array: array is 1-dimensional, but 2 were indexed"
     ]
    }
   ],
   "source": [
    "agent.critic[0].normalize(E_grid_true[:, 0], _E_grid)"
   ]
  },
  {
   "cell_type": "code",
   "execution_count": null,
   "metadata": {},
   "outputs": [],
   "source": [
    "agent.memory.sample()[0][0][\"E_grid_pkhist\"].shape"
   ]
  },
  {
   "cell_type": "code",
   "execution_count": null,
   "metadata": {},
   "outputs": [],
   "source": [
    "x = agent.actor.debug[0](*agent.actor.debug[1].values())[0]"
   ]
  },
  {
   "cell_type": "code",
   "execution_count": null,
   "metadata": {},
   "outputs": [],
   "source": [
    "x.detach().numpy()"
   ]
  },
  {
   "cell_type": "code",
   "execution_count": null,
   "metadata": {},
   "outputs": [],
   "source": [
    "agent.critic_optim.test['E_grid'].min()"
   ]
  },
  {
   "cell_type": "code",
   "execution_count": null,
   "metadata": {},
   "outputs": [],
   "source": [
    "x.data = torch.tensor(agent.critic[0].normalize(x.detach().numpy(), x.detach().numpy()))"
   ]
  },
  {
   "cell_type": "code",
   "execution_count": null,
   "metadata": {},
   "outputs": [],
   "source": [
    "agent.critic_optim.problem.param_dict['E_grid'].value.min()"
   ]
  },
  {
   "cell_type": "code",
   "execution_count": null,
   "metadata": {},
   "outputs": [],
   "source": []
  },
  {
   "cell_type": "code",
   "execution_count": null,
   "metadata": {},
   "outputs": [],
   "source": [
    "agent.critic[0].debug"
   ]
  },
  {
   "cell_type": "code",
   "execution_count": null,
   "metadata": {},
   "outputs": [],
   "source": []
  },
  {
   "cell_type": "code",
   "execution_count": null,
   "metadata": {},
   "outputs": [],
   "source": [
    "i=23\n",
    "agent.critic[0].prob[i].solve('SCS')"
   ]
  },
  {
   "cell_type": "code",
   "execution_count": null,
   "metadata": {},
   "outputs": [],
   "source": [
    "agent.critic[0].prob[i].solve('SCS', eps=5e-2)"
   ]
  },
  {
   "cell_type": "code",
   "execution_count": null,
   "metadata": {},
   "outputs": [],
   "source": [
    "x = agent.critic[0].prob[i]"
   ]
  },
  {
   "cell_type": "code",
   "execution_count": null,
   "metadata": {},
   "outputs": [],
   "source": [
    "-r * ramping_cost - electricity_cost"
   ]
  },
  {
   "cell_type": "code",
   "execution_count": null,
   "metadata": {},
   "outputs": [],
   "source": [
    "x.solve(solver='SCS', max_iters=10_000_000, eps=5e-2)"
   ]
  },
  {
   "cell_type": "code",
   "execution_count": null,
   "metadata": {},
   "outputs": [],
   "source": [
    "np.sum(e[t:] * E_grid)"
   ]
  },
  {
   "cell_type": "code",
   "execution_count": null,
   "metadata": {},
   "outputs": [],
   "source": [
    "_type = 0\n",
    "Q_value, ramping_cost, peak_hist_cost, electricity_cost, E_grid, E_grid_true, E_grid_prevhour, (bid, t) = agent.critic_target[_type].debug\n",
    "r, e = agent.critic[_type].alpha_ramp[bid], agent.critic[_type].alpha_elec[bid]"
   ]
  },
  {
   "cell_type": "code",
   "execution_count": null,
   "metadata": {},
   "outputs": [],
   "source": [
    "Q_value"
   ]
  },
  {
   "cell_type": "code",
   "execution_count": null,
   "metadata": {
    "scrolled": true
   },
   "outputs": [],
   "source": [
    "np.mean(agent.actor._grads[0]['p_ele_grad'], 1)"
   ]
  },
  {
   "cell_type": "code",
   "execution_count": null,
   "metadata": {
    "scrolled": true
   },
   "outputs": [],
   "source": [
    "plt.plot(np.array(critic_mse)[:, 0])\n",
    "plt.xlabel(\"Meta-episode #\")\n",
    "plt.ylabel(\"Cost\")"
   ]
  },
  {
   "cell_type": "code",
   "execution_count": null,
   "metadata": {},
   "outputs": [],
   "source": [
    "agent.actor.debug[1][\"E_grid_prevhour\"]"
   ]
  },
  {
   "cell_type": "code",
   "execution_count": null,
   "metadata": {},
   "outputs": [],
   "source": [
    "np.array(rewards)[23:, 0].sum()"
   ]
  },
  {
   "cell_type": "code",
   "execution_count": null,
   "metadata": {},
   "outputs": [],
   "source": [
    "np.shape(critic_mse)"
   ]
  },
  {
   "cell_type": "code",
   "execution_count": null,
   "metadata": {},
   "outputs": [],
   "source": [
    "for k, v in agent.actor._losses.items():\n",
    "    print(k, v)"
   ]
  },
  {
   "cell_type": "code",
   "execution_count": null,
   "metadata": {},
   "outputs": [],
   "source": [
    "np.array(rewards).sum(0)"
   ]
  },
  {
   "cell_type": "code",
   "execution_count": null,
   "metadata": {},
   "outputs": [],
   "source": [
    "total = [x[\"total\"] for x in env.costs_periodic]"
   ]
  },
  {
   "cell_type": "code",
   "execution_count": null,
   "metadata": {},
   "outputs": [],
   "source": [
    "round(100 * (ZO_iRL_costs[2189] - total[2189//24]) / ZO_iRL_costs[2189//24], 3)"
   ]
  },
  {
   "cell_type": "code",
   "execution_count": null,
   "metadata": {},
   "outputs": [],
   "source": []
  },
  {
   "cell_type": "code",
   "execution_count": null,
   "metadata": {},
   "outputs": [],
   "source": [
    "np.mean(agent.actor._grads[0]['p_ele_grad'], 1)"
   ]
  },
  {
   "cell_type": "code",
   "execution_count": null,
   "metadata": {},
   "outputs": [],
   "source": [
    "env.cost_detailed_view()['Building_9']['cost']"
   ]
  },
  {
   "cell_type": "code",
   "execution_count": null,
   "metadata": {},
   "outputs": [],
   "source": [
    "env.cost((0, end_time))"
   ]
  },
  {
   "cell_type": "code",
   "execution_count": null,
   "metadata": {},
   "outputs": [],
   "source": [
    "plt.plot(total, label=\"iAC\")\n",
    "plt.plot(ZO_iRL_costs[::24][1:], label=\"ZOiRL\")\n",
    "plt.legend()\n",
    "plt.ylim(0.96, 1.5)\n",
    "plt.xlabel(\"Day\")\n",
    "plt.ylabel(\"Cost\")\n",
    "plt.show()"
   ]
  },
  {
   "cell_type": "code",
   "execution_count": null,
   "metadata": {},
   "outputs": [],
   "source": [
    "np.where(ZO_iRL_costs[::24][1:] < total)"
   ]
  },
  {
   "cell_type": "code",
   "execution_count": null,
   "metadata": {},
   "outputs": [],
   "source": [
    "a, b = agent.memory.sample()"
   ]
  },
  {
   "cell_type": "code",
   "execution_count": null,
   "metadata": {},
   "outputs": [],
   "source": [
    "len(b)"
   ]
  },
  {
   "cell_type": "code",
   "execution_count": null,
   "metadata": {},
   "outputs": [],
   "source": [
    "data = {}\n",
    "NUM_DAYS = len(agent.critic_optim.debug['ramping_cost'])\n",
    "\n",
    "for key, _d in agent.critic_optim.debug.items():\n",
    "    data[key] = []\n",
    "    for day in _d:\n",
    "        data[key].append(day.value)\n",
    "    data[key] = np.reshape(data[key], (NUM_DAYS * 24))"
   ]
  },
  {
   "cell_type": "code",
   "execution_count": null,
   "metadata": {},
   "outputs": [],
   "source": [
    "agent.critic[0].alpha_ramp"
   ]
  },
  {
   "cell_type": "code",
   "execution_count": null,
   "metadata": {},
   "outputs": [],
   "source": [
    "rc = data['ramping_cost']\n",
    "peak = data['peak_net_electricity_cost']\n",
    "ec = data['electricity_cost']\n",
    "\n",
    "A = np.vstack((-rc, -peak)).T\n",
    "y = np.reshape(agent.critic_optim.problem.param_dict['y_r'].value, (NUM_DAYS * 24))\n",
    "\n",
    "x, residuals, rank, s = np.linalg.lstsq(A, y, rcond=None)\n",
    "print(f\"Rank: {rank}\\tCondition Number: {np.linalg.cond(A)}\")\n",
    "print(f\"MSE across {NUM_DAYS} days: {round(np.linalg.norm(A@x - y), 5)}\")\n",
    "\n",
    "plt.plot(A@x, label='y_hat')\n",
    "plt.plot(y, label='y')\n",
    "plt.legend()\n",
    "plt.xlabel(\"Hours\")\n",
    "plt.ylabel(\"Q-value\")\n",
    "plt.show()"
   ]
  },
  {
   "cell_type": "code",
   "execution_count": null,
   "metadata": {},
   "outputs": [],
   "source": [
    "(A@x).max(), y.max()"
   ]
  },
  {
   "cell_type": "code",
   "execution_count": null,
   "metadata": {},
   "outputs": [],
   "source": [
    "p = agent.critic_optim.problem"
   ]
  },
  {
   "cell_type": "code",
   "execution_count": null,
   "metadata": {},
   "outputs": [],
   "source": [
    "p.solve()"
   ]
  },
  {
   "cell_type": "code",
   "execution_count": null,
   "metadata": {},
   "outputs": [],
   "source": [
    "import cvxpy\n",
    "for i in range(len(p.constraints)):\n",
    "    x = p.constraints[i]\n",
    "    if isinstance(x.args[0], cvxpy.atoms.affine.add_expr.AddExpression):\n",
    "        assert x.args[0].value <= 1, (i, x.args[0].value)"
   ]
  },
  {
   "cell_type": "code",
   "execution_count": null,
   "metadata": {},
   "outputs": [],
   "source": [
    "agent.critic[0].alpha_ramp, agent.critic[0].alpha_peak1"
   ]
  },
  {
   "cell_type": "code",
   "execution_count": null,
   "metadata": {},
   "outputs": [],
   "source": [
    "agent.critic_target[0].alpha_ramp, agent.critic_target[0].alpha_peak1"
   ]
  },
  {
   "cell_type": "code",
   "execution_count": null,
   "metadata": {},
   "outputs": [],
   "source": [
    "agent.memory.replay_memory[0]['E_grid']"
   ]
  },
  {
   "cell_type": "code",
   "execution_count": null,
   "metadata": {},
   "outputs": [],
   "source": [
    "agent.critic[0].alpha_ramp"
   ]
  },
  {
   "cell_type": "code",
   "execution_count": null,
   "metadata": {},
   "outputs": [],
   "source": [
    "_t = np.array(agent._actor_zetas['p_ele_local']).T"
   ]
  },
  {
   "cell_type": "code",
   "execution_count": null,
   "metadata": {},
   "outputs": [],
   "source": [
    "plt.scatter(range(24), agent.actor.zeta['p_ele'][:, 0], c='k', label=\"Iteration 3\")\n",
    "plt.bar(range(24), _t[0, :, 0], label=\"Initial\")\n",
    "plt.bar(range(24), _t[0, :, 1], label=\"Iteration 1\")\n",
    "plt.bar(range(24), _t[0, :, 2], label=\"Iteration 2\")\n",
    "plt.legend(loc=\"upper center\", bbox_to_anchor=(0.5, 1.15), ncol=4)\n",
    "plt.show()"
   ]
  },
  {
   "cell_type": "code",
   "execution_count": null,
   "metadata": {},
   "outputs": [],
   "source": [
    "#set seaborn plotting aesthetics as default\n",
    "sns.set(rc={'figure.figsize':(5,5)})\n",
    "df = np.array(agent._actor_zetas['p_ele_local'])\n",
    "df = np.append(df, np.expand_dims(agent.actor.zeta['p_ele'], 0)).reshape((9, 24, 9)).T\n",
    "\n",
    "fig, axn = plt.subplots(2, 2, sharex=True, sharey=True)\n",
    "cbar_ax = fig.add_axes([.91, .3, .03, .4])\n",
    "\n",
    "for i, ax in enumerate(axn.flat):\n",
    "    sns.heatmap(df[i], ax=ax,\n",
    "                cbar=i == 0,\n",
    "                cmap='viridis',\n",
    "                cbar_ax=None if i else cbar_ax)\n",
    "    ax.set(title=f\"Building {i + 1}\")\n",
    "\n",
    "axn.flat[0].set(ylabel='Hour of Day')\n",
    "axn.flat[2].set(ylabel='Hour of Day')\n",
    "axn.flat[2].set(xlabel='Month')\n",
    "axn.flat[3].set(xlabel='Month')\n",
    "\n",
    "\n",
    "fig.tight_layout(rect=[0, 0, .9, 1])"
   ]
  },
  {
   "cell_type": "code",
   "execution_count": null,
   "metadata": {},
   "outputs": [],
   "source": [
    "plt.bar(range(24), agent.actor.zeta['p_ele'][:, 0])"
   ]
  },
  {
   "cell_type": "code",
   "execution_count": null,
   "metadata": {},
   "outputs": [],
   "source": [
    "np.array(agent._actor_zetas[\"p_ele_local\"])[:, :, 0].min(1)"
   ]
  },
  {
   "cell_type": "code",
   "execution_count": null,
   "metadata": {},
   "outputs": [],
   "source": [
    "np.array(agent._actor_zetas[\"p_ele_target\"])[:, :, 0].min(1)"
   ]
  },
  {
   "cell_type": "code",
   "execution_count": null,
   "metadata": {},
   "outputs": [],
   "source": [
    "agent.actor.scs_cnt, agent.actor.fail_cnt, agent.critic_optim.fail_cnt"
   ]
  },
  {
   "cell_type": "code",
   "execution_count": null,
   "metadata": {},
   "outputs": [],
   "source": [
    "agent.actor.zeta[\"p_ele\"][:, 0]"
   ]
  },
  {
   "cell_type": "code",
   "execution_count": null,
   "metadata": {},
   "outputs": [],
   "source": [
    "agent.critic[0].alpha_peak1"
   ]
  },
  {
   "cell_type": "code",
   "execution_count": null,
   "metadata": {},
   "outputs": [],
   "source": [
    "agent.critic_target[0].alpha_peak1"
   ]
  },
  {
   "cell_type": "code",
   "execution_count": null,
   "metadata": {},
   "outputs": [],
   "source": [
    "agent.actor.zeta"
   ]
  },
  {
   "cell_type": "code",
   "execution_count": null,
   "metadata": {},
   "outputs": [],
   "source": [
    "t = np.random.rand(101, 30)"
   ]
  },
  {
   "cell_type": "code",
   "execution_count": null,
   "metadata": {},
   "outputs": [],
   "source": [
    "v = np.expand_dims(t, axis=(2, 3))"
   ]
  },
  {
   "cell_type": "code",
   "execution_count": null,
   "metadata": {},
   "outputs": [],
   "source": [
    "np.linalg.matrix_rank(t)"
   ]
  },
  {
   "cell_type": "code",
   "execution_count": null,
   "metadata": {},
   "outputs": [],
   "source": [
    "total[100]"
   ]
  },
  {
   "cell_type": "code",
   "execution_count": null,
   "metadata": {},
   "outputs": [],
   "source": []
  }
 ],
 "metadata": {
  "kernelspec": {
   "display_name": "Python 3",
   "language": "python",
   "name": "python3"
  },
  "language_info": {
   "codemirror_mode": {
    "name": "ipython",
    "version": 3
   },
   "file_extension": ".py",
   "mimetype": "text/x-python",
   "name": "python",
   "nbconvert_exporter": "python",
   "pygments_lexer": "ipython3",
   "version": "3.7.6"
  }
 },
 "nbformat": 4,
 "nbformat_minor": 4
}
