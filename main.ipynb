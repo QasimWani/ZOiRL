{
 "cells": [
  {
   "cell_type": "code",
   "execution_count": 1,
   "metadata": {
    "scrolled": false
   },
   "outputs": [
    {
     "name": "stderr",
     "output_type": "stream",
     "text": [
      "/Users/qasimwani/opt/anaconda3/lib/python3.7/site-packages/patsy/constraint.py:13: DeprecationWarning: Using or importing the ABCs from 'collections' instead of from 'collections.abc' is deprecated since Python 3.3,and in 3.9 it will stop working\n",
      "  from collections import Mapping\n"
     ]
    }
   ],
   "source": [
    "import warnings\n",
    "warnings.simplefilter(\"always\")\n",
    "\n",
    "# Run this again after editing submodules so Colab uses the updated versions\n",
    "from citylearn import  CityLearn\n",
    "from pathlib import Path\n",
    "from TD3 import Agent as Agent\n",
    "import numpy as np                                                                                                                                                                                      \n",
    "import torch\n",
    "import matplotlib.pyplot as plt\n",
    "import time\n",
    "from tqdm import tqdm\n",
    "from utils import agent_checkpoint_cost\n",
    "import seaborn as sns\n",
    "import os"
   ]
  },
  {
   "cell_type": "code",
   "execution_count": 2,
   "metadata": {},
   "outputs": [
    {
     "name": "stdout",
     "output_type": "stream",
     "text": [
      "Time taken to add RBC pretrained model (sec): 17.982\n"
     ]
    }
   ],
   "source": [
    "# Load environment\n",
    "climate_zone = 1\n",
    "end_time = 8759 # total number of hours to train for\n",
    "cost_analysis = 24 # analyze costs every x hours\n",
    "checkpoint = 24 * 7 # save parameters every x hours\n",
    "\n",
    "params = {'data_path':Path(\"data/Climate_Zone_\"+str(climate_zone)), \n",
    "        'building_attributes':'building_attributes.json', \n",
    "        'weather_file':'weather_data.csv', \n",
    "        'solar_profile':'solar_generation_1kW.csv', \n",
    "        'carbon_intensity':'carbon_intensity.csv',\n",
    "        'building_ids':[\"Building_\"+str(i) for i in [1,2,3,4,5,6,7,8,9]],\n",
    "        'buildings_states_actions':'buildings_state_action_space.json', \n",
    "        'simulation_period': (0, end_time), \n",
    "        'cost_function': ['ramping','1-load_factor','average_daily_peak','peak_demand','net_electricity_consumption','carbon_emissions'], \n",
    "        'central_agent': False,\n",
    "        'cost_analysis' : cost_analysis,\n",
    "        'save_memory': False }\n",
    "\n",
    "# Contain the lower and upper bounds of the states and actions, to be provided to the agent to normalize the variables between 0 and 1.\n",
    "env = CityLearn(**params)\n",
    "env.pretrain_baseline_model((0, end_time))\n",
    "\n",
    "observations_spaces, actions_spaces = env.get_state_action_spaces()\n",
    "\n",
    "# Provides information on Building type, Climate Zone, Annual DHW demand, Annual Cooling Demand, Annual Electricity Demand, Solar Capacity, and correllations among buildings\n",
    "building_info = env.get_building_information()"
   ]
  },
  {
   "cell_type": "code",
   "execution_count": 3,
   "metadata": {},
   "outputs": [],
   "source": [
    "def get_mse_critic():\n",
    "    if not agent.did_i_just_finish_training():\n",
    "            return None, None\n",
    "    try:\n",
    "        data = {}\n",
    "        NUM_DAYS = len(agent.critic_optim.debug['ramping_cost'])\n",
    "\n",
    "        for key, _d in agent.critic_optim.debug.items():\n",
    "            data[key] = []\n",
    "            for day in _d:\n",
    "                data[key].append(day.value)\n",
    "            data[key] = np.reshape(data[key], (NUM_DAYS * 24))\n",
    "\n",
    "        rc = data['ramping_cost']\n",
    "        peak = data['peak_net_electricity_cost']\n",
    "        ec = data['electricity_cost']\n",
    "\n",
    "        A = np.vstack((-rc, -peak)).T\n",
    "        y = np.reshape(agent.critic_optim.problem.param_dict['y_r'].value, (NUM_DAYS * 24))\n",
    "\n",
    "        x, residuals, rank, s = np.linalg.lstsq(A, y, rcond=None)\n",
    "        # print(f\"Rank: {rank}\\tCondition Number: {np.linalg.cond(A)}\")\n",
    "        # print(f\"MSE across {NUM_DAYS} days: {round(np.linalg.norm(A@x - y), 5)}\")\n",
    "        return round(np.linalg.norm(A@x - y), 5), round(np.linalg.cond(A), 3)\n",
    "    except:\n",
    "        return None, None"
   ]
  },
  {
   "cell_type": "code",
   "execution_count": 4,
   "metadata": {},
   "outputs": [
    {
     "data": {
      "text/plain": [
       "(9, 30)"
      ]
     },
     "execution_count": 4,
     "metadata": {},
     "output_type": "execute_result"
    }
   ],
   "source": [
    "env._get_ob().shape"
   ]
  },
  {
   "cell_type": "code",
   "execution_count": null,
   "metadata": {
    "scrolled": true
   },
   "outputs": [
    {
     "name": "stderr",
     "output_type": "stream",
     "text": [
      "iAC: 1.413 , ZOiRL: 1.406 , %ipr: -0.503:   5%|▌         | 479/8759 [00:29<16:31,  8.35it/s] "
     ]
    },
    {
     "name": "stdout",
     "output_type": "stream",
     "text": [
      "E2E\tBuilding: 0, r: 22our: 23"
     ]
    },
    {
     "name": "stderr",
     "output_type": "stream",
     "text": [
      "iAC: 1.406 , ZOiRL: 1.403 , %ipr: -0.209:   5%|▌         | 480/8759 [02:33<85:38:57, 37.24s/it]"
     ]
    },
    {
     "name": "stdout",
     "output_type": "stream",
     "text": [
      "\r",
      "E2E\tBuilding: 0, r: 23\r",
      "Time taken for training: 123.56\r\n",
      "MODEL COSTS:\r",
      "Building 0: -27811.399"
     ]
    },
    {
     "name": "stderr",
     "output_type": "stream",
     "text": [
      "iAC: 1.38 , ZOiRL: 1.373 , %ipr: -0.53, MSE: 139919.75 , CN: 21.614:   7%|▋         | 574/8759 [02:51<17:09,  7.95it/s]     "
     ]
    },
    {
     "name": "stdout",
     "output_type": "stream",
     "text": [
      "E2E\tBuilding: 0, r: 22our: 23"
     ]
    },
    {
     "name": "stderr",
     "output_type": "stream",
     "text": [
      "iAC: 1.372 , ZOiRL: 1.37 , %ipr: -0.123, MSE: 139919.75 , CN: 21.614:   7%|▋         | 576/8759 [04:57<66:39:53, 29.33s/it]"
     ]
    },
    {
     "name": "stdout",
     "output_type": "stream",
     "text": [
      "\r",
      "E2E\tBuilding: 0, r: 23\r",
      "Time taken for training: 126.6\r\n",
      "MODEL COSTS:\r",
      "Building 0: -17980.97"
     ]
    },
    {
     "name": "stderr",
     "output_type": "stream",
     "text": [
      "iAC: 1.343 , ZOiRL: 1.337 , %ipr: -0.407, MSE: 24355.751 , CN: 17.252:   8%|▊         | 671/8759 [05:15<26:28,  5.09it/s]   "
     ]
    },
    {
     "name": "stdout",
     "output_type": "stream",
     "text": [
      "E2E\tBuilding: 0, r: 22our: 23"
     ]
    },
    {
     "name": "stderr",
     "output_type": "stream",
     "text": [
      "iAC: 1.338 , ZOiRL: 1.335 , %ipr: -0.218, MSE: 24355.751 , CN: 17.252:   8%|▊         | 672/8759 [07:17<82:38:12, 36.79s/it]"
     ]
    },
    {
     "name": "stdout",
     "output_type": "stream",
     "text": [
      "\r",
      "E2E\tBuilding: 0, r: 23\r",
      "Time taken for training: 121.98\r\n",
      "MODEL COSTS:\r",
      "Building 0: -5097.383"
     ]
    },
    {
     "name": "stderr",
     "output_type": "stream",
     "text": [
      "iAC: 1.279 , ZOiRL: 1.286 , %ipr: 0.57, MSE: 4062.97 , CN: 11.544:   9%|▉         | 767/8759 [07:33<17:12,  7.74it/s]       "
     ]
    },
    {
     "name": "stdout",
     "output_type": "stream",
     "text": [
      "E2E\tBuilding: 0, r: 15our: 23"
     ]
    }
   ],
   "source": [
    "params_agent = {'building_ids':[\"Building_\"+str(i) for i in [1,2,3,4,5,6,7,8,9]],\n",
    "                 'buildings_states_actions':'buildings_state_action_space.json', \n",
    "                 'building_info':building_info,\n",
    "                 'observation_spaces':observations_spaces,\n",
    "                 'agent_checkpoint' : checkpoint,\n",
    "                 'action_spaces':actions_spaces}\n",
    "\n",
    "# Instantiating the control agent(s)\n",
    "rewards = []\n",
    "critic_mse = [] # only last building to be added MSE will be recorded\n",
    "\n",
    "agent = Agent(**params_agent)\n",
    "\n",
    "state = env.reset()\n",
    "done = False\n",
    "\n",
    "ZO_iRL_costs = np.load(\"ZOiRL_cost_curve.npy\")\n",
    "\n",
    "with tqdm(total=end_time) as pbar:\n",
    "    while not done:\n",
    "        \n",
    "        # get agent\n",
    "        # day_type = env.buildings['Building_1'].sim_results['day'][env.time_step]\n",
    "        # agent = agents.get_agent(day_type)\n",
    "        # get agent\n",
    "        \n",
    "        action, _ = agent.select_action(state)\n",
    "        next_state, reward, done, _ = env.step(action)\n",
    "        agent.add_to_buffer(state, action, reward, next_state, done)\n",
    "        state = next_state\n",
    "\n",
    "        rewards.append(reward)\n",
    "\n",
    "        try:\n",
    "            mse, condition = get_mse_critic()\n",
    "            pim = round(100 * (ZO_iRL_costs[env.time_step] - env.costs_periodic[-1]['total']) / ZO_iRL_costs[env.time_step], 3)\n",
    "            txt = f\"iAC: {round(env.costs_periodic[-1]['total'], 3)} , ZOiRL: {round(ZO_iRL_costs[env.time_step], 3)} , %ipr: {pim}\"\n",
    "            if len(critic_mse) > 0:\n",
    "                txt += f\", MSE: {round(critic_mse[-1][0], 3)} , CN: {round(critic_mse[-1][1], 3)}\"\n",
    "                \n",
    "            if mse is not None:\n",
    "                critic_mse.append([mse, condition])\n",
    "                \n",
    "            pbar.set_description(txt)\n",
    "        except:\n",
    "            pass\n",
    "        \n",
    "        pbar.update(1)\n",
    "\n",
    "rewards = np.array(rewards)"
   ]
  },
  {
   "cell_type": "code",
   "execution_count": null,
   "metadata": {},
   "outputs": [],
   "source": [
    "plt.plot(np.array(critic_mse)[:, 0])"
   ]
  },
  {
   "cell_type": "code",
   "execution_count": null,
   "metadata": {},
   "outputs": [],
   "source": [
    "np.array(critic_mse)[:, 0]"
   ]
  },
  {
   "cell_type": "code",
   "execution_count": null,
   "metadata": {},
   "outputs": [],
   "source": []
  },
  {
   "cell_type": "code",
   "execution_count": null,
   "metadata": {},
   "outputs": [],
   "source": [
    "E_grid, E_grid_true, E_grid_prevhour = agent.critic_target[0].temp"
   ]
  },
  {
   "cell_type": "code",
   "execution_count": null,
   "metadata": {},
   "outputs": [],
   "source": [
    "agent.critic_optim.problem.param_dict['E_grid'].value"
   ]
  },
  {
   "cell_type": "code",
   "execution_count": null,
   "metadata": {},
   "outputs": [],
   "source": [
    "E_grid_prevhour.shape"
   ]
  },
  {
   "cell_type": "code",
   "execution_count": null,
   "metadata": {},
   "outputs": [],
   "source": [
    "agent.critic[0].normalize(E_grid_true[:, 0], _E_grid)"
   ]
  },
  {
   "cell_type": "code",
   "execution_count": null,
   "metadata": {},
   "outputs": [],
   "source": [
    "agent.memory.sample()[0][0][\"E_grid_pkhist\"].shape"
   ]
  },
  {
   "cell_type": "code",
   "execution_count": null,
   "metadata": {},
   "outputs": [],
   "source": [
    "x = agent.actor.debug[0](*agent.actor.debug[1].values())[0]"
   ]
  },
  {
   "cell_type": "code",
   "execution_count": null,
   "metadata": {},
   "outputs": [],
   "source": [
    "x.detach().numpy()"
   ]
  },
  {
   "cell_type": "code",
   "execution_count": null,
   "metadata": {},
   "outputs": [],
   "source": [
    "agent.critic_optim.test['E_grid'].min()"
   ]
  },
  {
   "cell_type": "code",
   "execution_count": null,
   "metadata": {},
   "outputs": [],
   "source": [
    "x.data = torch.tensor(agent.critic[0].normalize(x.detach().numpy(), x.detach().numpy()))"
   ]
  },
  {
   "cell_type": "code",
   "execution_count": null,
   "metadata": {},
   "outputs": [],
   "source": [
    "agent.critic_optim.problem.param_dict['E_grid'].value.min()"
   ]
  },
  {
   "cell_type": "code",
   "execution_count": null,
   "metadata": {},
   "outputs": [],
   "source": []
  },
  {
   "cell_type": "code",
   "execution_count": null,
   "metadata": {},
   "outputs": [],
   "source": [
    "agent.critic[0].debug"
   ]
  },
  {
   "cell_type": "code",
   "execution_count": null,
   "metadata": {},
   "outputs": [],
   "source": []
  },
  {
   "cell_type": "code",
   "execution_count": null,
   "metadata": {},
   "outputs": [],
   "source": [
    "i=23\n",
    "agent.critic[0].prob[i].solve('SCS')"
   ]
  },
  {
   "cell_type": "code",
   "execution_count": null,
   "metadata": {},
   "outputs": [],
   "source": [
    "agent.critic[0].prob[i].solve('SCS', eps=5e-2)"
   ]
  },
  {
   "cell_type": "code",
   "execution_count": null,
   "metadata": {},
   "outputs": [],
   "source": [
    "x = agent.critic[0].prob[i]"
   ]
  },
  {
   "cell_type": "code",
   "execution_count": null,
   "metadata": {},
   "outputs": [],
   "source": [
    "-r * ramping_cost - electricity_cost"
   ]
  },
  {
   "cell_type": "code",
   "execution_count": null,
   "metadata": {},
   "outputs": [],
   "source": [
    "x.solve(solver='SCS', max_iters=10_000_000, eps=5e-2)"
   ]
  },
  {
   "cell_type": "code",
   "execution_count": null,
   "metadata": {},
   "outputs": [],
   "source": [
    "np.sum(e[t:] * E_grid)"
   ]
  },
  {
   "cell_type": "code",
   "execution_count": null,
   "metadata": {},
   "outputs": [],
   "source": [
    "_type = 0\n",
    "Q_value, ramping_cost, peak_hist_cost, electricity_cost, E_grid, E_grid_true, E_grid_prevhour, (bid, t) = agent.critic_target[_type].debug\n",
    "r, e = agent.critic[_type].alpha_ramp[bid], agent.critic[_type].alpha_elec[bid]"
   ]
  },
  {
   "cell_type": "code",
   "execution_count": null,
   "metadata": {},
   "outputs": [],
   "source": [
    "Q_value"
   ]
  },
  {
   "cell_type": "code",
   "execution_count": null,
   "metadata": {
    "scrolled": true
   },
   "outputs": [],
   "source": [
    "np.mean(agent.actor._grads[0]['p_ele_grad'], 1)"
   ]
  },
  {
   "cell_type": "code",
   "execution_count": null,
   "metadata": {
    "scrolled": true
   },
   "outputs": [],
   "source": [
    "plt.plot(np.array(critic_mse)[:, 0])\n",
    "plt.xlabel(\"Meta-episode #\")\n",
    "plt.ylabel(\"Cost\")"
   ]
  },
  {
   "cell_type": "code",
   "execution_count": null,
   "metadata": {},
   "outputs": [],
   "source": [
    "agent.actor.debug[1][\"E_grid_prevhour\"]"
   ]
  },
  {
   "cell_type": "code",
   "execution_count": null,
   "metadata": {},
   "outputs": [],
   "source": [
    "np.array(rewards)[23:, 0].sum()"
   ]
  },
  {
   "cell_type": "code",
   "execution_count": null,
   "metadata": {},
   "outputs": [],
   "source": [
    "np.shape(critic_mse)"
   ]
  },
  {
   "cell_type": "code",
   "execution_count": null,
   "metadata": {},
   "outputs": [],
   "source": [
    "for k, v in agent.actor._losses.items():\n",
    "    print(k, v)"
   ]
  },
  {
   "cell_type": "code",
   "execution_count": null,
   "metadata": {},
   "outputs": [],
   "source": [
    "np.array(rewards).sum(0)"
   ]
  },
  {
   "cell_type": "code",
   "execution_count": null,
   "metadata": {},
   "outputs": [],
   "source": [
    "total = [x[\"total\"] for x in env.costs_periodic]"
   ]
  },
  {
   "cell_type": "code",
   "execution_count": null,
   "metadata": {},
   "outputs": [],
   "source": [
    "np.mean(agent.actor._grads[0]['p_ele_grad'], 1)"
   ]
  },
  {
   "cell_type": "code",
   "execution_count": null,
   "metadata": {},
   "outputs": [],
   "source": [
    "env.cost_detailed_view()['Building_9']['cost']"
   ]
  },
  {
   "cell_type": "code",
   "execution_count": null,
   "metadata": {},
   "outputs": [],
   "source": [
    "env.cost((0, end_time))"
   ]
  },
  {
   "cell_type": "code",
   "execution_count": null,
   "metadata": {},
   "outputs": [],
   "source": [
    "plt.plot(total, label=\"iAC\")\n",
    "plt.plot(ZO_iRL_costs[::24][1:], label=\"ZOiRL\")\n",
    "plt.legend()\n",
    "plt.ylim(0.96, 1.5)\n",
    "plt.xlabel(\"Day\")\n",
    "plt.ylabel(\"Cost\")\n",
    "plt.show()"
   ]
  },
  {
   "cell_type": "code",
   "execution_count": null,
   "metadata": {},
   "outputs": [],
   "source": [
    "np.where(ZO_iRL_costs[::24][1:] < total)"
   ]
  },
  {
   "cell_type": "code",
   "execution_count": null,
   "metadata": {},
   "outputs": [],
   "source": [
    "a, b = agent.memory.sample()"
   ]
  },
  {
   "cell_type": "code",
   "execution_count": null,
   "metadata": {},
   "outputs": [],
   "source": [
    "len(b)"
   ]
  },
  {
   "cell_type": "code",
   "execution_count": null,
   "metadata": {},
   "outputs": [],
   "source": [
    "data = {}\n",
    "NUM_DAYS = len(agent.critic_optim.debug['ramping_cost'])\n",
    "\n",
    "for key, _d in agent.critic_optim.debug.items():\n",
    "    data[key] = []\n",
    "    for day in _d:\n",
    "        data[key].append(day.value)\n",
    "    data[key] = np.reshape(data[key], (NUM_DAYS * 24))"
   ]
  },
  {
   "cell_type": "code",
   "execution_count": null,
   "metadata": {},
   "outputs": [],
   "source": [
    "agent.critic[0].alpha_ramp"
   ]
  },
  {
   "cell_type": "code",
   "execution_count": null,
   "metadata": {},
   "outputs": [],
   "source": [
    "rc = data['ramping_cost']\n",
    "peak = data['peak_net_electricity_cost']\n",
    "ec = data['electricity_cost']\n",
    "\n",
    "A = np.vstack((-rc, -peak)).T\n",
    "y = np.reshape(agent.critic_optim.problem.param_dict['y_r'].value, (NUM_DAYS * 24))\n",
    "\n",
    "x, residuals, rank, s = np.linalg.lstsq(A, y, rcond=None)\n",
    "print(f\"Rank: {rank}\\tCondition Number: {np.linalg.cond(A)}\")\n",
    "print(f\"MSE across {NUM_DAYS} days: {round(np.linalg.norm(A@x - y), 5)}\")\n",
    "\n",
    "plt.plot(A@x, label='y_hat')\n",
    "plt.plot(y, label='y')\n",
    "plt.legend()\n",
    "plt.xlabel(\"Hours\")\n",
    "plt.ylabel(\"Q-value\")\n",
    "plt.show()"
   ]
  },
  {
   "cell_type": "code",
   "execution_count": null,
   "metadata": {},
   "outputs": [],
   "source": [
    "(A@x).max(), y.max()"
   ]
  },
  {
   "cell_type": "code",
   "execution_count": null,
   "metadata": {},
   "outputs": [],
   "source": [
    "p = agent.critic_optim.problem"
   ]
  },
  {
   "cell_type": "code",
   "execution_count": null,
   "metadata": {},
   "outputs": [],
   "source": [
    "p.solve()"
   ]
  },
  {
   "cell_type": "code",
   "execution_count": null,
   "metadata": {},
   "outputs": [],
   "source": [
    "import cvxpy\n",
    "for i in range(len(p.constraints)):\n",
    "    x = p.constraints[i]\n",
    "    if isinstance(x.args[0], cvxpy.atoms.affine.add_expr.AddExpression):\n",
    "        assert x.args[0].value <= 1, (i, x.args[0].value)"
   ]
  },
  {
   "cell_type": "code",
   "execution_count": null,
   "metadata": {},
   "outputs": [],
   "source": [
    "agent.critic[0].alpha_ramp, agent.critic[0].alpha_peak1"
   ]
  },
  {
   "cell_type": "code",
   "execution_count": null,
   "metadata": {},
   "outputs": [],
   "source": [
    "agent.critic_target[0].alpha_ramp, agent.critic_target[0].alpha_peak1"
   ]
  },
  {
   "cell_type": "code",
   "execution_count": null,
   "metadata": {},
   "outputs": [],
   "source": [
    "agent.memory.replay_memory[0]['E_grid']"
   ]
  },
  {
   "cell_type": "code",
   "execution_count": null,
   "metadata": {},
   "outputs": [],
   "source": [
    "agent.critic[0].alpha_ramp"
   ]
  },
  {
   "cell_type": "code",
   "execution_count": null,
   "metadata": {},
   "outputs": [],
   "source": [
    "_t = np.array(agent._actor_zetas['p_ele_local']).T"
   ]
  },
  {
   "cell_type": "code",
   "execution_count": null,
   "metadata": {},
   "outputs": [],
   "source": [
    "plt.scatter(range(24), agent.actor.zeta['p_ele'][:, 0], c='k', label=\"Iteration 3\")\n",
    "plt.bar(range(24), _t[0, :, 0], label=\"Initial\")\n",
    "plt.bar(range(24), _t[0, :, 1], label=\"Iteration 1\")\n",
    "plt.bar(range(24), _t[0, :, 2], label=\"Iteration 2\")\n",
    "plt.legend(loc=\"upper center\", bbox_to_anchor=(0.5, 1.15), ncol=4)\n",
    "plt.show()"
   ]
  },
  {
   "cell_type": "code",
   "execution_count": null,
   "metadata": {},
   "outputs": [],
   "source": [
    "#set seaborn plotting aesthetics as default\n",
    "sns.set(rc={'figure.figsize':(5,5)})\n",
    "df = np.array(agent._actor_zetas['p_ele_local'])\n",
    "df = np.append(df, np.expand_dims(agent.actor.zeta['p_ele'], 0)).reshape((9, 24, 9)).T\n",
    "\n",
    "fig, axn = plt.subplots(2, 2, sharex=True, sharey=True)\n",
    "cbar_ax = fig.add_axes([.91, .3, .03, .4])\n",
    "\n",
    "for i, ax in enumerate(axn.flat):\n",
    "    sns.heatmap(df[i], ax=ax,\n",
    "                cbar=i == 0,\n",
    "                cmap='viridis',\n",
    "                cbar_ax=None if i else cbar_ax)\n",
    "    ax.set(title=f\"Building {i + 1}\")\n",
    "\n",
    "axn.flat[0].set(ylabel='Hour of Day')\n",
    "axn.flat[2].set(ylabel='Hour of Day')\n",
    "axn.flat[2].set(xlabel='Month')\n",
    "axn.flat[3].set(xlabel='Month')\n",
    "\n",
    "\n",
    "fig.tight_layout(rect=[0, 0, .9, 1])"
   ]
  },
  {
   "cell_type": "code",
   "execution_count": null,
   "metadata": {},
   "outputs": [],
   "source": [
    "plt.bar(range(24), agent.actor.zeta['p_ele'][:, 0])"
   ]
  },
  {
   "cell_type": "code",
   "execution_count": null,
   "metadata": {},
   "outputs": [],
   "source": [
    "np.array(agent._actor_zetas[\"p_ele_local\"])[:, :, 0].min(1)"
   ]
  },
  {
   "cell_type": "code",
   "execution_count": null,
   "metadata": {},
   "outputs": [],
   "source": [
    "np.array(agent._actor_zetas[\"p_ele_target\"])[:, :, 0].min(1)"
   ]
  },
  {
   "cell_type": "code",
   "execution_count": null,
   "metadata": {},
   "outputs": [],
   "source": [
    "agent.actor.scs_cnt, agent.actor.fail_cnt, agent.critic_optim.fail_cnt"
   ]
  },
  {
   "cell_type": "code",
   "execution_count": null,
   "metadata": {},
   "outputs": [],
   "source": [
    "agent.actor.zeta[\"p_ele\"][:, 0]"
   ]
  },
  {
   "cell_type": "code",
   "execution_count": null,
   "metadata": {},
   "outputs": [],
   "source": [
    "agent.critic[0].alpha_peak1"
   ]
  },
  {
   "cell_type": "code",
   "execution_count": null,
   "metadata": {},
   "outputs": [],
   "source": [
    "agent.critic_target[0].alpha_peak1"
   ]
  },
  {
   "cell_type": "code",
   "execution_count": null,
   "metadata": {},
   "outputs": [],
   "source": [
    "agent.actor.zeta"
   ]
  },
  {
   "cell_type": "code",
   "execution_count": null,
   "metadata": {},
   "outputs": [],
   "source": [
    "t = np.random.rand(101, 30)"
   ]
  },
  {
   "cell_type": "code",
   "execution_count": null,
   "metadata": {},
   "outputs": [],
   "source": [
    "v = np.expand_dims(t, axis=(2, 3))"
   ]
  },
  {
   "cell_type": "code",
   "execution_count": null,
   "metadata": {},
   "outputs": [],
   "source": [
    "np.linalg.matrix_rank(t)"
   ]
  },
  {
   "cell_type": "code",
   "execution_count": null,
   "metadata": {},
   "outputs": [],
   "source": [
    "total[100]"
   ]
  },
  {
   "cell_type": "code",
   "execution_count": null,
   "metadata": {},
   "outputs": [],
   "source": []
  }
 ],
 "metadata": {
  "kernelspec": {
   "display_name": "Python 3",
   "language": "python",
   "name": "python3"
  },
  "language_info": {
   "codemirror_mode": {
    "name": "ipython",
    "version": 3
   },
   "file_extension": ".py",
   "mimetype": "text/x-python",
   "name": "python",
   "nbconvert_exporter": "python",
   "pygments_lexer": "ipython3",
   "version": "3.7.6"
  }
 },
 "nbformat": 4,
 "nbformat_minor": 4
}
