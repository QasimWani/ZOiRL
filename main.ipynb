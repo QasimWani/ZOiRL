{
 "cells": [
  {
   "cell_type": "code",
   "execution_count": 1,
   "metadata": {},
   "outputs": [],
   "source": [
    "# Run this again after editing submodules so Colab uses the updated versions\n",
    "from citylearn import  CityLearn\n",
    "from pathlib import Path\n",
    "from TD3 import Agent as Agent\n",
    "import numpy as np                                                                                                                                                                                      \n",
    "import torch\n",
    "import matplotlib.pyplot as plt\n",
    "import time\n",
    "from tqdm import tqdm\n",
    "from utils import agent_checkpoint_cost\n",
    "import seaborn as sns"
   ]
  },
  {
   "cell_type": "code",
   "execution_count": 2,
   "metadata": {},
   "outputs": [
    {
     "name": "stdout",
     "output_type": "stream",
     "text": [
      "Time taken to add RBC pretrained model (sec): 18.773\n"
     ]
    }
   ],
   "source": [
    "# Load environment\n",
    "climate_zone = 1\n",
    "end_time = 8759 # total number of hours to train for\n",
    "cost_analysis = 24 # analyze costs every x hours\n",
    "checkpoint = 24 * 7 # save parameters every x hours\n",
    "\n",
    "params = {'data_path':Path(\"data/Climate_Zone_\"+str(climate_zone)), \n",
    "        'building_attributes':'building_attributes.json', \n",
    "        'weather_file':'weather_data.csv', \n",
    "        'solar_profile':'solar_generation_1kW.csv', \n",
    "        'carbon_intensity':'carbon_intensity.csv',\n",
    "        'building_ids':[\"Building_\"+str(i) for i in [1,2,3,4,5,6,7,8,9]],\n",
    "        'buildings_states_actions':'buildings_state_action_space.json', \n",
    "        'simulation_period': (0, end_time), \n",
    "        'cost_function': ['ramping','1-load_factor','average_daily_peak','peak_demand','net_electricity_consumption','carbon_emissions'], \n",
    "        'central_agent': False,\n",
    "        'cost_analysis' : cost_analysis,\n",
    "        'save_memory': False }\n",
    "\n",
    "# Contain the lower and upper bounds of the states and actions, to be provided to the agent to normalize the variables between 0 and 1.\n",
    "env = CityLearn(**params)\n",
    "env.pretrain_baseline_model((0, end_time))\n",
    "\n",
    "observations_spaces, actions_spaces = env.get_state_action_spaces()\n",
    "\n",
    "# Provides information on Building type, Climate Zone, Annual DHW demand, Annual Cooling Demand, Annual Electricity Demand, Solar Capacity, and correllations among buildings\n",
    "building_info = env.get_building_information()"
   ]
  },
  {
   "cell_type": "code",
   "execution_count": 3,
   "metadata": {},
   "outputs": [],
   "source": [
    "def get_mse_critic():\n",
    "    if not agent.did_i_just_finish_training():\n",
    "            return None, None\n",
    "    try:\n",
    "        data = {}\n",
    "        NUM_DAYS = len(agent.critic_optim.debug['ramping_cost'])\n",
    "\n",
    "        for key, _d in agent.critic_optim.debug.items():\n",
    "            data[key] = []\n",
    "            for day in _d:\n",
    "                data[key].append(day.value)\n",
    "            data[key] = np.reshape(data[key], (NUM_DAYS * 24))\n",
    "\n",
    "        rc = data['ramping_cost']\n",
    "        peak = data['peak_net_electricity_cost']\n",
    "        ec = data['electricity_cost']\n",
    "\n",
    "        A = np.vstack((-rc, -peak, -ec)).T\n",
    "        y = np.reshape(agent.critic_optim.problem.param_dict['y_r'].value, (NUM_DAYS * 24))\n",
    "\n",
    "        x, residuals, rank, s = np.linalg.lstsq(A, y, rcond=None)\n",
    "        # print(f\"Rank: {rank}\\tCondition Number: {np.linalg.cond(A)}\")\n",
    "        # print(f\"MSE across {NUM_DAYS} days: {round(np.linalg.norm(A@x - y), 5)}\")\n",
    "        return round(np.linalg.norm(A@x - y), 5), round(np.linalg.cond(A), 3)\n",
    "    except:\n",
    "        return None, None"
   ]
  },
  {
   "cell_type": "code",
   "execution_count": null,
   "metadata": {
    "scrolled": false
   },
   "outputs": [
    {
     "name": "stderr",
     "output_type": "stream",
     "text": [
      "Cost: 1.40566:   6%|▌         | 502/8759 [00:34<16:00,  8.59it/s] "
     ]
    },
    {
     "name": "stdout",
     "output_type": "stream",
     "text": [
      "L2 Optim\tBuilding: 2\tHour: 23\n",
      "L2 Optim\tBuilding: 2\tHour: 01S at t = 23 for building 2"
     ]
    }
   ],
   "source": [
    "params_agent = {'building_ids':[\"Building_\"+str(i) for i in [1,2,3,4,5,6,7,8,9]],\n",
    "                 'buildings_states_actions':'buildings_state_action_space.json', \n",
    "                 'building_info':building_info,\n",
    "                 'observation_spaces':observations_spaces,\n",
    "                 'agent_checkpoint' : checkpoint,\n",
    "                 'action_spaces':actions_spaces}\n",
    "\n",
    "# Instantiating the control agent(s)\n",
    "rewards = []\n",
    "critic_mse = [] # only last building to be added MSE will be recorded\n",
    "\n",
    "agent = Agent(**params_agent)\n",
    "\n",
    "state = env.reset()\n",
    "done = False\n",
    "\n",
    "with tqdm(total=end_time) as pbar:\n",
    "    while not done:\n",
    "        \n",
    "        # get agent\n",
    "        # day_type = env.buildings['Building_1'].sim_results['day'][env.time_step]\n",
    "        # agent = agents.get_agent(day_type)\n",
    "        # get agent\n",
    "        \n",
    "        action, _ = agent.select_action(state)\n",
    "        next_state, reward, done, _ = env.step(action)\n",
    "        agent.add_to_buffer(state, action, reward, next_state, done)\n",
    "        state = next_state\n",
    "\n",
    "        rewards.append(reward)\n",
    "\n",
    "        try:\n",
    "            mse, condition = get_mse_critic()\n",
    "            txt = f\"Cost: {round(env.costs_periodic[-1]['total'], 5)}\"\n",
    "            if len(critic_mse) > 0:\n",
    "                txt += f\"\\tCritic MSE: {critic_mse[-1][0]}\\tCondition number: {critic_mse[-1][1]}\"\n",
    "                \n",
    "            if mse is not None:\n",
    "                critic_mse.append([mse, condition])\n",
    "                \n",
    "            pbar.set_description(txt)\n",
    "        except:\n",
    "            pass\n",
    "        \n",
    "        pbar.update(1)"
   ]
  },
  {
   "cell_type": "code",
   "execution_count": null,
   "metadata": {
    "scrolled": true
   },
   "outputs": [],
   "source": [
    "agent.actor._grads[0]['p_ele_grad'][0].mean()"
   ]
  },
  {
   "cell_type": "code",
   "execution_count": null,
   "metadata": {},
   "outputs": [],
   "source": [
    "plt.plot(np.array(critic_mse)[:, 0])"
   ]
  },
  {
   "cell_type": "code",
   "execution_count": null,
   "metadata": {},
   "outputs": [],
   "source": [
    "for k, v in agent.actor._losses.items():\n",
    "    print(k, v)"
   ]
  },
  {
   "cell_type": "code",
   "execution_count": null,
   "metadata": {},
   "outputs": [],
   "source": [
    "total = [x[\"total\"] for x in env.costs_periodic]"
   ]
  },
  {
   "cell_type": "code",
   "execution_count": null,
   "metadata": {},
   "outputs": [],
   "source": [
    "np.mean(agent.actor._grads[0]['p_ele_grad'], 1)"
   ]
  },
  {
   "cell_type": "code",
   "execution_count": null,
   "metadata": {},
   "outputs": [],
   "source": [
    "plt.plot(total)"
   ]
  },
  {
   "cell_type": "code",
   "execution_count": null,
   "metadata": {},
   "outputs": [],
   "source": [
    "data = {}\n",
    "NUM_DAYS = len(agent.critic_optim.debug['ramping_cost'])\n",
    "\n",
    "for key, _d in agent.critic_optim.debug.items():\n",
    "    data[key] = []\n",
    "    for day in _d:\n",
    "        data[key].append(day.value)\n",
    "    data[key] = np.reshape(data[key], (NUM_DAYS * 24))"
   ]
  },
  {
   "cell_type": "code",
   "execution_count": null,
   "metadata": {},
   "outputs": [],
   "source": [
    "rc = data['ramping_cost']\n",
    "peak = data['peak_net_electricity_cost']\n",
    "ec = data['electricity_cost']\n",
    "\n",
    "A = np.vstack((-rc, -peak, -ec)).T\n",
    "y = np.reshape(agent.critic_optim.problem.param_dict['y_r'].value, (NUM_DAYS * 24))\n",
    "\n",
    "x, residuals, rank, s = np.linalg.lstsq(A, y, rcond=None)\n",
    "print(f\"Rank: {rank}\\tCondition Number: {np.linalg.cond(A)}\")\n",
    "print(f\"MSE across {NUM_DAYS} days: {round(np.linalg.norm(A@x - y), 5)}\")\n",
    "\n",
    "plt.plot(A@x, label='y_hat')\n",
    "plt.plot(y, label='y')\n",
    "plt.legend()\n",
    "plt.xlabel(\"Hours\")\n",
    "plt.ylabel(\"Q-value\")\n",
    "plt.show()"
   ]
  },
  {
   "cell_type": "code",
   "execution_count": null,
   "metadata": {},
   "outputs": [],
   "source": [
    "agent.critic[0].alpha_peak1"
   ]
  },
  {
   "cell_type": "code",
   "execution_count": null,
   "metadata": {},
   "outputs": [],
   "source": [
    "np.mean(agent.critic[0].alpha_elec, 1)"
   ]
  },
  {
   "cell_type": "code",
   "execution_count": null,
   "metadata": {},
   "outputs": [],
   "source": [
    "agent.critic[0].alpha_elec[0]"
   ]
  },
  {
   "cell_type": "code",
   "execution_count": null,
   "metadata": {},
   "outputs": [],
   "source": [
    "agent.critic_target[0].alpha_peak1"
   ]
  },
  {
   "cell_type": "code",
   "execution_count": null,
   "metadata": {},
   "outputs": [],
   "source": [
    "_t = np.array(agent._actor_zetas['p_ele_local']).T"
   ]
  },
  {
   "cell_type": "code",
   "execution_count": null,
   "metadata": {},
   "outputs": [],
   "source": [
    "plt.bar(range(24), _t[0, :, 0], label=\"Initial\")\n",
    "plt.bar(range(24), _t[0, :, 1], label=\"Iteration 1\")\n",
    "plt.bar(range(24), _t[0, :, 2], label=\"Iteration 2\")\n",
    "plt.plot(range(24), agent.actor.zeta['p_ele'][:, 0], c='k', label=\"Iteration 3\")\n",
    "plt.legend(loc=\"upper center\", bbox_to_anchor=(0.5, 1.15), ncol=4)\n",
    "plt.show()"
   ]
  },
  {
   "cell_type": "code",
   "execution_count": null,
   "metadata": {},
   "outputs": [],
   "source": [
    "#set seaborn plotting aesthetics as default\n",
    "sns.set(rc={'figure.figsize':(5,5)})\n",
    "df = np.array(agent._actor_zetas['p_ele_local'])\n",
    "df = np.append(df, np.expand_dims(agent.actor.zeta['p_ele'], 0)).reshape((9, 24, 9)).T\n",
    "\n",
    "fig, axn = plt.subplots(2, 2, sharex=True, sharey=True)\n",
    "cbar_ax = fig.add_axes([.91, .3, .03, .4])\n",
    "\n",
    "for i, ax in enumerate(axn.flat):\n",
    "    sns.heatmap(df[i], ax=ax,\n",
    "                cbar=i == 0,\n",
    "                cmap='viridis',\n",
    "                cbar_ax=None if i else cbar_ax)\n",
    "    ax.set(title=f\"Building {i + 1}\")\n",
    "\n",
    "axn.flat[0].set(ylabel='Hour of Day')\n",
    "axn.flat[2].set(ylabel='Hour of Day')\n",
    "axn.flat[2].set(xlabel='Month')\n",
    "axn.flat[3].set(xlabel='Month')\n",
    "\n",
    "\n",
    "fig.tight_layout(rect=[0, 0, .9, 1])"
   ]
  }
 ],
 "metadata": {
  "kernelspec": {
   "display_name": "Python 3",
   "language": "python",
   "name": "python3"
  },
  "language_info": {
   "codemirror_mode": {
    "name": "ipython",
    "version": 3
   },
   "file_extension": ".py",
   "mimetype": "text/x-python",
   "name": "python",
   "nbconvert_exporter": "python",
   "pygments_lexer": "ipython3",
   "version": "3.7.6"
  }
 },
 "nbformat": 4,
 "nbformat_minor": 4
}
