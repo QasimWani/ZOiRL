{
 "cells": [
  {
   "cell_type": "code",
   "execution_count": 14,
   "metadata": {},
   "outputs": [],
   "source": [
    "from citylearn import CityLearn\n",
    "from pathlib import Path\n",
    "from agents.rbc import RBC\n",
    "import numpy as np\n",
    "from utils import ReplayBuffer\n",
    "import sys\n",
    "import matplotlib.pyplot as plt\n",
    "from scipy import stats\n",
    "from sklearn import datasets, linear_model\n",
    "from sklearn.metrics import mean_squared_error, r2_score\n",
    "from sklearn.linear_model import LinearRegression\n",
    "\n",
    "true_val_h = [10.68, 49.35, 1e-05, 1e-05, 60.12, 105.12, 85.44, 111.96, 102.24]\n",
    "true_val_b = [140, 80, 50, 75, 50, 30, 40, 30, 35]\n",
    "true_val_c = [618.12, 227.37, 414.68, 383.565, 244.685, 96.87, 127.82, 165.45, 175.23]\n",
    "CF_C = 0.006\n",
    "CF_H = 0.008\n",
    "CF_B = 0\n",
    "building_ids = range(9)\n",
    "\n",
    "\"\"\"\n",
    "problem w code: no cooling loads \n",
    "\"\"\"\n",
    "\n",
    "\n",
    "class Predictor:\n",
    "    def __init__(self):\n",
    "        self.building_ids = range(9)\n",
    "        self.state_buffer = ReplayBuffer(buffer_size=365, batch_size=32)\n",
    "        self.action_buffer = ReplayBuffer(buffer_size=365, batch_size=32)\n",
    "        self.data_buffer = ReplayBuffer(buffer_size=365, batch_size=32) # main buffer used in optimization\n",
    "        self.regr = LinearRegression(fit_intercept=False, positive=True)\n",
    "        self.avg_h_load = {uid: np.zeros(24) for uid in building_ids}\n",
    "        self.avg_c_load = {uid: np.ones(24) for uid in building_ids}\n",
    "        self.timestep = 0\n",
    "\n",
    "        pass\n",
    "\n",
    "    def record_dic(self, current_state: list, current_action: list, current_reward:list):\n",
    "        \"\"\"\n",
    "        call record_dic at the beginning of each step\n",
    "        \"\"\"\n",
    "        now_state = self.state_to_dic(current_state)\n",
    "        state = self.state_buffer.get_recent()\n",
    "        parse_state = self.parse_data(state, now_state)\n",
    "        self.state_buffer.add(parse_state)\n",
    "        current_action = self.action_reward_to_dic(current_action, current_reward)\n",
    "        action = self.action_buffer.get_recent()\n",
    "        parse_action = self.parse_data(action, current_action)\n",
    "        self.action_buffer.add(parse_action)\n",
    "\n",
    "    def state_to_dic(self, state_list: list):\n",
    "        state_bdg = {}\n",
    "        for uid in self.building_ids:\n",
    "            state = state_list[uid]\n",
    "            s = {\n",
    "                \"month\": state[0],\n",
    "                \"day\": state[1],\n",
    "                \"hour\": state[2],\n",
    "                \"daylight_savings_status\": state[3],\n",
    "                \"t_out\": state[4],\n",
    "                \"t_out_pred_6h\": state[5],\n",
    "                \"t_out_pred_12h\": state[6],\n",
    "                \"t_out_pred_24h\": state[7],\n",
    "                \"rh_out\": state[8],\n",
    "                \"rh_out_pred_6h\": state[9],\n",
    "                \"rh_out_pred_12h\": state[10],\n",
    "                \"rh_out_pred_24h\": state[11],\n",
    "                \"diffuse_solar_rad\": state[12],\n",
    "                \"diffuse_solar_rad_pred_6h\": state[13],\n",
    "                \"diffuse_solar_rad_pred_12h\": state[14],\n",
    "                \"diffuse_solar_rad_pred_24h\": state[15],\n",
    "                \"direct_solar_rad\": state[16],\n",
    "                \"direct_solar_rad_pred_6h\": state[17],\n",
    "                \"direct_solar_rad_pred_12h\": state[18],\n",
    "                \"direct_solar_rad_pred_24h\": state[19],\n",
    "                \"t_in\": state[20],\n",
    "                \"avg_unmet_setpoint\": state[21],\n",
    "                \"rh_in\": state[22],\n",
    "                \"non_shiftable_load\": state[23],\n",
    "                \"solar_gen\": state[24],\n",
    "                \"cooling_storage_soc\": state[25],\n",
    "                \"dhw_storage_soc\": state[26],\n",
    "                \"electrical_storage_soc\": state[27],\n",
    "                \"net_electricity_consumption\": state[28],\n",
    "                \"carbon_intensity\": state[29],\n",
    "            }\n",
    "            state_bdg[uid] = s\n",
    "\n",
    "        s_dic = {}\n",
    "        daytype = [state_bdg[i][\"day\"] for i in self.building_ids]\n",
    "        hour = [state_bdg[i][\"hour\"] for i in self.building_ids]\n",
    "        t_out = [state_bdg[i][\"t_out\"] for i in self.building_ids]\n",
    "        rh_out = [state_bdg[i][\"rh_out\"] for i in self.building_ids]\n",
    "        t_in = [state_bdg[i][\"t_in\"] for i in self.building_ids]\n",
    "        rh_in = [state_bdg[i][\"rh_in\"] for i in self.building_ids]\n",
    "        elec_dem = [state_bdg[i][\"non_shiftable_load\"] for i in self.building_ids]\n",
    "        solar_gen = [state_bdg[i][\"solar_gen\"] for i in self.building_ids]\n",
    "        soc_c = [state_bdg[i][\"cooling_storage_soc\"] for i in self.building_ids]\n",
    "        soc_h = [state_bdg[i][\"dhw_storage_soc\"] for i in self.building_ids]\n",
    "        soc_b = [state_bdg[i][\"electrical_storage_soc\"] for i in self.building_ids]\n",
    "        elec_cons = [\n",
    "            state_bdg[i][\"net_electricity_consumption\"] for i in self.building_ids\n",
    "        ]\n",
    "\n",
    "        s_dic[\"daytype\"] = daytype\n",
    "        s_dic[\"hour\"] = hour\n",
    "        s_dic[\"t_out\"] = t_out\n",
    "        s_dic[\"rh_out\"] = rh_out\n",
    "        s_dic[\"t_in\"] = t_in\n",
    "        s_dic[\"rh_in\"] = rh_in\n",
    "        s_dic[\"elec_dem\"] = elec_dem\n",
    "        s_dic[\"solar_gen\"] = solar_gen\n",
    "        s_dic[\"soc_c\"] = soc_c\n",
    "        s_dic[\"soc_h\"] = soc_h\n",
    "        s_dic[\"soc_b\"] = soc_b\n",
    "        s_dic[\"elec_cons\"] = elec_cons\n",
    "\n",
    "        return s_dic\n",
    "\n",
    "    def action_reward_to_dic(self, action, reward):\n",
    "        s_dic = {}\n",
    "        a_c = [action[i][0] for i in self.building_ids]\n",
    "        a_h = [action[i][1] for i in self.building_ids]\n",
    "        a_b = [action[i][2] for i in self.building_ids]\n",
    "\n",
    "        s_dic[\"action_C\"] = a_c\n",
    "        s_dic[\"action_H\"] = a_h\n",
    "        s_dic[\"action_bat\"] = a_b\n",
    "        s_dic[\"reward\"] = reward\n",
    "\n",
    "        return s_dic\n",
    "\n",
    "    def cop_cal(self, temp):\n",
    "        eta_tech = 0.22\n",
    "        target_c = 8\n",
    "        if temp == target_c:\n",
    "            cop_c = 20\n",
    "        else:\n",
    "            cop_c = eta_tech * (target_c + 273.15) / (temp - target_c)\n",
    "        if cop_c <= 0 or cop_c > 20:\n",
    "            cop_c = 20\n",
    "        return cop_c\n",
    "\n",
    "    def parse_data(self, data: dict, current_data: dict) -> list:\n",
    "        \"\"\"Parses `current_data` for optimization and loads into `data`\"\"\"\n",
    "        for key, value in current_data.items():\n",
    "            if key not in data:\n",
    "                data[key] = []\n",
    "            data[key].append(value)\n",
    "        return data\n",
    "\n",
    "    def upload_data(self):\n",
    "        \"\"\" \n",
    "        Call at start of each day to process into day-ahead dispatch. \n",
    "        This is based on previous days' data, and not the next days' prediction.\n",
    "        \"\"\"\n",
    "        # get current day's buffer\n",
    "        data = self.data_buffer.get_recent()\n",
    "        # get heating and cooling estimate\n",
    "        heating_estimate, cooling_estimate = self.infer_load()\n",
    "        \n",
    "        E_ns = np.array(pred.state_buffer.get(-2)[\"elec_cons\"]) # net electricity consumption -2 to -1\n",
    "        H_bd = np.array([heating_estimate[key] for key in pred.building_ids]).T\n",
    "        C_bd = np.array([cooling_estimate[key] for key in pred.building_ids]).T\n",
    "\n",
    "        H_max = None if \"H_max\" not in data else data[\"H_max\"] # load previous H_max\n",
    "        if H_max is None:\n",
    "            H_max = np.max(H_bd, axis=0)\n",
    "        else:\n",
    "            H_max = np.max([H_max, H_bd.max(axis=0)], axis=0) # global max\n",
    "\n",
    "\n",
    "        C_max = None if \"C_max\" not in data else data[\"C_max\"] # load previous C_max\n",
    "        if C_max is None:\n",
    "            C_max = np.max(C_bd, axis=0)\n",
    "        else:\n",
    "            H_max = np.max([C_max, C_bd.max(axis=0)], axis=0) # global max\n",
    "\n",
    "        E_pv = np.array(pred.state_buffer.get(-2)[\"solar_gen\"]) # solar energy -2 to -1\n",
    "\n",
    "        temp = np.array(pred.state_buffer.get(-2)[\"t_out\"]) # 24, 9 intermediate value\n",
    "        COP_C = np.zeros((24, len(pred.building_ids)))\n",
    "        for hour in range(24):\n",
    "            for bid in pred.building_ids:\n",
    "                COP_C[hour, bid] = pred.cop_cal(temp[hour, bid])\n",
    "\n",
    "        E_hpC_max = np.max(C_bd / COP_C, axis=0)\n",
    "        E_ehH_max = H_max / 0.9\n",
    "        C_p_bat = np.full((24, len(pred.building_ids)), fill_value=60)\n",
    "\n",
    "        c_bat_init = np.array(pred.state_buffer.get(-2)[\"soc_b\"]) / C_p_bat # -2 to -1 (confirm)\n",
    "        c_bat_init[c_bat_init == np.inf] = 0\n",
    "\n",
    "        C_p_Hsto = 3 * H_max\n",
    "\n",
    "        c_Hsto_init = np.array(pred.state_buffer.get(-2)[\"soc_h\"]) / C_p_Hsto # -2 to -1 (confirm)\n",
    "        c_Hsto_init[c_Hsto_init == np.inf] = 0\n",
    "        C_p_Csto = 2 * C_max\n",
    "\n",
    "        c_Csto_init = np.array(pred.state_buffer.get(-2)[\"soc_c\"]) / C_p_Csto # -2 to -1 (confirm)\n",
    "        c_Csto_init[c_Csto_init == np.inf] = 0\n",
    "\n",
    "        # add E-grid (part of E-grid_collect)\n",
    "        observation_data[\"E_grid\"] = (\n",
    "            E_grid if E_grid is not None else [0] * _num_buildings\n",
    "        )\n",
    "        observation_data[\"E_grid_prevhour\"] = E_grid_memory\n",
    "\n",
    "        observation_data[\"E_ns\"] = E_ns\n",
    "        observation_data[\"H_bd\"] = H_bd\n",
    "        observation_data[\"C_bd\"] = C_bd\n",
    "        observation_data[\"H_max\"] = H_max\n",
    "        observation_data[\"C_max\"] = C_max\n",
    "\n",
    "        observation_data[\"E_pv\"] = E_pv\n",
    "\n",
    "        observation_data[\"E_hpC_max\"] = E_hpC_max\n",
    "        observation_data[\"E_ehH_max\"] = E_ehH_max\n",
    "        observation_data[\"COP_C\"] = COP_C\n",
    "\n",
    "        observation_data[\"C_p_bat\"] = C_p_bat\n",
    "        observation_data[\"c_bat_init\"] = c_bat_init\n",
    "\n",
    "        observation_data[\"C_p_Hsto\"] = C_p_Hsto\n",
    "        observation_data[\"c_Hsto_init\"] = c_Hsto_init\n",
    "\n",
    "        observation_data[\"C_p_Csto\"] = C_p_Csto\n",
    "        observation_data[\"c_Csto_init\"] = c_Csto_init\n",
    "\n",
    "        observation_data[\"action_H\"] = self.action_buffer.get(-2)[\"action_H\"]\n",
    "        observation_data[\"action_C\"] = self.action_buffer.get(-2)[\"action_C\"]\n",
    "        observation_data[\"action_bat\"] = self.action_buffer.get(-2)[\"action_bat\"]\n",
    "\n",
    "        # add reward \\in R^9 (scalar value for each building)\n",
    "        observation_data[\"reward\"] = self.action_buffer.get(-2)[\"reward\"]\n",
    "\n",
    "        return observation_data\n",
    "    \n",
    "    def infer_load(self):\n",
    "        \"\"\"\n",
    "        Note: h&c should be inferred simultaneously\n",
    "        inferring all-day h&c loads according to three methods accordingly:\n",
    "        1. direct calculation and power balance equation (if either is clipped)\n",
    "        2. two-point regression estimation (if nearby (t-1 or t+1) loads are calculated directly)\n",
    "        3. main method regression estimation (at least two different COPs among consecutive three hours)\n",
    "        **assuming conduct inference at the beginning hour of the day(aft recording in buffer, bef executing actions)\n",
    "        **so that when we obtain from ReplayBuffer.get_recent(), we get day-long data.\n",
    "        :return: daily h&c load inference\n",
    "        \"\"\"\n",
    "        est_c_load = {uid: np.zeros(24) for uid in self.building_ids}\n",
    "        est_h_load = {uid: np.zeros(24) for uid in self.building_ids}\n",
    "        c_hasest = {\n",
    "            uid: np.zeros(24) for uid in self.building_ids\n",
    "        }  # -1:clipped, 0:non-est, 1:regression, 2: moving avg\n",
    "        h_hasest = {uid: np.zeros(24) for uid in self.building_ids}\n",
    "        # hasest indicates whether every hour of the day has estimation.\n",
    "        # only when all 0 become 1 in has_est, the function runs over.\n",
    "        effi_h = 0.9\n",
    "\n",
    "        for uid in self.building_ids:\n",
    "            # starting from t=0, need a loop to cycle time\n",
    "            # say at hour=t, check if the action of c/h is clipped\n",
    "            # if so, directly calculate h/c load and continue this loop\n",
    "            repeat_times = 0\n",
    "            time = 0\n",
    "            jump_out = False\n",
    "            while jump_out is not True:\n",
    "                if c_hasest[uid][time] in [0, 2]:\n",
    "                    now_state = self.state_buffer.get(-2) # this is previous, not now!\n",
    "                    now_c_soc = now_state[\"soc_c\"][time][uid]\n",
    "                    now_h_soc = now_state[\"soc_h\"][time][uid]\n",
    "                    now_b_soc = now_state[\"soc_b\"][time][uid]\n",
    "                    now_t_out = now_state[\"t_out\"][time][uid]\n",
    "                    now_solar = now_state[\"solar_gen\"][time][uid]\n",
    "                    now_elec_dem = now_state[\"elec_dem\"][time][uid]\n",
    "                    cop_c = self.cop_cal(now_t_out)  # cop at t\n",
    "                    now_action = self.action_buffer.get(-2) # this is previous, not now!\n",
    "                    now_action_c = now_action[\"action_C\"][time][uid]\n",
    "                    now_action_h = now_action[\"action_H\"][time][uid]\n",
    "                    now_action_b = now_action[\"action_bat\"][time][uid]\n",
    "                    prev_state = now_state if time != 0 else self.state_buffer.get(-3) # this is 2 days ago, not previous\n",
    "                    prev_t_out = prev_state[\"t_out\"][time - 1][\n",
    "                        uid\n",
    "                    ]  # when time=0, time-1=-1\n",
    "                    if time != 23:\n",
    "                        next_state = now_state\n",
    "                        next_c_soc = next_state[\"soc_c\"][time + 1][uid]\n",
    "                        next_h_soc = next_state[\"soc_h\"][time + 1][uid]\n",
    "                        next_b_soc = next_state[\"soc_b\"][time + 1][uid]\n",
    "                        next_t_out = next_state[\"t_out\"][time + 1][uid]\n",
    "                        next_elec_con = next_state[\"elec_cons\"][time + 1][uid]\n",
    "                        y = (\n",
    "                            now_solar\n",
    "                            + next_elec_con\n",
    "                            - now_elec_dem\n",
    "                            - (true_val_c[uid] / cop_c)\n",
    "                            * (next_c_soc - (1 - CF_C) * now_c_soc)\n",
    "                            * 0.9\n",
    "                            - (true_val_h[uid] / effi_h)\n",
    "                            * (next_h_soc - (1 - CF_H) * now_h_soc)\n",
    "                            - (next_b_soc - (1 - CF_B) * now_b_soc)\n",
    "                            * true_val_b[uid]\n",
    "                            / 0.9\n",
    "                        )\n",
    "                    else:\n",
    "                        next_state = self.state_buffer.get_recent()\n",
    "                        next_c_soc = next_state[\"soc_c\"][0][uid]\n",
    "                        next_h_soc = next_state[\"soc_h\"][0][uid]\n",
    "                        next_b_soc = next_state[\"soc_b\"][0][uid]\n",
    "                        next_t_out = next_state[\"t_out\"][0][uid]\n",
    "                        next_elec_con = next_state[\"elec_cons\"][0][uid]\n",
    "                        y = (\n",
    "                            now_solar\n",
    "                            + next_elec_con\n",
    "                            - now_elec_dem\n",
    "                            - (true_val_c[uid] / cop_c)\n",
    "                            * (next_c_soc - (1 - CF_C) * now_c_soc)\n",
    "                            * 0.9\n",
    "                            - (true_val_h[uid] / effi_h)\n",
    "                            * (next_h_soc - (1 - CF_H) * now_h_soc)\n",
    "                            - (next_b_soc - (1 - CF_B) * now_b_soc)\n",
    "                            * true_val_b[uid]\n",
    "                            / 0.9\n",
    "                        )\n",
    "\n",
    "                    a_clip_c = next_c_soc - (1 - CF_C) * now_c_soc\n",
    "                    a_clip_h = next_h_soc - (1 - CF_H) * now_h_soc\n",
    "\n",
    "                    if (\n",
    "                        repeat_times == 0\n",
    "                    ):  # can we calculate direct when now_action > 0?\n",
    "                        if uid in [2, 3]:\n",
    "                            c_load = max(0, y * cop_c)\n",
    "                            h_load = 0\n",
    "                            est_h_load[uid][time] = h_load\n",
    "                            est_c_load[uid][time] = c_load\n",
    "                            c_hasest[uid][time], h_hasest[uid][time] = -1, -1\n",
    "                        else:\n",
    "                            if (\n",
    "                                abs(a_clip_c - now_action_c) > 0.001\n",
    "                                and now_action_c < 0\n",
    "                            ):  # cooling get clipped\n",
    "                                c_load = abs(a_clip_c * true_val_c[uid])\n",
    "                                if (\n",
    "                                    abs(a_clip_h - now_action_h) > 0.001\n",
    "                                    and now_action_h < 0\n",
    "                                ):  # heating get clipped\n",
    "                                    h_load = a_clip_h * true_val_h[uid]\n",
    "                                else:  # heating not clipped\n",
    "                                    h_load = (y - c_load / cop_c) * effi_h\n",
    "                                est_h_load[uid][time] = h_load\n",
    "                                est_c_load[uid][time] = c_load\n",
    "                                c_hasest[uid][time], h_hasest[uid][time] = -1, -1\n",
    "                            elif (\n",
    "                                abs(a_clip_h > now_action_h) > 0.01 and a_clip_h < 0\n",
    "                            ):  # h clipped but c not clipped\n",
    "                                h_load = abs(a_clip_h * true_val_h[uid])\n",
    "                                c_load = (y - h_load / effi_h) * cop_c\n",
    "                                c_hasest[uid][time], h_hasest[uid][time] = -1, -1\n",
    "                                est_h_load[uid][time] = h_load\n",
    "                                est_c_load[uid][time] = c_load\n",
    "                    else:\n",
    "                        prev_t_cop = self.cop_cal(prev_t_out)\n",
    "                        now_t_cop = self.cop_cal(now_t_out)\n",
    "                        next_t_cop = self.cop_cal(next_t_out)\n",
    "                        if (\n",
    "                            prev_t_cop != now_t_cop\n",
    "                            or prev_t_cop != next_t_cop\n",
    "                            or now_t_cop != next_t_cop\n",
    "                        ):\n",
    "                            reg_x = []\n",
    "                            reg_y = []\n",
    "                            reg_x.append([1 / prev_t_cop, 1 / 0.9])\n",
    "                            reg_y.append([y])\n",
    "                            reg_x.append([1 / now_t_cop, 1 / 0.9])\n",
    "                            reg_y.append([y])\n",
    "                            reg_x.append([1 / next_t_cop, 1 / 0.9])\n",
    "                            reg_y.append([y])\n",
    "                            c_hasest[uid][time], h_hasest[uid][time] = 1, 1\n",
    "                            if (\n",
    "                                c_hasest[uid][max(time - 1, 0)] == -1\n",
    "                                or c_hasest[uid][min(time + 1, 23)] == -1\n",
    "                            ):\n",
    "                                # t-1 or t+1 has clipped est (both h and c since they couple)\n",
    "                                if c_hasest[uid][max(time - 1, 0)] == -1:\n",
    "                                    reg_x.append([1, 0])\n",
    "                                    reg_y.append([est_c_load[uid][max(time - 1, 0)]])\n",
    "                                    reg_x.append([0, 1])\n",
    "                                    reg_y.append([est_h_load[uid][max(time - 1, 0)]])\n",
    "                                if c_hasest[uid][min(time + 1, 23)] == -1:\n",
    "                                    reg_x.append([1, 0])\n",
    "                                    reg_y.append([est_c_load[uid][min(time + 1, 23)]])\n",
    "                                    reg_x.append([0, 1])\n",
    "                                    reg_y.append([est_h_load[uid][min(time + 1, 23)]])\n",
    "                            self.regr.fit(reg_x, reg_y)\n",
    "                            [[c_load, h_load]] = self.regr.coef_\n",
    "                            c_load = max(0, (h_load * 0.8 - 5) * 0.6 * cop_c)\n",
    "                            # c_load = max(c_load, self.avg_c_load[uid][time])\n",
    "                            ## get results of slope in regr model\n",
    "                        else:  # COP remaining the same (zero)\n",
    "                            h_load = self.avg_h_load[uid][time]\n",
    "                            c_load = self.avg_c_load[uid][time]\n",
    "                            c_hasest[uid][time], h_hasest[uid][time] = 2, 2\n",
    "                        # save load est to buffer\n",
    "                        est_h_load[uid][time] = np.round(h_load, 2)\n",
    "                        est_c_load[uid][time] = np.round(c_load, 2)\n",
    "                    if c_hasest[uid][time] not in [\n",
    "                        0,\n",
    "                        2,\n",
    "                    ]:  # meaning that avg can be updated\n",
    "                        if self.timestep >= 1:\n",
    "                            self.avg_h_load[uid][time] = (\n",
    "                                self.avg_h_load[uid][time] * 0.8 + h_load * 0.2\n",
    "                            )\n",
    "                            self.avg_c_load[uid][time] = (\n",
    "                                self.avg_c_load[uid][time] * 0.8 + c_load * 0.2\n",
    "                            )\n",
    "                        else:\n",
    "                            self.avg_h_load[uid][time] = h_load\n",
    "                            self.avg_c_load[uid][time] = c_load\n",
    "\n",
    "                repeat_times += 1 if time == 23 else 0\n",
    "                time = (time + 1) % 24\n",
    "                jump_out = True\n",
    "                for i in range(24):\n",
    "                    if c_hasest[uid][i] == 0 or h_hasest[uid][i] == 0:\n",
    "                        jump_out = False\n",
    "                if jump_out is True:\n",
    "                    self.timestep += 1\n",
    "                    break\n",
    "        return est_h_load, est_c_load\n",
    "\n",
    "        # jumping out criteria: every hour has loads est"
   ]
  },
  {
   "cell_type": "code",
   "execution_count": 20,
   "metadata": {},
   "outputs": [],
   "source": [
    "# Run this again after editing submodules so Colab uses the updated versions\n",
    "from citylearn import CityLearn\n",
    "from pathlib import Path\n",
    "\n",
    "from TD3 import TD3 as Agent\n",
    "\n",
    "import sys\n",
    "import warnings\n",
    "import time\n",
    "\n",
    "if not sys.warnoptions:\n",
    "    warnings.simplefilter(\"ignore\")\n",
    "\n",
    "# Load environment\n",
    "climate_zone = 5\n",
    "params = {\n",
    "    \"data_path\": Path(\"data/Climate_Zone_\" + str(climate_zone)),\n",
    "    \"building_attributes\": \"building_attributes.json\",\n",
    "    \"weather_file\": \"weather_data.csv\",\n",
    "    \"solar_profile\": \"solar_generation_1kW.csv\",\n",
    "    \"carbon_intensity\": \"carbon_intensity.csv\",\n",
    "    \"building_ids\": [\"Building_\" + str(i) for i in [1, 2, 3, 4, 5, 6, 7, 8, 9]],\n",
    "    \"buildings_states_actions\": \"buildings_state_action_space.json\",\n",
    "    \"simulation_period\": (0, 8760 * 4 - 1),\n",
    "    \"cost_function\": [\n",
    "        \"ramping\",\n",
    "        \"1-load_factor\",\n",
    "        \"average_daily_peak\",\n",
    "        \"peak_demand\",\n",
    "        \"net_electricity_consumption\",\n",
    "        \"carbon_emissions\",\n",
    "    ],\n",
    "    \"central_agent\": False,\n",
    "    \"save_memory\": False,\n",
    "}\n",
    "\n",
    "# Contain the lower and upper bounds of the states and actions, to be provided to the agent to normalize the variables between 0 and 1.\n",
    "env = CityLearn(**params)\n",
    "observations_spaces, actions_spaces = env.get_state_action_spaces()\n",
    "\n",
    "# Provides information on Building type, Climate Zone, Annual DHW demand, Annual Cooling Demand, Annual Electricity Demand, Solar Capacity, and correllations among buildings\n",
    "building_info = env.get_building_information()\n",
    "\n",
    "\n",
    "params_agent = {\n",
    "    \"building_ids\": [\"Building_\" + str(i) for i in [1, 2, 3, 4, 5, 6, 7, 8, 9]],\n",
    "    \"buildings_states_actions\": \"buildings_state_action_space.json\",\n",
    "    \"building_info\": building_info,\n",
    "    \"observation_spaces\": observations_spaces,\n",
    "    \"action_spaces\": actions_spaces,\n",
    "}"
   ]
  },
  {
   "cell_type": "code",
   "execution_count": 21,
   "metadata": {},
   "outputs": [],
   "source": [
    "pred = Predictor()"
   ]
  },
  {
   "cell_type": "code",
   "execution_count": 22,
   "metadata": {},
   "outputs": [
    {
     "name": "stdout",
     "output_type": "stream",
     "text": [
      "action space:  [Box(3,), Box(3,), Box(3,), Box(3,), Box(3,), Box(3,), Box(3,), Box(3,), Box(3,)]\n"
     ]
    }
   ],
   "source": [
    "agents = RBC(actions_spaces)\n",
    "print(\"action space: \", actions_spaces)\n",
    "state = env.reset()  # hour 0\n",
    "done = False\n",
    "# test for RBC\n",
    "action = agents.select_action(state)  # action for hour 0\n",
    "pred.record_dic(state, action, reward)"
   ]
  },
  {
   "cell_type": "code",
   "execution_count": 23,
   "metadata": {
    "scrolled": true
   },
   "outputs": [
    {
     "name": "stdout",
     "output_type": "stream",
     "text": [
      "day:  2\n"
     ]
    }
   ],
   "source": [
    "t_idx = 0\n",
    "while not done and t_idx < 48:\n",
    "    # prev_hour_est_b = False if prev_hour_est_b is None else prev_hour_est_b\n",
    "    next_state, reward, done, _ = env.step(action)  # execution of hour 0\n",
    "    action_next = agents.select_action(next_state)\n",
    "    state = next_state\n",
    "    action = action_next\n",
    "    pred.record_dic(state, action, reward)\n",
    "    if env.time_step % 24 == 0 and env.time_step > 24 :\n",
    "        print(\"day: \", env.time_step // 24)\n",
    "        est_h, est_c = pred.infer_load()\n",
    "        ## dump data into buffer\n",
    "    t_idx += 1\n",
    "    "
   ]
  },
  {
   "cell_type": "code",
   "execution_count": 67,
   "metadata": {},
   "outputs": [
    {
     "data": {
      "text/plain": [
       "'0.24.2'"
      ]
     },
     "execution_count": 67,
     "metadata": {},
     "output_type": "execute_result"
    }
   ],
   "source": [
    "import sklearn\n",
    "sklearn.__version__"
   ]
  },
  {
   "cell_type": "markdown",
   "metadata": {},
   "source": [
    "## Parsing data"
   ]
  },
  {
   "cell_type": "code",
   "execution_count": 52,
   "metadata": {},
   "outputs": [
    {
     "data": {
      "text/plain": [
       "(9,)"
      ]
     },
     "execution_count": 52,
     "metadata": {},
     "output_type": "execute_result"
    }
   ],
   "source": [
    "H_max.shape"
   ]
  },
  {
   "cell_type": "code",
   "execution_count": 60,
   "metadata": {},
   "outputs": [],
   "source": [
    "x = np.repeat(H_max, 24).reshape(24, 9)"
   ]
  },
  {
   "cell_type": "code",
   "execution_count": 25,
   "metadata": {},
   "outputs": [
    {
     "data": {
      "text/plain": [
       "(1, 9)"
      ]
     },
     "execution_count": 25,
     "metadata": {},
     "output_type": "execute_result"
    }
   ],
   "source": [
    "E_ns = np.array(pred.state_buffer.get(-1)[\"elec_cons\"]) # net electricity consumption -2 to -1\n",
    "E_ns.shape"
   ]
  },
  {
   "cell_type": "code",
   "execution_count": 26,
   "metadata": {},
   "outputs": [
    {
     "data": {
      "text/plain": [
       "(24, 9)"
      ]
     },
     "execution_count": 26,
     "metadata": {},
     "output_type": "execute_result"
    }
   ],
   "source": [
    "H_bd = np.array([est_h[key] for key in pred.building_ids]).T\n",
    "H_bd.shape"
   ]
  },
  {
   "cell_type": "code",
   "execution_count": 27,
   "metadata": {},
   "outputs": [
    {
     "data": {
      "text/plain": [
       "(24, 9)"
      ]
     },
     "execution_count": 27,
     "metadata": {},
     "output_type": "execute_result"
    }
   ],
   "source": [
    "C_bd = np.array([est_c[key] for key in pred.building_ids]).T\n",
    "C_bd.shape"
   ]
  },
  {
   "cell_type": "code",
   "execution_count": 28,
   "metadata": {},
   "outputs": [
    {
     "data": {
      "text/plain": [
       "(9,)"
      ]
     },
     "execution_count": 28,
     "metadata": {},
     "output_type": "execute_result"
    }
   ],
   "source": [
    "H_max = None # load previous H_max\n",
    "if H_max is None:\n",
    "    H_max = np.max(H_bd, axis=0)\n",
    "else:\n",
    "    H_max = np.max([H_max, H_bd.max(axis=0)], axis=0) # global max\n",
    "H_max.shape # change optimization dimensions"
   ]
  },
  {
   "cell_type": "code",
   "execution_count": 29,
   "metadata": {},
   "outputs": [
    {
     "data": {
      "text/plain": [
       "(9,)"
      ]
     },
     "execution_count": 29,
     "metadata": {},
     "output_type": "execute_result"
    }
   ],
   "source": [
    "C_max = None # load previous C_max\n",
    "if C_max is None:\n",
    "    C_max = np.max(C_bd, axis=0)\n",
    "else:\n",
    "    H_max = np.max([C_max, C_bd.max(axis=0)], axis=0) # global max\n",
    "C_max.shape # change optimization dimensions"
   ]
  },
  {
   "cell_type": "code",
   "execution_count": 34,
   "metadata": {},
   "outputs": [
    {
     "data": {
      "text/plain": [
       "(24, 9)"
      ]
     },
     "execution_count": 34,
     "metadata": {},
     "output_type": "execute_result"
    }
   ],
   "source": [
    "E_pv = np.array(pred.state_buffer.get(-2)[\"solar_gen\"]) # solar energy -2 to -1\n",
    "E_pv.shape"
   ]
  },
  {
   "cell_type": "code",
   "execution_count": 35,
   "metadata": {},
   "outputs": [
    {
     "data": {
      "text/plain": [
       "(24, 9)"
      ]
     },
     "execution_count": 35,
     "metadata": {},
     "output_type": "execute_result"
    }
   ],
   "source": [
    "temp = np.array(pred.state_buffer.get(-2)[\"t_out\"]) # 24, 9 intermediate value\n",
    "COP_C = np.zeros((24, len(pred.building_ids)))\n",
    "for hour in range(24):\n",
    "    for bid in pred.building_ids:\n",
    "        COP_C[hour, bid] = pred.cop_cal(temp[hour, bid])\n",
    "COP_C.shape"
   ]
  },
  {
   "cell_type": "code",
   "execution_count": 36,
   "metadata": {},
   "outputs": [
    {
     "data": {
      "text/plain": [
       "(9,)"
      ]
     },
     "execution_count": 36,
     "metadata": {},
     "output_type": "execute_result"
    }
   ],
   "source": [
    "E_hpC_max = np.max(C_bd / COP_C, axis=0)\n",
    "E_hpC_max.shape"
   ]
  },
  {
   "cell_type": "code",
   "execution_count": 37,
   "metadata": {
    "scrolled": true
   },
   "outputs": [
    {
     "data": {
      "text/plain": [
       "(9,)"
      ]
     },
     "execution_count": 37,
     "metadata": {},
     "output_type": "execute_result"
    }
   ],
   "source": [
    "E_ehH_max = H_max / 0.9\n",
    "E_ehH_max.shape"
   ]
  },
  {
   "cell_type": "code",
   "execution_count": 38,
   "metadata": {},
   "outputs": [
    {
     "data": {
      "text/plain": [
       "(24, 9)"
      ]
     },
     "execution_count": 38,
     "metadata": {},
     "output_type": "execute_result"
    }
   ],
   "source": [
    "C_p_bat = np.full((24, len(pred.building_ids)), fill_value=60)\n",
    "C_p_bat.shape"
   ]
  },
  {
   "cell_type": "code",
   "execution_count": 39,
   "metadata": {},
   "outputs": [
    {
     "data": {
      "text/plain": [
       "(24, 9)"
      ]
     },
     "execution_count": 39,
     "metadata": {},
     "output_type": "execute_result"
    }
   ],
   "source": [
    "c_bat_init = np.array(pred.state_buffer.get(-2)[\"soc_b\"]) / C_p_bat # -2 to -1 (confirm)\n",
    "c_bat_init[c_bat_init == np.inf] = 0\n",
    "c_bat_init.shape"
   ]
  },
  {
   "cell_type": "code",
   "execution_count": 40,
   "metadata": {},
   "outputs": [
    {
     "data": {
      "text/plain": [
       "(9,)"
      ]
     },
     "execution_count": 40,
     "metadata": {},
     "output_type": "execute_result"
    }
   ],
   "source": [
    "C_p_Hsto = 3 * H_max\n",
    "C_p_Hsto.shape"
   ]
  },
  {
   "cell_type": "code",
   "execution_count": 41,
   "metadata": {},
   "outputs": [
    {
     "data": {
      "text/plain": [
       "(24, 9)"
      ]
     },
     "execution_count": 41,
     "metadata": {},
     "output_type": "execute_result"
    }
   ],
   "source": [
    "c_Hsto_init = np.array(pred.state_buffer.get(-2)[\"soc_h\"]) / C_p_Hsto # -2 to -1 (confirm)\n",
    "c_Hsto_init[c_Hsto_init == np.inf] = 0\n",
    "c_Hsto_init.shape"
   ]
  },
  {
   "cell_type": "code",
   "execution_count": 42,
   "metadata": {},
   "outputs": [
    {
     "data": {
      "text/plain": [
       "(9,)"
      ]
     },
     "execution_count": 42,
     "metadata": {},
     "output_type": "execute_result"
    }
   ],
   "source": [
    "C_p_Csto = 2 * C_max\n",
    "C_p_Csto.shape"
   ]
  },
  {
   "cell_type": "code",
   "execution_count": 44,
   "metadata": {},
   "outputs": [
    {
     "data": {
      "text/plain": [
       "(24, 9)"
      ]
     },
     "execution_count": 44,
     "metadata": {},
     "output_type": "execute_result"
    }
   ],
   "source": [
    "c_Csto_init = np.array(pred.state_buffer.get(-2)[\"soc_c\"]) / C_p_Csto # -2 to -1 (confirm)\n",
    "c_Csto_init[c_Csto_init == np.inf] = 0\n",
    "c_Csto_init.shape"
   ]
  }
 ],
 "metadata": {
  "kernelspec": {
   "display_name": "Python 3",
   "language": "python",
   "name": "python3"
  },
  "language_info": {
   "codemirror_mode": {
    "name": "ipython",
    "version": 3
   },
   "file_extension": ".py",
   "mimetype": "text/x-python",
   "name": "python",
   "nbconvert_exporter": "python",
   "pygments_lexer": "ipython3",
   "version": "3.7.6"
  }
 },
 "nbformat": 4,
 "nbformat_minor": 4
}
