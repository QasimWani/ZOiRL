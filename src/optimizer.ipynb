{
 "cells": [
  {
   "cell_type": "code",
   "execution_count": 1,
   "metadata": {},
   "outputs": [],
   "source": [
    "import cvxpy as cp\n",
    "import numpy as np"
   ]
  },
  {
   "cell_type": "markdown",
   "metadata": {},
   "source": [
    "### Objective Function : \n",
    "$$\\left\\{\\sum_{t=1}^{T}{|e\\left(t\\right)-e\\left(t-1\\right)}|\\right\\}+\\left(1-\\frac{L^{Avg}}{L^{Max}}\\right)+{dem}^{peak}+e^{net}+emi$$"
   ]
  },
  {
   "cell_type": "markdown",
   "metadata": {},
   "source": [
    "- $ e(t) = E_t^{NS} + E_t^{bd\\_C} + E_t^{bd\\_DHW} + E_t^{bat} - E_t^{PV}$ <!-- E_t^{PV} : param -->\n",
    "<!-- et =  - E_t^{grid} -->\n",
    "<br>\n",
    "\n",
    "- $ L^{Avg} = \\frac{1}{24}\\sum_{\\tau = t}^{t + 24} e(\\tau) $ <!-- switched to per day, instead of per month -->\n",
    "<br>\n",
    "\n",
    "- $ L^{Max} = \\smash{\\displaystyle\\max_{1 \\leq \\tau \\leq T}} e(\\tau)$\n",
    "<br>\n",
    "\n",
    "- $dem^{peak} = \\smash{\\displaystyle\\max_{\\tau \\in T}} \\> e(\\tau)$\n",
    "<br>\n",
    "\n",
    "- $e^{net} = \\sum_{t = 1}^T \\> e(t) $ <!-- clip to 0 i.e, min(0, e(t)) -->\n",
    "<br>\n",
    "\n",
    "- $emi_t = \\sum_{t = 1}^T  e(t) \\times CI_t $"
   ]
  },
  {
   "cell_type": "markdown",
   "metadata": {},
   "source": [
    "> treat each day as an episode. \n",
    "\n",
    "> L_max => calculate w/ $E^{grid} $. "
   ]
  },
  {
   "cell_type": "markdown",
   "metadata": {},
   "source": [
    "## Constraints:\n",
    "\n",
    "$$ e^{net} \\geq 0 $$\n",
    "\n",
    "$$ E^{NS} + E^{bd\\_C} + E^{bd\\_DHW} + E^{bat} == E^{PV} $$"
   ]
  },
  {
   "cell_type": "markdown",
   "metadata": {},
   "source": [
    "- $ E^{bd\\_C} = E^{hp\\_C} = \\frac{C^{hp}}{COP^C} $\n",
    "<br>\n",
    "\n",
    "- $ E^{bd\\_DHW} = E^{eh\\_H} = \\frac{H^{eh}}{\\text{efficiency}^h} $\n",
    "<br>\n",
    "\n",
    "- $ E^{bat} = charge(\\text{action}\\times \\text{capacity}) $\n",
    "- $ \\text{action} \\in [-1, 1] \\in ℝ $\n",
    "- $ \\text{SOC}_t = \\text{SOC}_{t-1}(1 - loss_{coef}) + \\text{action} \\times \\text{capacity}$\n",
    "- $ charge = \\text{SOC}_t - \\text{SOC}_{t-1}(1 - loss_{coef}) $ <!-- Solve for action -->\n",
    "\n",
    "<!-- capacity needs to be updated every timestep: https://github.com/QasimWani/CityLearn/blob/ffc0584508dc9c796c97e6b908b75380b9bc6606/energy_models.py#L731 -->\n",
    "\n",
    "<br>\n",
    "\n",
    "- $ E^{grid} = \\text{nominal power} $  <!-- nominal power is param -->\n",
    "<br>"
   ]
  },
  {
   "cell_type": "markdown",
   "metadata": {},
   "source": [
    "$$  H^{eh} == H^{STO} + H^{bd} $$\n",
    "<!-- All 3 params -->\n",
    "\n",
    "<!-- H^bd is param -->\n",
    "<!-- H^STO depends on action (https://github.com/QasimWani/CityLearn/blob/ffc0584508dc9c796c97e6b908b75380b9bc6606/energy_models.py#L123) -->\n",
    "\n",
    "- $ H^{STO} = \\text{depends on action} $\n",
    "\n",
    "<!-- $ H^{hp} = E^{hp\\_h} + COP^H $ treat H^hp as param. don't define it in terms of LHS -->\n",
    "<!-- H^eh is param (defined https://github.com/QasimWani/CityLearn/blob/ffc0584508dc9c796c97e6b908b75380b9bc6606/energy_models.py#L515) -->"
   ]
  },
  {
   "cell_type": "markdown",
   "metadata": {},
   "source": [
    "$$ C^{hp} == C^{bd} + C_{toSTO}^{dev} - C^{STO} $$"
   ]
  },
  {
   "cell_type": "markdown",
   "metadata": {},
   "source": [
    "<!-- C^bd is param -->\n",
    "- $ C^{dev} = C^{hp}  $ <!-- C^hp is param -->\n",
    "<br>\n",
    "\n",
    "- $ C^{STO} = \\text{depends on action} $ <!-- treat as param -->\n",
    "<!-- How is C_{toSTO} different from C^{sto} -->"
   ]
  },
  {
   "cell_type": "markdown",
   "metadata": {},
   "source": [
    "### Variables\n",
    "\n",
    "<ol>\n",
    "    <li>$ E^{bat}$ </li>\n",
    "    <li>$ H^{STO}$ </li>\n",
    "    <li>$ C^{STO}$ </li>\n",
    "</ol>"
   ]
  },
  {
   "cell_type": "markdown",
   "metadata": {},
   "source": [
    "### Optimization"
   ]
  },
  {
   "cell_type": "code",
   "execution_count": 2,
   "metadata": {},
   "outputs": [],
   "source": [
    "get_data = lambda x : np.random.rand(x) #returns random data of shape `x`"
   ]
  },
  {
   "cell_type": "code",
   "execution_count": 3,
   "metadata": {},
   "outputs": [],
   "source": [
    "e_tau = lambda a, b, c, d, e : a + b + c + d - e #follow order from Obj. function (above)"
   ]
  },
  {
   "cell_type": "code",
   "execution_count": 4,
   "metadata": {},
   "outputs": [],
   "source": [
    "#define parameters and variables\n",
    "constraints = []\n",
    "\n",
    "#define timesteps\n",
    "T = 24#*365*4\n",
    "window = 24\n",
    "\n",
    "#define misc. params \n",
    "CI = cp.Parameter(name='CI', shape=(T), value=get_data(T)) #carbon intensity\n",
    "\n",
    "#heating\n",
    "H_sto = cp.Variable(name='H^STO', shape=(T)) \n",
    "H_bd = cp.Parameter(name='H^bd', shape=(T), value=get_data(T))\n",
    "H_eh = cp.Parameter(name='H^eh', shape=(T), value=get_data(T))\n",
    "efficiency_h = cp.Parameter(name='eff^h', shape=(1), value=get_data(1)) #every building has different value\n",
    "\n",
    "constraints.append(H_eh == H_sto + H_bd) #H_eh = H_sto + H_bd\n",
    "\n",
    "#cooling\n",
    "C_sto = cp.Variable(name='C^STO', shape=(T))\n",
    "C_bd = cp.Parameter(name='C^bd', shape=(T), value=get_data(T))\n",
    "C_dev = cp.Parameter(name='C^dev_toStorage', shape=(T), value=get_data(T))\n",
    "COP_C = cp.Parameter(name='COP^C', shape=(T), value=get_data(T))\n",
    "C_hp = cp.Parameter(name='C^hp', shape=(T), value=get_data(T))\n",
    "\n",
    "constraints.append(C_hp == C_bd + C_dev - C_sto) #C_hp = C_bd + C_dev - C_sto\n",
    "\n",
    "#electricity\n",
    "E_bat = cp.Variable(name='E^bat', shape=(T))\n",
    "E_ns = cp.Parameter(name='E^NS', shape=(T), value=get_data(T))\n",
    "E_bd_C =  C_hp / COP_C\n",
    "E_bd_dhw = H_eh / efficiency_h\n",
    "E_pv = cp.Parameter(name='E^pv', shape=(T), value=get_data(T))\n",
    "\n",
    "constraints.append(E_ns + E_bd_C + E_bd_dhw + E_bat == E_pv )"
   ]
  },
  {
   "cell_type": "code",
   "execution_count": 5,
   "metadata": {},
   "outputs": [],
   "source": [
    "#define objective function\n",
    "costs = []\n",
    "\n",
    "ramping = []\n",
    "for i in range(1, T):\n",
    "    e_t0 = e_tau( E_ns[i], E_bd_C[i], E_bd_dhw[i], E_bat[i], E_pv[i] )\n",
    "    e_t1 = e_tau( E_ns[i - 1], E_bd_C[i - 1], E_bd_dhw[i - 1], E_bat[i - 1], E_pv[i - 1] )\n",
    "    ramping.append( cp.abs(e_t0 - e_t1) )\n",
    "    \n",
    "ramping = cp.atoms.affine.add_expr.AddExpression(np.hstack(ramping))\n",
    "\n",
    "# 1-load_factor\n",
    "l_avg = cp.sum( e_tau(E_ns[:window], E_bd_C[:window], E_bd_dhw[:window], 0, E_pv[:window]) ) / window\n",
    "l_max = cp.atoms.maximum( *e_tau(E_ns, E_bd_C, E_bd_dhw, E_bat, E_pv) )\n",
    "\n",
    "load_factor = 1 + l_max / l_avg.value\n",
    "\n",
    "dem_peak = l_max #replace with overall time horizon (4yrs) -- need confirmation on functionality\n",
    "\n",
    "e_net = e_tau(E_ns, E_bd_C, E_bd_dhw, E_bat, E_pv)\n",
    "\n",
    "emi = cp.atoms.affine.binary_operators.MulExpression(e_net, CI)\n",
    "\n",
    "constraints.append(e_net >= 0)\n",
    "\n",
    "e_net = cp.sum(e_net)\n",
    "\n",
    "\n",
    "costs.append( ramping + load_factor + dem_peak + e_net + emi )"
   ]
  },
  {
   "cell_type": "code",
   "execution_count": 6,
   "metadata": {},
   "outputs": [
    {
     "name": "stderr",
     "output_type": "stream",
     "text": [
      "/Users/qasimwani/opt/anaconda3/lib/python3.7/site-packages/cvxpy/reductions/solvers/solving_chain.py:167: UserWarning: You are solving a parameterized problem that is not DPP. Because the problem is not DPP, subsequent solves will not be faster than the first one. For more information, see the documentation on Discplined Parametrized Programming, at\n",
      "\thttps://www.cvxpy.org/tutorial/advanced/index.html#disciplined-parametrized-programming\n",
      "  warnings.warn(dpp_error_msg)\n"
     ]
    },
    {
     "data": {
      "text/plain": [
       "1.0000000000556095"
      ]
     },
     "execution_count": 6,
     "metadata": {},
     "output_type": "execute_result"
    }
   ],
   "source": [
    "# Form objective.\n",
    "obj = cp.Minimize(*costs)\n",
    "\n",
    "# Form and solve problem.\n",
    "prob = cp.Problem(obj, constraints)\n",
    "prob.solve()  # Returns the optimal value."
   ]
  },
  {
   "cell_type": "code",
   "execution_count": 7,
   "metadata": {},
   "outputs": [
    {
     "name": "stdout",
     "output_type": "stream",
     "text": [
      "status: optimal\n",
      "optimal value 1.0000000000556095\n",
      "optimal var:\n",
      "E^bat [ -3.66  -0.57  -1.96  -2.2  -10.35  -3.39  -9.24  -1.06  -3.17  -2.78\n",
      "  -1.28  -4.44  -3.22  -3.82  -1.39  -2.33  -5.58  -3.83  -2.7   -5.5\n",
      "  -2.76  -2.68 -63.71  -4.29] \n",
      "\n",
      "H^STO [-0.21 -0.65  0.1   0.11 -0.45  0.48  0.49 -0.38  0.07  0.16 -0.34  0.3\n",
      "  0.17  0.39 -0.64 -0.09 -0.33  0.02  0.16  0.17  0.05 -0.44 -0.33  0.73] \n",
      "\n",
      "C^STO [-0.01  0.71  0.43  1.13  0.42  0.78 -0.42  1.41  0.81  0.71  1.36  0.57\n",
      "  0.66 -0.01  0.25  0.17  0.09 -0.16  0.16  0.96  0.18  0.6   0.39  0.96] \n",
      "\n"
     ]
    }
   ],
   "source": [
    "print(\"status:\", prob.status)\n",
    "print(\"optimal value\", prob.value)\n",
    "print(\"optimal var:\")\n",
    "for var in prob.variables():\n",
    "    print(var.name(), np.round(var.value, 2), '\\n')"
   ]
  },
  {
   "cell_type": "markdown",
   "metadata": {},
   "source": [
    "### Convert vars into action for cooling, heating, and storage"
   ]
  },
  {
   "cell_type": "code",
   "execution_count": 8,
   "metadata": {},
   "outputs": [],
   "source": [
    "# class MyProblem(self, n, ...):\n",
    "#     self._var = Variable(n)\n",
    "#     self.param = Parameter(n)\n",
    "\n",
    "#     costs = #Some complex convex function of var and param\n",
    "#     self._problem = Problem(Minimize(costs), constraints)\n",
    "\n",
    "#     def solve(self):\n",
    "#         self._problem.solve()\n",
    "#         return self._target\n",
    "\n",
    "# problem = MyProblem(4, ...)\n",
    "# for param_value in param_values:\n",
    "#     problem.param.value = param_value\n",
    "#     answer = problem.solve()"
   ]
  }
 ],
 "metadata": {
  "kernelspec": {
   "display_name": "Python 3",
   "language": "python",
   "name": "python3"
  },
  "language_info": {
   "codemirror_mode": {
    "name": "ipython",
    "version": 3
   },
   "file_extension": ".py",
   "mimetype": "text/x-python",
   "name": "python",
   "nbconvert_exporter": "python",
   "pygments_lexer": "ipython3",
   "version": "3.7.6"
  }
 },
 "nbformat": 4,
 "nbformat_minor": 4
}
